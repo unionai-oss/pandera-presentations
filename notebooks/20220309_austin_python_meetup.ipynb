{
 "cells": [
  {
   "cell_type": "markdown",
   "id": "464d3679",
   "metadata": {
    "slideshow": {
     "slide_type": "slide"
    }
   },
   "source": [
    "\n",
    "# Pandera: A Statistical Typing and Data Testing Toolkit for Dataframe-like Objects\n",
    "\n",
    "### Niels Bantilan\n",
    "\n",
    "Austin Python Meetup, March 9th 2022"
   ]
  },
  {
   "cell_type": "code",
   "execution_count": null,
   "id": "62c6f1a5",
   "metadata": {
    "jupyter": {
     "source_hidden": true
    },
    "tags": [
     "hide_input",
     "hide_output"
    ]
   },
   "outputs": [],
   "source": [
    "import warnings\n",
    "\n",
    "warnings.simplefilter(\"ignore\")\n",
    "\n",
    "import pandera as pa"
   ]
  },
  {
   "cell_type": "markdown",
   "id": "bd7a44df",
   "metadata": {
    "slideshow": {
     "slide_type": "slide"
    }
   },
   "source": [
    "# Background 🏞\n",
    "\n",
    "- 📜 B.A. in Biology and Dance\n",
    "- 📜 M.P.H. in Sociomedical Science and Public Health Informatics\n",
    "- 🤖 Machine Learning Engineer @ Union.ai\n",
    "- 🛩 Flytekit OSS Maintainer\n",
    "- ✅ Author and Maintainer of Pandera\n",
    "- 🛠 Make DS/ML practitioners more productive"
   ]
  },
  {
   "cell_type": "markdown",
   "id": "bf015285",
   "metadata": {
    "slideshow": {
     "slide_type": "slide"
    }
   },
   "source": [
    "# Outline 📝\n",
    "\n",
    "- 🤔 What's Data Testing?\n",
    "- ✅ Pandera Quickstart\n",
    "- 🚦 Guiding Principles\n",
    "- 🏔 Scaling Pandera\n",
    "- ⌨️ Statistical Typing\n",
    "- 🛣 Future Roadmap"
   ]
  },
  {
   "cell_type": "markdown",
   "id": "a7b252e9",
   "metadata": {
    "slideshow": {
     "slide_type": "slide"
    }
   },
   "source": [
    "# 🤔 What's Data Testing?\n",
    "\n",
    "> Validating not only real data, but also the functions that produce them."
   ]
  },
  {
   "cell_type": "markdown",
   "id": "66abb63f",
   "metadata": {
    "lines_to_next_cell": 2,
    "slideshow": {
     "slide_type": "slide"
    }
   },
   "source": [
    "\n",
    "#### In the Real World 🌍\n",
    "\n",
    "Data tests validate real data"
   ]
  },
  {
   "cell_type": "raw",
   "id": "4ac4c65c",
   "metadata": {},
   "source": [
    "<div class=\"mermaid\">\n",
    "graph LR\n",
    "    R[(raw data)] --> RS([raw schema])\n",
    "    RS --> TF[transform function]\n",
    "    TF --> TS([transformed schema])\n",
    "    TS --> T[(transformed data)]\n",
    "\n",
    "    style RS fill:#8bedc6,stroke:#333\n",
    "    style TS fill:#8bedc6,stroke:#333\n",
    "</div>"
   ]
  },
  {
   "cell_type": "markdown",
   "id": "abc79d7c",
   "metadata": {
    "slideshow": {
     "slide_type": "slide"
    }
   },
   "source": [
    "\n",
    "#### In the Test Suite 🧪\n",
    "\n",
    "Data tests validate functions that produce data, given some test cases"
   ]
  },
  {
   "cell_type": "raw",
   "id": "ecffddb5",
   "metadata": {
    "lines_to_next_cell": 2
   },
   "source": [
    "<div class=\"mermaid\">\n",
    "graph LR\n",
    "    G([raw schema]) --> T1[(test case 1)]\n",
    "    G --> T2[(test case 2)]\n",
    "    G --> TN[(test case n)]\n",
    "\n",
    "    T1 --> TF[transform function]\n",
    "    T2 --> TF\n",
    "    TN --> TF\n",
    "    TF --> TS([transformed schema])\n",
    "    TS --> T[(transformed data)]\n",
    "\n",
    "    style G fill:#8bedc6,stroke:#333\n",
    "    style TS fill:#8bedc6,stroke:#333\n",
    "</div>"
   ]
  },
  {
   "cell_type": "markdown",
   "id": "bd1975c7",
   "metadata": {
    "slideshow": {
     "slide_type": "slide"
    }
   },
   "source": [
    "### A Simple Example: Life Before Pandera\n",
    "\n",
    "`data_cleaner.py`"
   ]
  },
  {
   "cell_type": "code",
   "execution_count": null,
   "id": "5ef359c9",
   "metadata": {
    "lines_to_next_cell": 1,
    "tags": []
   },
   "outputs": [],
   "source": [
    "import pandas as pd\n",
    "\n",
    "raw_data = pd.DataFrame({\n",
    "    \"continuous\": [\"-1.1\", \"4.0\", \"10.25\", \"-0.1\", \"5.2\"],\n",
    "    \"categorical\": [\"A\", \"B\", \"C\", \"Z\", \"X\"],\n",
    "})\n",
    "\n",
    "def clean(raw_data):\n",
    "    # do some cleaning 🧹✨\n",
    "    clean_data = ...\n",
    "    return clean_data"
   ]
  },
  {
   "cell_type": "markdown",
   "id": "1d17a92c",
   "metadata": {
    "slideshow": {
     "slide_type": "slide"
    }
   },
   "source": [
    "`test_data_cleaner.py`"
   ]
  },
  {
   "cell_type": "code",
   "execution_count": null,
   "id": "ccdd60a2",
   "metadata": {},
   "outputs": [],
   "source": [
    "import pytest\n",
    "\n",
    "def test_clean():\n",
    "    # assumptions about valid data\n",
    "    mock_raw_data = pd.DataFrame({\"continuous\": [\"1.0\", \"-5.1\"], \"categorical\": [\"X\", \"A\"]})\n",
    "    result = clean(mock_raw_data)\n",
    "    \n",
    "    # check that the result contains nulls\n",
    "    assert result.isna().any(axis=\"columns\").all()\n",
    "\n",
    "    # check data types of each column\n",
    "    assert result[\"continuous\"].dtype == float\n",
    "    assert result[\"categorical\"].dtype == object\n",
    "    \n",
    "    # check that non-null values have expected properties\n",
    "    assert result[\"continuous\"].dropna().ge(0).all()\n",
    "    assert result[\"categorical\"].dropna().isin([\"A\", \"B\", \"C\"]).all()\n",
    "    \n",
    "    # assumptions about invalid data\n",
    "    with pytest.raises(KeyError):\n",
    "        invalid_mock_raw_data = pd.DataFrame({\"categorical\": [\"A\"]})\n",
    "        clean(invalid_mock_raw_data)\n",
    "    print(\"tests pass! ✅\")"
   ]
  },
  {
   "cell_type": "markdown",
   "id": "4e637bc2",
   "metadata": {
    "slideshow": {
     "slide_type": "slide"
    }
   },
   "source": [
    "Let's implement the `clean` function:"
   ]
  },
  {
   "cell_type": "code",
   "execution_count": null,
   "id": "836d2078",
   "metadata": {},
   "outputs": [],
   "source": [
    "def clean(raw_data):\n",
    "    raw_data = pd.DataFrame(raw_data)\n",
    "    # do some cleaning 🧹✨\n",
    "    clean_data = (\n",
    "        raw_data\n",
    "        .astype({\"continuous\": float, \"categorical\": str})\n",
    "        .assign(\n",
    "            continuous=lambda df: df.continuous.mask(df.continuous < 0),\n",
    "            categorical=lambda df: df.categorical.mask(~df.categorical.isin([\"A\", \"B\", \"C\"]))\n",
    "        )\n",
    "    )\n",
    "    return clean_data\n",
    "\n",
    "clean(raw_data)"
   ]
  },
  {
   "cell_type": "code",
   "execution_count": null,
   "id": "b33a627f",
   "metadata": {},
   "outputs": [],
   "source": [
    "test_clean()"
   ]
  },
  {
   "cell_type": "markdown",
   "id": "93371445",
   "metadata": {
    "slideshow": {
     "slide_type": "slide"
    }
   },
   "source": [
    "<img src=\"https://raw.githubusercontent.com/pandera-dev/pandera/master/docs/source/_static/pandera-logo.png\" width=\"125px\" style=\"margin: 0;\"/>\n",
    "\n",
    "<h2 style=\"margin-top: 0;\">Pandera Quickstart</h2>\n",
    "\n",
    "An expressive and light-weight statistical validation tool for dataframes\n",
    "\n",
    "- Check the types and properties of dataframes\n",
    "- Easily integrate with existing data pipelines via function decorators\n",
    "- Synthesize data from schema objects for property-based testing"
   ]
  },
  {
   "cell_type": "markdown",
   "id": "b515d124",
   "metadata": {
    "slideshow": {
     "slide_type": "slide"
    }
   },
   "source": [
    "#### Object-based API\n",
    "\n",
    "Defining a schema looks and feels like defining a pandas dataframe"
   ]
  },
  {
   "cell_type": "code",
   "execution_count": null,
   "id": "d9b70db9",
   "metadata": {},
   "outputs": [],
   "source": [
    "import pandera as pa\n",
    "\n",
    "clean_data_schema = pa.DataFrameSchema(\n",
    "    columns={\n",
    "        \"continuous\": pa.Column(float, pa.Check.ge(0), nullable=True),\n",
    "        \"categorical\": pa.Column(str, pa.Check.isin([\"A\", \"B\", \"C\"]), nullable=True),\n",
    "    },\n",
    "    coerce=True,\n",
    ")"
   ]
  },
  {
   "cell_type": "markdown",
   "id": "e54380be",
   "metadata": {
    "slideshow": {
     "slide_type": "fragment"
    }
   },
   "source": [
    "#### Class-based API\n",
    "\n",
    "Complex Types with Modern Python, Inspired by [pydantic](https://pydantic-docs.helpmanual.io/) and `dataclasses`"
   ]
  },
  {
   "cell_type": "code",
   "execution_count": null,
   "id": "3852b960",
   "metadata": {
    "lines_to_next_cell": 1
   },
   "outputs": [],
   "source": [
    "from pandera.typing import Series\n",
    "\n",
    "class CleanData(pa.SchemaModel):\n",
    "    continuous: Series[float] = pa.Field(ge=0)\n",
    "    categorical: Series[str] = pa.Field(isin=[\"A\", \"B\", \"C\"])\n",
    "\n",
    "    class Config:\n",
    "        coerce = True"
   ]
  },
  {
   "cell_type": "markdown",
   "id": "f14244e9",
   "metadata": {
    "slideshow": {
     "slide_type": "notes"
    }
   },
   "source": [
    "Pandera comes in two flavors"
   ]
  },
  {
   "cell_type": "markdown",
   "id": "2018bc2d",
   "metadata": {
    "slideshow": {
     "slide_type": "slide"
    }
   },
   "source": [
    "#### Pandera Raises Informative Errors\n",
    "\n",
    "Know Exactly What Went Wrong with Your Data"
   ]
  },
  {
   "cell_type": "code",
   "execution_count": null,
   "id": "e6404b5c",
   "metadata": {
    "lines_to_next_cell": 2,
    "tags": []
   },
   "outputs": [],
   "source": [
    "raw_data = pd.DataFrame({\n",
    "    \"continuous\": [\"-1.1\", \"4.0\", \"10.25\", \"-0.1\", \"5.2\"],\n",
    "    \"categorical\": [\"A\", \"B\", \"C\", \"Z\", \"X\"],\n",
    "})\n",
    "\n",
    "try:\n",
    "    CleanData.validate(raw_data, lazy=True)\n",
    "except pa.errors.SchemaErrors as exc:\n",
    "    display(exc.failure_cases)"
   ]
  },
  {
   "cell_type": "markdown",
   "id": "20e98e7e",
   "metadata": {
    "slideshow": {
     "slide_type": "slide"
    },
    "tags": []
   },
   "source": [
    "#### Meta: This presentation notebook is validated by pandera!"
   ]
  },
  {
   "cell_type": "markdown",
   "id": "7b4948f7",
   "metadata": {
    "tags": []
   },
   "source": [
    "![mindblown](https://media.giphy.com/media/xT0xeJpnrWC4XWblEk/giphy-downsized-large.gif)"
   ]
  },
  {
   "cell_type": "markdown",
   "id": "3cbb8729",
   "metadata": {
    "slideshow": {
     "slide_type": "slide"
    }
   },
   "source": [
    "## 🚦 Guiding Principles\n",
    "\n",
    "### A Simple Example: Life After Pandera\n",
    "\n",
    "Let's define the types of the dataframes that we expect to see."
   ]
  },
  {
   "cell_type": "markdown",
   "id": "e0c0a793",
   "metadata": {},
   "source": [
    "Here's `data_cleaner.py` again:"
   ]
  },
  {
   "cell_type": "code",
   "execution_count": null,
   "id": "978ef6ed",
   "metadata": {
    "lines_to_next_cell": 1
   },
   "outputs": [],
   "source": [
    "import pandera as pa\n",
    "from pandera.typing import DataFrame, Series\n",
    "\n",
    "class RawData(pa.SchemaModel):\n",
    "    continuous: Series[float]\n",
    "    categorical: Series[str]\n",
    "\n",
    "    class Config:\n",
    "        coerce = True\n",
    "\n",
    "\n",
    "class CleanData(RawData):\n",
    "    continuous = pa.Field(ge=0, nullable=True)\n",
    "    categorical = pa.Field(isin=[*\"ABC\"], nullable=True)"
   ]
  },
  {
   "cell_type": "markdown",
   "id": "748e70af",
   "metadata": {
    "slideshow": {
     "slide_type": "slide"
    }
   },
   "source": [
    "#### Parse, then Validate\n",
    "\n",
    "Pandera guarantees that input and output dataframes fulfill the types and\n",
    "constraints as defined by type annotations"
   ]
  },
  {
   "cell_type": "code",
   "execution_count": null,
   "id": "0b9f6f08",
   "metadata": {},
   "outputs": [],
   "source": [
    "@pa.check_types\n",
    "def clean(raw_data: DataFrame[RawData]) -> DataFrame[CleanData]:\n",
    "    return raw_data.assign(\n",
    "        continuous=lambda df: df.continuous.mask(df.continuous < 0),\n",
    "        categorical=lambda df: df.categorical.mask(~df.categorical.isin([\"A\", \"B\", \"C\"]))\n",
    "    )"
   ]
  },
  {
   "cell_type": "code",
   "execution_count": null,
   "id": "5863c241",
   "metadata": {},
   "outputs": [],
   "source": [
    "clean(raw_data)"
   ]
  },
  {
   "cell_type": "markdown",
   "id": "a706abfd",
   "metadata": {
    "slideshow": {
     "slide_type": "slide"
    }
   },
   "source": [
    "`test_data_cleaner.py`"
   ]
  },
  {
   "cell_type": "code",
   "execution_count": null,
   "id": "9ff8bf32",
   "metadata": {},
   "outputs": [],
   "source": [
    "def test_clean():\n",
    "    # assumptions about valid data\n",
    "    mock_raw_data = pd.DataFrame({\"continuous\": [\"1.0\", \"-5.1\"], \"categorical\": [\"X\", \"A\"]})\n",
    "    \n",
    "    # the assertions about the resulting data reduces to an execution test!\n",
    "    clean(mock_raw_data)\n",
    "    \n",
    "    # assumptions about invalid data\n",
    "    with pytest.raises(pa.errors.SchemaError):\n",
    "        invalid_mock_raw_data = pd.DataFrame({\"categorical\": [\"A\"]})\n",
    "        clean(invalid_mock_raw_data)\n",
    "    print(\"tests pass! ✅\")"
   ]
  },
  {
   "cell_type": "code",
   "execution_count": null,
   "id": "4655da73",
   "metadata": {
    "tags": []
   },
   "outputs": [],
   "source": [
    "test_clean()"
   ]
  },
  {
   "cell_type": "markdown",
   "id": "83201aa8",
   "metadata": {
    "slideshow": {
     "slide_type": "slide"
    }
   },
   "source": [
    "#### Maximize Reusability and Adaptability\n",
    "\n",
    "Once you've defined a schema, you can import it in other parts of your code\n",
    "base, like your test suite!"
   ]
  },
  {
   "cell_type": "code",
   "execution_count": null,
   "id": "ee73d7cd",
   "metadata": {},
   "outputs": [],
   "source": [
    "# data_cleaner.py\n",
    "def clean(raw_data: DataFrame[RawData]) -> DataFrame[CleanData]:\n",
    "    return raw_data.assign(\n",
    "        continuous=lambda df: df.continuous.mask(df.continuous < 0),\n",
    "        categorical=lambda df: df.categorical.mask(~df.categorical.isin([\"A\", \"B\", \"C\"]))\n",
    "    )\n",
    "\n",
    "# test_data_cleaner.py\n",
    "def test_clean():\n",
    "    # assumptions about valid data\n",
    "    mock_raw_data = RawData(pd.DataFrame({\"continuous\": [\"1.0\", \"-5.1\"], \"categorical\": [\"X\", \"A\"]}))\n",
    "    \n",
    "    # the assertions about the resulting data reduces to an execution test!\n",
    "    CleanData(clean(mock_raw_data))\n",
    "    \n",
    "    # assumptions about invalid data\n",
    "    with pytest.raises(pa.errors.SchemaError):\n",
    "        invalid_mock_raw_data = RawData(pd.DataFrame({\"categorical\": [\"A\"]}))\n",
    "        clean(invalid_mock_raw_data)\n",
    "    print(\"tests pass! ✅\")\n",
    "    \n",
    "test_clean()"
   ]
  },
  {
   "cell_type": "markdown",
   "id": "c144103a",
   "metadata": {
    "slideshow": {
     "slide_type": "slide"
    }
   },
   "source": [
    "You can even represent dataframe joins!"
   ]
  },
  {
   "cell_type": "code",
   "execution_count": null,
   "id": "cb12e706",
   "metadata": {},
   "outputs": [],
   "source": [
    "class CleanData(RawData):\n",
    "    continuous = pa.Field(ge=0, nullable=True)\n",
    "    categorical = pa.Field(isin=[*\"ABC\"], nullable=True)\n",
    "    \n",
    "class SupplementaryData(pa.SchemaModel):\n",
    "    discrete: Series[int] = pa.Field(ge=0, nullable=True)\n",
    "        \n",
    "class JoinedData(CleanData, SupplementaryData): pass\n",
    "\n",
    "\n",
    "clean_data = pd.DataFrame({\"continuous\": [\"1.0\"], \"categorical\": [\"A\"]})\n",
    "supplementary_data = pd.DataFrame({\"discrete\": [1]})\n",
    "JoinedData(clean_data.join(supplementary_data))"
   ]
  },
  {
   "cell_type": "markdown",
   "id": "132560d5",
   "metadata": {
    "slideshow": {
     "slide_type": "slide"
    }
   },
   "source": [
    "#### Bootstrap and Interoperate\n",
    "\n",
    "##### Infer a schema definition from reference data"
   ]
  },
  {
   "cell_type": "code",
   "execution_count": null,
   "id": "526927ad",
   "metadata": {
    "tags": []
   },
   "outputs": [],
   "source": [
    "clean_data = pd.DataFrame({\n",
    "    \"continuous\": range(100),\n",
    "    \"categorical\": [*\"ABCAB\" * 20]\n",
    "})\n",
    "\n",
    "schema = pa.infer_schema(clean_data)\n",
    "print(schema)"
   ]
  },
  {
   "cell_type": "markdown",
   "id": "bb9dc619",
   "metadata": {
    "slideshow": {
     "slide_type": "slide"
    }
   },
   "source": [
    "##### Write it to a yaml file"
   ]
  },
  {
   "cell_type": "code",
   "execution_count": null,
   "id": "942963f6",
   "metadata": {
    "jupyter": {
     "outputs_hidden": true
    },
    "tags": []
   },
   "outputs": [],
   "source": [
    "yaml_schema = schema.to_yaml()\n",
    "print(yaml_schema)"
   ]
  },
  {
   "cell_type": "markdown",
   "id": "c07b974e",
   "metadata": {
    "slideshow": {
     "slide_type": "slide"
    }
   },
   "source": [
    "##### Read it from a yaml file"
   ]
  },
  {
   "cell_type": "code",
   "execution_count": null,
   "id": "964cea8a",
   "metadata": {
    "jupyter": {
     "outputs_hidden": true
    },
    "tags": []
   },
   "outputs": [],
   "source": [
    "print(schema.from_yaml(yaml_schema))"
   ]
  },
  {
   "cell_type": "markdown",
   "id": "7bf3ecfa",
   "metadata": {
    "slideshow": {
     "slide_type": "slide"
    }
   },
   "source": [
    "##### Write it to a python script for further refinement using `schema.to_script()`"
   ]
  },
  {
   "cell_type": "code",
   "execution_count": null,
   "id": "e2b63ea4",
   "metadata": {
    "jupyter": {
     "outputs_hidden": true
    },
    "tags": [
     "hide_input"
    ]
   },
   "outputs": [],
   "source": [
    "from IPython.display import display, Markdown\n",
    "display(Markdown(\n",
    "f\"\"\"\n",
    "```python\n",
    "{schema.to_script()}\n",
    "```\n",
    "\"\"\"\n",
    "))"
   ]
  },
  {
   "cell_type": "markdown",
   "id": "4990fb4b",
   "metadata": {
    "slideshow": {
     "slide_type": "slide"
    }
   },
   "source": [
    "##### Port schema from a [`frictionless`](https://specs.frictionlessdata.io/table-schema/) table schema"
   ]
  },
  {
   "cell_type": "code",
   "execution_count": null,
   "id": "c1a138b0",
   "metadata": {},
   "outputs": [],
   "source": [
    "from pandera.io import from_frictionless_schema\n",
    "\n",
    "frictionless_schema = {\n",
    "    \"fields\": [\n",
    "        {\n",
    "            \"name\": \"continuous\",\n",
    "            \"type\": \"number\",\n",
    "            \"constraints\": {\"minimum\": 0}\n",
    "        },\n",
    "        {\n",
    "            \"name\": \"categorical\",\n",
    "            \"type\": \"string\",\n",
    "            \"constraints\": {\"isin\": [\"A\", \"B\", \"C\"]}\n",
    "        },\n",
    "    ],\n",
    "}\n",
    "schema = from_frictionless_schema(frictionless_schema)\n",
    "print(schema)"
   ]
  },
  {
   "cell_type": "markdown",
   "id": "2c1609e3",
   "metadata": {
    "slideshow": {
     "slide_type": "slide"
    }
   },
   "source": [
    "#### Facilitate Property-based Testing with Generative Schemas\n",
    "\n",
    "Generate valid examples under the schema's constraints"
   ]
  },
  {
   "cell_type": "code",
   "execution_count": null,
   "id": "d67ceeea",
   "metadata": {},
   "outputs": [],
   "source": [
    "RawData.example(size=3)"
   ]
  },
  {
   "cell_type": "code",
   "execution_count": null,
   "id": "ed79c455",
   "metadata": {
    "lines_to_next_cell": 1
   },
   "outputs": [],
   "source": [
    "CleanData.example(size=3)"
   ]
  },
  {
   "cell_type": "code",
   "execution_count": null,
   "id": "cd2bec74",
   "metadata": {
    "slideshow": {
     "slide_type": "slide"
    }
   },
   "outputs": [],
   "source": [
    "# Transform your unit test suite!\n",
    "\n",
    "# data_cleaner.py\n",
    "@pa.check_types\n",
    "def clean(raw_data: DataFrame[RawData]) -> DataFrame[CleanData]:\n",
    "    return raw_data.assign(\n",
    "        continuous=lambda df: df.continuous.mask(df.continuous < 0),\n",
    "        categorical=lambda df: df.categorical.mask(~df.categorical.isin([\"A\", \"B\", \"C\"]))\n",
    "    )\n",
    "\n",
    "\n",
    "# test_data_cleaner.py\n",
    "from hypothesis import given\n",
    "\n",
    "@given(RawData.strategy(size=5))\n",
    "def test_clean(mock_raw_data):\n",
    "    clean(mock_raw_data)\n",
    "    \n",
    "    \n",
    "class InvalidData(pa.SchemaModel):\n",
    "    foo: Series[int]\n",
    "    \n",
    "\n",
    "@given(InvalidData.strategy(size=5))\n",
    "def test_clean_errors(mock_invalid_data):\n",
    "    with pytest.raises(pa.errors.SchemaError):\n",
    "        clean(mock_invalid_data)\n",
    "    \n",
    "\n",
    "def run_test_suite():\n",
    "    test_clean()\n",
    "    test_clean_errors()\n",
    "    print(\"tests pass! ✅\")\n",
    "    \n",
    "    \n",
    "run_test_suite()"
   ]
  },
  {
   "cell_type": "markdown",
   "id": "f66ebe99",
   "metadata": {
    "slideshow": {
     "slide_type": "slide"
    }
   },
   "source": [
    "## 🏔 Scaling Pandera\n",
    "\n",
    "In `0.8.0`, pandera supports `dask`, `modin`, and `koalas` dataframes to scale\n",
    "data validation to big data."
   ]
  },
  {
   "cell_type": "code",
   "execution_count": null,
   "id": "f8081c24",
   "metadata": {},
   "outputs": [],
   "source": [
    "display(raw_data)"
   ]
  },
  {
   "cell_type": "markdown",
   "id": "94e47c23",
   "metadata": {
    "slideshow": {
     "slide_type": "slide"
    }
   },
   "source": [
    "#### Dask"
   ]
  },
  {
   "cell_type": "code",
   "execution_count": null,
   "id": "6e9720a3",
   "metadata": {},
   "outputs": [],
   "source": [
    "import dask.dataframe as dd\n",
    "\n",
    "dask_dataframe = dd.from_pandas(raw_data, npartitions=1)\n",
    "\n",
    "try:\n",
    "    CleanData(dask_dataframe, lazy=True).compute()\n",
    "except pa.errors.SchemaErrors as exc:\n",
    "    display(exc.failure_cases)"
   ]
  },
  {
   "cell_type": "markdown",
   "id": "8c4049c3",
   "metadata": {
    "slideshow": {
     "slide_type": "slide"
    }
   },
   "source": [
    "#### Modin"
   ]
  },
  {
   "cell_type": "code",
   "execution_count": null,
   "id": "810246b6",
   "metadata": {},
   "outputs": [],
   "source": [
    "import modin.pandas as mpd\n",
    "\n",
    "modin_dataframe = mpd.DataFrame(raw_data)\n",
    "\n",
    "try:\n",
    "    CleanData(modin_dataframe, lazy=True)\n",
    "except pa.errors.SchemaErrors as exc:\n",
    "    display(exc.failure_cases)"
   ]
  },
  {
   "cell_type": "markdown",
   "id": "520214a5",
   "metadata": {
    "slideshow": {
     "slide_type": "slide"
    }
   },
   "source": [
    "## ⌨️ Statistical Typing"
   ]
  },
  {
   "cell_type": "markdown",
   "id": "3f346f06",
   "metadata": {},
   "source": [
    "#### Type systems help programmers reason about and write more robust code"
   ]
  },
  {
   "cell_type": "code",
   "execution_count": null,
   "id": "d564e5a3",
   "metadata": {
    "slideshow": {
     "slide_type": "fragment"
    }
   },
   "outputs": [],
   "source": [
    "from typing import Union\n",
    "\n",
    "Number = Union[int, float]\n",
    "\n",
    "def add_and_double(x: Number, y: Number) -> Number:\n",
    "    ..."
   ]
  },
  {
   "cell_type": "markdown",
   "id": "500318ab",
   "metadata": {
    "slideshow": {
     "slide_type": "fragment"
    }
   },
   "source": [
    "#### Can you predict the outcome of these function calls?"
   ]
  },
  {
   "cell_type": "code",
   "execution_count": null,
   "id": "558a9c17",
   "metadata": {},
   "outputs": [],
   "source": [
    "add_and_double(5, 2)\n",
    "add_and_double(5, \"hello\")\n",
    "add_and_double(11.5, -1.5)"
   ]
  },
  {
   "cell_type": "markdown",
   "id": "64153e91",
   "metadata": {
    "slideshow": {
     "slide_type": "slide"
    }
   },
   "source": [
    "#### Similarly..."
   ]
  },
  {
   "cell_type": "code",
   "execution_count": null,
   "id": "66905488",
   "metadata": {
    "lines_to_next_cell": 1
   },
   "outputs": [],
   "source": [
    "import pandera as pa\n",
    "from pandera.typing import DataFrame, Series\n",
    "\n",
    "class Inputs(pa.SchemaModel):\n",
    "    x: Series[int]\n",
    "    y: Series[int]\n",
    "\n",
    "    class Config:\n",
    "        coerce = True\n",
    "\n",
    "\n",
    "class Outputs(Inputs):\n",
    "    z: Series[int]\n",
    "        \n",
    "    @pa.dataframe_check\n",
    "    def custom_check(cls, df: DataFrame) -> Series:\n",
    "        return df[\"z\"] == (df[\"x\"] + df[\"y\"]) * 2\n",
    "    \n",
    "    \n",
    "@pa.check_types\n",
    "def add_and_double(raw_data: DataFrame[Inputs]) -> DataFrame[Outputs]:\n",
    "    ..."
   ]
  },
  {
   "cell_type": "markdown",
   "id": "e7093867",
   "metadata": {
    "slideshow": {
     "slide_type": "slide"
    }
   },
   "source": [
    "### 🤔 What's Statistical Typing?\n",
    "\n",
    "> **Statistical typing** extends primitive data types with additional semantics\n",
    "> about the _properties held by a collection of data pointsdf."
   ]
  },
  {
   "cell_type": "markdown",
   "id": "d3081153",
   "metadata": {
    "slideshow": {
     "slide_type": "slide"
    }
   },
   "source": [
    "#### Consider a single data point"
   ]
  },
  {
   "cell_type": "code",
   "execution_count": null,
   "id": "8a7eb191",
   "metadata": {},
   "outputs": [],
   "source": [
    "data_point = {\"square_footage\": 700, \"nbedrooms\": 1, \"price\": 500_000}"
   ]
  },
  {
   "cell_type": "markdown",
   "id": "9925b42a",
   "metadata": {
    "slideshow": {
     "slide_type": "fragment"
    }
   },
   "source": [
    "- Primitive datatypes\n",
    "- Value range\n",
    "- Allowable values\n",
    "- Regex string match\n",
    "- Nullability"
   ]
  },
  {
   "cell_type": "markdown",
   "id": "28ba8e8b",
   "metadata": {
    "slideshow": {
     "slide_type": "slide"
    }
   },
   "source": [
    "#### Now consider a collection data point"
   ]
  },
  {
   "cell_type": "code",
   "execution_count": null,
   "id": "05a84897",
   "metadata": {},
   "outputs": [],
   "source": [
    "data_points = [\n",
    "    {\"square_footage\": 700, \"nbedrooms\": 1, \"price\": 500_000},\n",
    "    {\"square_footage\": 1000, \"nbedrooms\": 2, \"price\": 750_000},\n",
    "    {\"square_footage\": 3000, \"nbedrooms\": 4, \"price\": 1_000_000},\n",
    "    ...\n",
    "]"
   ]
  },
  {
   "cell_type": "markdown",
   "id": "98268925",
   "metadata": {
    "slideshow": {
     "slide_type": "fragment"
    }
   },
   "source": [
    "- Apply atomic checks at scale\n",
    "- Uniqueness\n",
    "- Monotonicity\n",
    "- Mean, median, standard deviation\n",
    "- Fractional checks, e.g. 90% of data points are not null"
   ]
  },
  {
   "cell_type": "markdown",
   "id": "672ced4a",
   "metadata": {
    "slideshow": {
     "slide_type": "slide"
    }
   },
   "source": [
    "### Pandera is a Statistical Type System Geared Towards DS/ML"
   ]
  },
  {
   "cell_type": "markdown",
   "id": "379fd3da",
   "metadata": {
    "slideshow": {
     "slide_type": "fragment"
    }
   },
   "source": [
    "- Provides a flexible and expressive API for defining types for dataframes."
   ]
  },
  {
   "cell_type": "markdown",
   "id": "838ccc74",
   "metadata": {
    "slideshow": {
     "slide_type": "fragment"
    }
   },
   "source": [
    "- Enables a more intuitive way of validating not only data, but also the functions that produce those data."
   ]
  },
  {
   "cell_type": "markdown",
   "id": "3c20f603",
   "metadata": {
    "slideshow": {
     "slide_type": "slide"
    }
   },
   "source": [
    "### Hypothesis Testing with Pandera\n",
    "\n",
    "\"The height of **group A** is greater than that of **group B**\""
   ]
  },
  {
   "cell_type": "code",
   "execution_count": null,
   "id": "afaad74b",
   "metadata": {},
   "outputs": [],
   "source": [
    "df = pd.DataFrame({\n",
    "    \"height_in_feet\": [6.5, 7, 7.1, 6.1, 5.1, 4],\n",
    "    \"group\": [\"A\", \"A\", \"A\", \"B\", \"B\", \"B\"]\n",
    "})\n",
    "\n",
    "schema = pa.DataFrameSchema({\n",
    "    \"height_in_feet\": pa.Column(\n",
    "        float, [\n",
    "            pa.Hypothesis.two_sample_ttest(\n",
    "                sample1=\"A\",\n",
    "                relationship=\"greater_than\",\n",
    "                sample2=\"B\",\n",
    "                groupby=\"group\",\n",
    "                alpha=0.05,\n",
    "                equal_var=True,\n",
    "            ),\n",
    "        ]\n",
    "    ),\n",
    "    \"group\": pa.Column(str, pa.Check.isin([\"A\", \"B\"])),\n",
    "})\n",
    "display(schema(df))"
   ]
  },
  {
   "cell_type": "markdown",
   "id": "43166163",
   "metadata": {
    "slideshow": {
     "slide_type": "slide"
    }
   },
   "source": [
    "### Built for Custom Hypotheses"
   ]
  },
  {
   "cell_type": "code",
   "execution_count": null,
   "id": "c54b6a6a",
   "metadata": {
    "lines_to_next_cell": 2
   },
   "outputs": [],
   "source": [
    "from scipy import stats\n",
    "\n",
    "def two_sample_ttest(array1, array2):\n",
    "    return stats.ttest_ind(array1, array2)\n",
    "\n",
    "def greater_than(stat, pvalue, alpha=0.01):\n",
    "    return stat > 0 and pvalue / 2 < alpha\n",
    "\n",
    "schema = pa.DataFrameSchema({\n",
    "    \"height_in_feet\": pa.Column(\n",
    "        float, [\n",
    "            pa.Hypothesis(\n",
    "                name=\"two_sample_test[A > B; alpha=0.05]\",\n",
    "                test=two_sample_ttest,\n",
    "                samples=[\"A\", \"B\"],\n",
    "                groupby=\"group\",\n",
    "                relationship=greater_than,\n",
    "                relationship_kwargs={\"alpha\": 0.05}\n",
    "            )\n",
    "    ]),\n",
    "    \"group\": pa.Column(str, checks=pa.Check.isin([\"A\", \"B\"]))\n",
    "})"
   ]
  },
  {
   "cell_type": "markdown",
   "id": "fec8af6f",
   "metadata": {
    "slideshow": {
     "slide_type": "slide"
    }
   },
   "source": [
    "### Falsify your Hypotheses Today! 💪"
   ]
  },
  {
   "cell_type": "code",
   "execution_count": null,
   "id": "eb2f83bd",
   "metadata": {},
   "outputs": [],
   "source": [
    "\n",
    "df = pd.DataFrame({\n",
    "    \"height_in_feet\": [6.5, 7, 7.1, 6.1, 5.1, 4],\n",
    "    \"group\": [\"B\", \"B\", \"B\", \"A\", \"A\", \"A\"]\n",
    "})\n",
    "\n",
    "try:\n",
    "    schema(df, lazy=True)\n",
    "except pa.errors.SchemaErrors as exc:\n",
    "    display(exc.failure_cases)"
   ]
  },
  {
   "cell_type": "markdown",
   "id": "54b059d6",
   "metadata": {
    "slideshow": {
     "slide_type": "slide"
    }
   },
   "source": [
    "## 🛣 Future Roadmap\n",
    "\n",
    "- 📏 Extensibility: getting support for `xarray`, `jsonschema`, and an extension API for arbitrary data containers.\n",
    "- 💻 UX: better error-reporting, more built-in checks, statistical hypothesis checks, conditional validation, and more!\n",
    "- 🤝 Interoperability: tighter integrations with the python ecosystem, e.g. `fastapi`, `pydantic`, `pytest`"
   ]
  },
  {
   "cell_type": "markdown",
   "id": "58da13ae",
   "metadata": {
    "slideshow": {
     "slide_type": "slide"
    }
   },
   "source": [
    "# Where to Learn More\n",
    "\n",
    "- **Pycon [2021]** - Statistical Typing: A Runtime TypingSystem for Data Science and Machine Learning\n",
    "  - video: https://youtu.be/PI5UmKi14cM\n",
    "- **Scipy [2020]** - Statistical Data Validation of Pandas Dataframes\n",
    "  - video: https://youtu.be/PxTLD-ueNd4\n",
    "  - talk: https://conference.scipy.org/proceedings/scipy2020/pdfs/niels_bantilan.pdf\n",
    "- **Pandera Blog [2020]**: https://blog.pandera.ci/statistical%20typing/unit%20testing/2020/12/26/statistical-typing.html\n",
    "- **PyOpenSci Blog [2019]**: https://www.pyopensci.org/blog/pandera-python-pandas-dataframe-validation\n",
    "- **Personal Blog [2018]**: https://cosmicbboy.github.io/2018/12/28/validating-pandas-dataframes.html"
   ]
  },
  {
   "cell_type": "markdown",
   "id": "37f206d8",
   "metadata": {
    "slideshow": {
     "slide_type": "slide"
    }
   },
   "source": [
    "# Join the Community!\n",
    "\n",
    "![badge](https://img.shields.io/github/stars/pandera-dev/pandera?style=social)\n",
    "[![badge](https://img.shields.io/pypi/pyversions/pandera.svg)](https://pypi.python.org/pypi/pandera/)\n",
    "[![badge](https://img.shields.io/pypi/v/pandera.svg)](https://pypi.org/project/pandera/)\n",
    "![badge](https://img.shields.io/github/contributors/pandera-dev/pandera)\n",
    "[![badge](https://pepy.tech/badge/pandera)](https://pepy.tech/project/pandera)\n",
    "[![badge](https://pepy.tech/badge/pandera/month)](https://pepy.tech/project/pandera)\n",
    "[![badge](https://img.shields.io/badge/discord-chat-purple?color=%235765F2&label=discord&logo=discord)](https://discord.gg/vyanhWuaKB)\n",
    "\n",
    "\n",
    "- **Twitter**: [@cosmicbboy](https://twitter.com/cosmicBboy)\n",
    "- **Discord**: https://discord.gg/vyanhWuaKB\n",
    "- **Email**: [niels.bantilan@gmail.com](mailto:niels.bantilan@gmail.com)\n",
    "- **Repo**: https://github.com/pandera-dev/pandera\n",
    "- **Docs**: https://pandera.readthedocs.io\n",
    "- **Contributing Guide**: https://pandera.readthedocs.io/en/stable/CONTRIBUTING.html\n",
    "- **Become a Sponsor**: https://github.com/sponsors/cosmicBboy"
   ]
  }
 ],
 "metadata": {
  "jupytext": {
   "encoding": "# -*- coding: utf-8 -*-",
   "formats": "ipynb,py:percent"
  },
  "kernelspec": {
   "display_name": "pandera-presentations",
   "language": "python",
   "name": "pandera-presentations"
  }
 },
 "nbformat": 4,
 "nbformat_minor": 5
}
