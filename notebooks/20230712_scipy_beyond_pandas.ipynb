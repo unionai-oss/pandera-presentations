{
 "cells": [
  {
   "cell_type": "markdown",
   "id": "4a9f0152",
   "metadata": {
    "slideshow": {
     "slide_type": "slide"
    }
   },
   "source": [
    "\n",
    "# Pandera: Beyond Pandas Data Validation 🐼✅\n",
    "\n",
    "**Niels Bantilan**, Chief ML Engineer @ Union.ai\n",
    "\n",
    "*SciPy 2023, July 12th 2023*"
   ]
  },
  {
   "cell_type": "markdown",
   "id": "2f4195b0",
   "metadata": {
    "slideshow": {
     "slide_type": "slide"
    }
   },
   "source": [
    "# Background\n",
    "\n",
    "- 📜 B.A. in Biology and Dance\n",
    "- 📜 M.P.H. in Sociomedical Science and Public Health Informatics\n",
    "- 🤖 Chief Machine Learning Engineer @ Union.ai\n",
    "- 🛩 Flytekit OSS Maintainer\n",
    "- ✅ Author and Maintainer of Pandera\n",
    "- 🦾 Author of UnionML\n",
    "- 🛠 Make DS/ML practitioners more productive"
   ]
  },
  {
   "cell_type": "markdown",
   "id": "863d4960",
   "metadata": {
    "slideshow": {
     "slide_type": "slide"
    }
   },
   "source": [
    "### This is a talk about open source development 🧑🏾‍💻"
   ]
  },
  {
   "cell_type": "markdown",
   "id": "9e780942",
   "metadata": {
    "slideshow": {
     "slide_type": "slide"
    }
   },
   "source": [
    "# Outline 📝\n",
    "\n",
    "- 🐣 Origins: solving a local problem\n",
    "- 🐓 Evolution: solving other people's problems\n",
    "- 🦩 Revolution: rewriting Pandera's internals\n",
    "- 🌅 What's next?"
   ]
  },
  {
   "cell_type": "markdown",
   "id": "55e330ad",
   "metadata": {
    "slideshow": {
     "slide_type": "slide"
    }
   },
   "source": [
    "### Where's the Code?\n",
    "\n",
    "🖼 **Slides**: https://unionai-oss.github.io/pandera-presentations/slides/20230712_scipy_beyond_pandas.slides.html\n",
    "\n",
    "📓 **Notebook**: https://github.com/unionai-oss/pandera-presentations/blob/master/notebooks/20230712_scipy_beyond_pandas.ipynb"
   ]
  },
  {
   "cell_type": "markdown",
   "id": "b943e094",
   "metadata": {
    "slideshow": {
     "slide_type": "slide"
    }
   },
   "source": [
    "# 🐣 Origins"
   ]
  },
  {
   "cell_type": "code",
   "execution_count": 1,
   "id": "b8681598",
   "metadata": {
    "jupyter": {
     "source_hidden": true
    },
    "tags": [
     "hide_input",
     "hide_output"
    ]
   },
   "outputs": [],
   "source": [
    "import os\n",
    "import warnings\n",
    "import pyspark\n",
    "\n",
    "from IPython.display import display, Markdown\n",
    "\n",
    "warnings.simplefilter(\"ignore\")\n",
    "pyspark.SparkContext().setLogLevel(\"OFF\")\n",
    "os.environ[\"MODIN_ENGINE\"] = \"ray\""
   ]
  },
  {
   "cell_type": "markdown",
   "id": "e229e7cd",
   "metadata": {
    "slideshow": {
     "slide_type": "slide"
    }
   },
   "source": [
    "## 🤷‍♂️ Why Should I Validate Data?"
   ]
  },
  {
   "cell_type": "markdown",
   "id": "a37c9a50",
   "metadata": {
    "slideshow": {
     "slide_type": "slide"
    }
   },
   "source": [
    "## What's a `DataFrame`?"
   ]
  },
  {
   "cell_type": "code",
   "execution_count": 2,
   "id": "e68a48cc",
   "metadata": {
    "slideshow": {
     "slide_type": "skip"
    }
   },
   "outputs": [],
   "source": [
    "import uuid\n",
    "\n",
    "import numpy as np\n",
    "import pandas as pd\n",
    "\n",
    "dataframe = pd.DataFrame({\n",
    "    \"person_id\": [str(uuid.uuid4())[:7] for _ in range(6)],\n",
    "    \"hours_worked\": [38.5, 41.25, \"35.0\", 27.75, 22.25, -20.5],\n",
    "    \"wage_per_hour\": [15.1, 15, 21.30, 17.5, 19.50, 25.50],\n",
    "}).set_index(\"person_id\")\n",
    "\n",
    "df = dataframe"
   ]
  },
  {
   "cell_type": "code",
   "execution_count": 3,
   "id": "d28bbd5e",
   "metadata": {},
   "outputs": [
    {
     "data": {
      "text/html": [
       "<div>\n",
       "<style scoped>\n",
       "    .dataframe tbody tr th:only-of-type {\n",
       "        vertical-align: middle;\n",
       "    }\n",
       "\n",
       "    .dataframe tbody tr th {\n",
       "        vertical-align: top;\n",
       "    }\n",
       "\n",
       "    .dataframe thead th {\n",
       "        text-align: right;\n",
       "    }\n",
       "</style>\n",
       "<table border=\"1\" class=\"dataframe\">\n",
       "  <thead>\n",
       "    <tr style=\"text-align: right;\">\n",
       "      <th></th>\n",
       "      <th>hours_worked</th>\n",
       "      <th>wage_per_hour</th>\n",
       "    </tr>\n",
       "    <tr>\n",
       "      <th>person_id</th>\n",
       "      <th></th>\n",
       "      <th></th>\n",
       "    </tr>\n",
       "  </thead>\n",
       "  <tbody>\n",
       "    <tr>\n",
       "      <th>1ac0c42</th>\n",
       "      <td>38.5</td>\n",
       "      <td>15.1</td>\n",
       "    </tr>\n",
       "    <tr>\n",
       "      <th>edda497</th>\n",
       "      <td>41.25</td>\n",
       "      <td>15.0</td>\n",
       "    </tr>\n",
       "    <tr>\n",
       "      <th>e8c6fb7</th>\n",
       "      <td>35.0</td>\n",
       "      <td>21.3</td>\n",
       "    </tr>\n",
       "    <tr>\n",
       "      <th>1332472</th>\n",
       "      <td>27.75</td>\n",
       "      <td>17.5</td>\n",
       "    </tr>\n",
       "    <tr>\n",
       "      <th>beb478b</th>\n",
       "      <td>22.25</td>\n",
       "      <td>19.5</td>\n",
       "    </tr>\n",
       "  </tbody>\n",
       "</table>\n",
       "</div>"
      ],
      "text/plain": [
       "          hours_worked  wage_per_hour\n",
       "person_id                            \n",
       "1ac0c42           38.5           15.1\n",
       "edda497          41.25           15.0\n",
       "e8c6fb7           35.0           21.3\n",
       "1332472          27.75           17.5\n",
       "beb478b          22.25           19.5"
      ]
     },
     "execution_count": 3,
     "metadata": {},
     "output_type": "execute_result"
    }
   ],
   "source": [
    "dataframe.head()"
   ]
  },
  {
   "cell_type": "markdown",
   "id": "05d4b54e",
   "metadata": {
    "slideshow": {
     "slide_type": "slide"
    }
   },
   "source": [
    "## What's Data Validation?\n",
    "\n",
    "Data validation is the act of _falsifying_ data against explicit assumptions\n",
    "for some downstream purpose, like analysis, modeling, and visualization."
   ]
  },
  {
   "cell_type": "markdown",
   "id": "457b4e3c",
   "metadata": {
    "slideshow": {
     "slide_type": "fragment"
    }
   },
   "source": [
    "> \"All swans are white\""
   ]
  },
  {
   "cell_type": "code",
   "execution_count": 4,
   "id": "90657d6d",
   "metadata": {
    "slideshow": {
     "slide_type": "fragment"
    },
    "tags": [
     "hide_input"
    ]
   },
   "outputs": [
    {
     "data": {
      "text/html": [
       "<p>\n",
       "    <a href=\"https://commons.wikimedia.org/wiki/File:Black_Swans.jpg#/media/File:Black_Swans.jpg\">\n",
       "    <img src=\"https://upload.wikimedia.org/wikipedia/commons/6/60/Black_Swans.jpg\" alt=\"Pair of black swans swimming\" height=\"275\" width=\"275\"\n",
       "     style=\"display: block; margin-left: auto; margin-right: auto;\"/>\n",
       "    </a>\n",
       "    <p style=\"font-size: x-small; text-align: center;\">\n",
       "    <a href=\"http://creativecommons.org/licenses/by-sa/3.0/\" title=\"Creative Commons Attribution-Share Alike 3.0\">CC BY-SA 3.0</a>,\n",
       "    <a href=\"https://commons.wikimedia.org/w/index.php?curid=1243220\">Link</a>\n",
       "    </p>\n",
       "</p>\n"
      ],
      "text/plain": [
       "<IPython.core.display.HTML object>"
      ]
     },
     "metadata": {},
     "output_type": "display_data"
    }
   ],
   "source": [
    "%%html\n",
    "<p>\n",
    "    <a href=\"https://commons.wikimedia.org/wiki/File:Black_Swans.jpg#/media/File:Black_Swans.jpg\">\n",
    "    <img src=\"https://upload.wikimedia.org/wikipedia/commons/6/60/Black_Swans.jpg\" alt=\"Pair of black swans swimming\" height=\"275\" width=\"275\"\n",
    "     style=\"display: block; margin-left: auto; margin-right: auto;\"/>\n",
    "    </a>\n",
    "    <p style=\"font-size: x-small; text-align: center;\">\n",
    "    <a href=\"http://creativecommons.org/licenses/by-sa/3.0/\" title=\"Creative Commons Attribution-Share Alike 3.0\">CC BY-SA 3.0</a>,\n",
    "    <a href=\"https://commons.wikimedia.org/w/index.php?curid=1243220\">Link</a>\n",
    "    </p>\n",
    "</p>"
   ]
  },
  {
   "cell_type": "markdown",
   "id": "97ee5ec1",
   "metadata": {
    "slideshow": {
     "slide_type": "slide"
    }
   },
   "source": [
    "## Why Do I Need it?"
   ]
  },
  {
   "cell_type": "markdown",
   "id": "32cbef2e",
   "metadata": {
    "slideshow": {
     "slide_type": "fragment"
    }
   },
   "source": [
    "#### 🐞 It can be difficult to reason about and debug data processing pipelines."
   ]
  },
  {
   "cell_type": "markdown",
   "id": "e268354e",
   "metadata": {
    "slideshow": {
     "slide_type": "fragment"
    }
   },
   "source": [
    "#### ⚠️ It's critical to ensuring data quality in many contexts especially when the end product informs business decisions, supports scientific findings, or generates predictions in a production setting."
   ]
  },
  {
   "cell_type": "markdown",
   "id": "b63ca74b",
   "metadata": {
    "slideshow": {
     "slide_type": "slide"
    }
   },
   "source": [
    "## Everyone has a personal relationship with their data"
   ]
  },
  {
   "cell_type": "markdown",
   "id": "7795c433",
   "metadata": {
    "slideshow": {
     "slide_type": "fragment"
    }
   },
   "source": [
    "### Story Time 📖\n",
    "\n",
    "##### Imagine that you're a data scientist maintaining an existing data processing pipeline 👩‍💻👨‍💻..."
   ]
  },
  {
   "cell_type": "code",
   "execution_count": 5,
   "id": "17c437e5",
   "metadata": {
    "slideshow": {
     "slide_type": "skip"
    }
   },
   "outputs": [
    {
     "name": "stdout",
     "output_type": "stream",
     "text": [
      "can't multiply sequence by non-int of type 'float'\n"
     ]
    }
   ],
   "source": [
    "def process_data(df):\n",
    "    return df.assign(weekly_income=lambda x: x.hours_worked * x.wage_per_hour)\n",
    "\n",
    "try:\n",
    "    process_data(dataframe)\n",
    "except TypeError as exc:\n",
    "    print(exc)"
   ]
  },
  {
   "cell_type": "markdown",
   "id": "45c6d38a",
   "metadata": {
    "slideshow": {
     "slide_type": "slide"
    }
   },
   "source": [
    "### One day, you encounter an error log trail and decide to follow it..."
   ]
  },
  {
   "cell_type": "markdown",
   "id": "5167c0a2",
   "metadata": {},
   "source": [
    "```python\n",
    "/usr/local/miniconda3/envs/pandera-presentations/lib/python3.7/site-packages/pandas/core/ops/__init__.py in masked_arith_op(x, y, op)\n",
    "    445         if mask.any():\n",
    "    446             with np.errstate(all=\"ignore\"):\n",
    "--> 447                 result[mask] = op(xrav[mask], com.values_from_object(yrav[mask]))\n",
    "    448 \n",
    "    449     else:\n",
    "\n",
    "TypeError: can't multiply sequence by non-int of type 'float'\n",
    "```"
   ]
  },
  {
   "cell_type": "markdown",
   "id": "f04597d2",
   "metadata": {
    "slideshow": {
     "slide_type": "slide"
    }
   },
   "source": [
    "### And you find yourself at the top of a function..."
   ]
  },
  {
   "cell_type": "code",
   "execution_count": 6,
   "id": "6a1087d8",
   "metadata": {
    "lines_to_next_cell": 1
   },
   "outputs": [],
   "source": [
    "def process_data(df):\n",
    "    ..."
   ]
  },
  {
   "cell_type": "markdown",
   "id": "a8d3ad51",
   "metadata": {
    "slideshow": {
     "slide_type": "slide"
    }
   },
   "source": [
    "### You look around, and see some hints of what had happened..."
   ]
  },
  {
   "cell_type": "code",
   "execution_count": 7,
   "id": "72e81139",
   "metadata": {},
   "outputs": [],
   "source": [
    "def process_data(df):\n",
    "    return df.assign(weekly_income=lambda x: x.hours_worked * x.wage_per_hour)"
   ]
  },
  {
   "cell_type": "markdown",
   "id": "175cf461",
   "metadata": {
    "slideshow": {
     "slide_type": "slide"
    }
   },
   "source": [
    "### You sort of know what's going on, but you want to take a closer look!"
   ]
  },
  {
   "cell_type": "code",
   "execution_count": 8,
   "id": "00629a23",
   "metadata": {
    "lines_to_next_cell": 1
   },
   "outputs": [],
   "source": [
    "def process_data(df):\n",
    "    import pdb; pdb.set_trace()  # <- insert breakpoint\n",
    "    return df.assign(weekly_income=lambda x: x.hours_worked * x.wage_per_hour)"
   ]
  },
  {
   "cell_type": "markdown",
   "id": "6cc80b10",
   "metadata": {
    "slideshow": {
     "slide_type": "slide"
    }
   },
   "source": [
    "### And you find some funny business going on..."
   ]
  },
  {
   "cell_type": "code",
   "execution_count": 9,
   "id": "a0182474",
   "metadata": {},
   "outputs": [
    {
     "name": "stdout",
     "output_type": "stream",
     "text": [
      "          hours_worked  wage_per_hour\n",
      "person_id                            \n",
      "1ac0c42           38.5           15.1\n",
      "edda497          41.25           15.0\n",
      "e8c6fb7           35.0           21.3\n",
      "1332472          27.75           17.5\n",
      "beb478b          22.25           19.5\n",
      "40e25f2          -20.5           25.5\n"
     ]
    }
   ],
   "source": [
    "print(df)"
   ]
  },
  {
   "cell_type": "code",
   "execution_count": 10,
   "id": "dead523d",
   "metadata": {},
   "outputs": [
    {
     "data": {
      "text/plain": [
       "hours_worked      object\n",
       "wage_per_hour    float64\n",
       "dtype: object"
      ]
     },
     "execution_count": 10,
     "metadata": {},
     "output_type": "execute_result"
    }
   ],
   "source": [
    "df.dtypes"
   ]
  },
  {
   "cell_type": "code",
   "execution_count": 11,
   "id": "53e87613",
   "metadata": {},
   "outputs": [
    {
     "data": {
      "text/plain": [
       "person_id\n",
       "1ac0c42    <class 'float'>\n",
       "edda497    <class 'float'>\n",
       "e8c6fb7      <class 'str'>\n",
       "1332472    <class 'float'>\n",
       "beb478b    <class 'float'>\n",
       "40e25f2    <class 'float'>\n",
       "Name: hours_worked, dtype: object"
      ]
     },
     "execution_count": 11,
     "metadata": {},
     "output_type": "execute_result"
    }
   ],
   "source": [
    "df.hours_worked.map(type)"
   ]
  },
  {
   "cell_type": "markdown",
   "id": "f1f6f533",
   "metadata": {
    "slideshow": {
     "slide_type": "slide"
    }
   },
   "source": [
    "### You squash the bug and add documentation for the next weary traveler who happens upon this code."
   ]
  },
  {
   "cell_type": "code",
   "execution_count": 12,
   "id": "d24810ac",
   "metadata": {},
   "outputs": [],
   "source": [
    "def process_data(df):\n",
    "    return (\n",
    "        df\n",
    "        # make sure columns are floats\n",
    "        .astype({\"hours_worked\": float, \"wage_per_hour\": float})\n",
    "        # replace negative values with nans\n",
    "        .assign(hours_worked=lambda x: x.hours_worked.where(x.hours_worked >= 0, np.nan))\n",
    "        # compute weekly income\n",
    "        .assign(weekly_income=lambda x: x.hours_worked * x.wage_per_hour)\n",
    "    )"
   ]
  },
  {
   "cell_type": "code",
   "execution_count": 13,
   "id": "ce0c5923",
   "metadata": {},
   "outputs": [
    {
     "data": {
      "text/html": [
       "<div>\n",
       "<style scoped>\n",
       "    .dataframe tbody tr th:only-of-type {\n",
       "        vertical-align: middle;\n",
       "    }\n",
       "\n",
       "    .dataframe tbody tr th {\n",
       "        vertical-align: top;\n",
       "    }\n",
       "\n",
       "    .dataframe thead th {\n",
       "        text-align: right;\n",
       "    }\n",
       "</style>\n",
       "<table border=\"1\" class=\"dataframe\">\n",
       "  <thead>\n",
       "    <tr style=\"text-align: right;\">\n",
       "      <th></th>\n",
       "      <th>hours_worked</th>\n",
       "      <th>wage_per_hour</th>\n",
       "      <th>weekly_income</th>\n",
       "    </tr>\n",
       "    <tr>\n",
       "      <th>person_id</th>\n",
       "      <th></th>\n",
       "      <th></th>\n",
       "      <th></th>\n",
       "    </tr>\n",
       "  </thead>\n",
       "  <tbody>\n",
       "    <tr>\n",
       "      <th>1ac0c42</th>\n",
       "      <td>38.50</td>\n",
       "      <td>15.1</td>\n",
       "      <td>581.350</td>\n",
       "    </tr>\n",
       "    <tr>\n",
       "      <th>edda497</th>\n",
       "      <td>41.25</td>\n",
       "      <td>15.0</td>\n",
       "      <td>618.750</td>\n",
       "    </tr>\n",
       "    <tr>\n",
       "      <th>e8c6fb7</th>\n",
       "      <td>35.00</td>\n",
       "      <td>21.3</td>\n",
       "      <td>745.500</td>\n",
       "    </tr>\n",
       "    <tr>\n",
       "      <th>1332472</th>\n",
       "      <td>27.75</td>\n",
       "      <td>17.5</td>\n",
       "      <td>485.625</td>\n",
       "    </tr>\n",
       "    <tr>\n",
       "      <th>beb478b</th>\n",
       "      <td>22.25</td>\n",
       "      <td>19.5</td>\n",
       "      <td>433.875</td>\n",
       "    </tr>\n",
       "    <tr>\n",
       "      <th>40e25f2</th>\n",
       "      <td>NaN</td>\n",
       "      <td>25.5</td>\n",
       "      <td>NaN</td>\n",
       "    </tr>\n",
       "  </tbody>\n",
       "</table>\n",
       "</div>"
      ],
      "text/plain": [
       "           hours_worked  wage_per_hour  weekly_income\n",
       "person_id                                            \n",
       "1ac0c42           38.50           15.1        581.350\n",
       "edda497           41.25           15.0        618.750\n",
       "e8c6fb7           35.00           21.3        745.500\n",
       "1332472           27.75           17.5        485.625\n",
       "beb478b           22.25           19.5        433.875\n",
       "40e25f2             NaN           25.5            NaN"
      ]
     },
     "execution_count": 13,
     "metadata": {},
     "output_type": "execute_result"
    }
   ],
   "source": [
    "process_data(df)"
   ]
  },
  {
   "cell_type": "markdown",
   "id": "549db76e",
   "metadata": {
    "slideshow": {
     "slide_type": "slide"
    }
   },
   "source": [
    "### ⏱ A few months later..."
   ]
  },
  {
   "cell_type": "markdown",
   "id": "3750f03a",
   "metadata": {
    "slideshow": {
     "slide_type": "slide"
    }
   },
   "source": [
    "### You find yourself at a familiar function, but it looks a little different from when you left it..."
   ]
  },
  {
   "cell_type": "code",
   "execution_count": 14,
   "id": "36d1db91",
   "metadata": {
    "slideshow": {
     "slide_type": "skip"
    }
   },
   "outputs": [],
   "source": [
    "# This needs to be here, but skipped for story-telling effect in the slides\n",
    "import pandera as pa\n",
    "from pandera.typing import DataFrame\n",
    "\n",
    "class RawData(pa.DataFrameModel):\n",
    "    hours_worked: float = pa.Field(coerce=True, nullable=True)\n",
    "    wage_per_hour: float = pa.Field(coerce=True, nullable=True)\n",
    "\n",
    "class ProcessedData(RawData):\n",
    "    hours_worked: float = pa.Field(ge=0, coerce=True, nullable=True)\n",
    "    weekly_income: float = pa.Field(nullable=True)"
   ]
  },
  {
   "cell_type": "code",
   "execution_count": 15,
   "id": "36824faa",
   "metadata": {},
   "outputs": [],
   "source": [
    "@pa.check_types\n",
    "def process_data(df: DataFrame[RawData]) -> DataFrame[ProcessedData]:\n",
    "    return (\n",
    "        # replace negative values with nans\n",
    "        df.assign(hours_worked=lambda x: x.hours_worked.where(x.hours_worked >= 0, np.nan))\n",
    "        # compute weekly income\n",
    "        .assign(weekly_income=lambda x: x.hours_worked * x.wage_per_hour)\n",
    "    )"
   ]
  },
  {
   "cell_type": "markdown",
   "id": "d2301348",
   "metadata": {
    "slideshow": {
     "slide_type": "slide"
    }
   },
   "source": [
    "### You look above and see what `RawData` and `ProcessedData` are, finding a `NOTE` that a fellow traveler has left for you."
   ]
  },
  {
   "cell_type": "code",
   "execution_count": 16,
   "id": "5a364f7e",
   "metadata": {},
   "outputs": [],
   "source": [
    "import pandera as pa\n",
    "\n",
    "# NOTE: this is what's supposed to be in `df` going into `process_data`\n",
    "class RawData(pa.SchemaModel):\n",
    "    hours_worked: float = pa.Field(coerce=True, nullable=True)\n",
    "    wage_per_hour: float = pa.Field(coerce=True, nullable=True)\n",
    "\n",
    "\n",
    "# ... and this is what `process_data` is supposed to return.\n",
    "class ProcessedData(RawData):\n",
    "    hours_worked: float = pa.Field(ge=0, coerce=True, nullable=True)\n",
    "    weekly_income: float = pa.Field(nullable=True)\n",
    "\n",
    "\n",
    "@pa.check_types\n",
    "def process_data(df: DataFrame[RawData]) -> DataFrame[ProcessedData]:\n",
    "    ..."
   ]
  },
  {
   "cell_type": "markdown",
   "id": "8787755f",
   "metadata": {
    "slideshow": {
     "slide_type": "slide"
    }
   },
   "source": [
    "## Moral of the Story"
   ]
  },
  {
   "cell_type": "markdown",
   "id": "997190c5",
   "metadata": {
    "slideshow": {
     "slide_type": "fragment"
    }
   },
   "source": [
    "> ##### The better you can reason about the contents of a dataframe, the faster you can debug."
   ]
  },
  {
   "cell_type": "markdown",
   "id": "cf8f8b5f",
   "metadata": {
    "slideshow": {
     "slide_type": "fragment"
    }
   },
   "source": [
    "> ##### The faster you can debug, the sooner you can focus on downstream tasks that you care about."
   ]
  },
  {
   "cell_type": "markdown",
   "id": "f6d96e2c",
   "metadata": {
    "slideshow": {
     "slide_type": "fragment"
    }
   },
   "source": [
    "> ##### By validating data through explicit contracts, you also create data documentation *and* a simple, stateless data shift detector."
   ]
  },
  {
   "cell_type": "markdown",
   "id": "514c996b",
   "metadata": {
    "slideshow": {
     "slide_type": "slide"
    }
   },
   "source": [
    "## Pandera Design Principles\n",
    "\n",
    "From [scipy 2020 - pandera: Statistical Data Validation of Pandas Dataframes](https://conference.scipy.org/proceedings/scipy2020/niels_bantilan.html) \n",
    "\n",
    "<image src=\"../static/pandera_design_principles.png\" width=\"550px\">"
   ]
  },
  {
   "cell_type": "markdown",
   "id": "b9b138fe",
   "metadata": {
    "slideshow": {
     "slide_type": "slide"
    }
   },
   "source": [
    "## Pandera Programming Model\n",
    "\n",
    "The pandera programming model is an iterative loop of building\n",
    "statistical domain knowledge, implementing data transforms and schemas,\n",
    "and verifying data.\n",
    "\n",
    "<br>\n",
    "\n",
    "<image src=\"../static/pandera_programming_model.png\" width=\"700px\">"
   ]
  },
  {
   "cell_type": "markdown",
   "id": "89dc62e5",
   "metadata": {
    "slideshow": {
     "slide_type": "slide"
    },
    "tags": []
   },
   "source": [
    "### Meta Comment\n",
    "\n",
    "##### This presentation notebook is validated by pandera 🤯"
   ]
  },
  {
   "cell_type": "markdown",
   "id": "6190a04b",
   "metadata": {
    "lines_to_next_cell": 2,
    "tags": []
   },
   "source": [
    "![mindblown](https://media.giphy.com/media/xT0xeJpnrWC4XWblEk/giphy-downsized-large.gif)"
   ]
  },
  {
   "cell_type": "markdown",
   "id": "a806523a",
   "metadata": {
    "slideshow": {
     "slide_type": "slide"
    }
   },
   "source": [
    "# 🤔 What's Data Testing\n",
    "\n",
    "### And How Can I Put it Into Practice?"
   ]
  },
  {
   "cell_type": "markdown",
   "id": "1619eb03",
   "metadata": {
    "slideshow": {
     "slide_type": "slide"
    }
   },
   "source": [
    "> **Data validation:** The act of falsifying data against explicit assumptions for some downstream purpose, like\n",
    "> analysis, modeling, and visualization."
   ]
  },
  {
   "cell_type": "markdown",
   "id": "1f9faf04",
   "metadata": {
    "slideshow": {
     "slide_type": "fragment"
    }
   },
   "source": [
    "> **Data Testing:** Validating not only real data, but also the functions that produce them."
   ]
  },
  {
   "cell_type": "markdown",
   "id": "268a6be1",
   "metadata": {
    "slideshow": {
     "slide_type": "slide"
    }
   },
   "source": [
    "\n",
    "# In the Real World 🌍\n",
    "\n",
    "#### Validate real data in production"
   ]
  },
  {
   "cell_type": "raw",
   "id": "49326d64",
   "metadata": {},
   "source": [
    "<div class=\"mermaid\">\n",
    "graph LR\n",
    "    R[(raw data)] --> RS([raw schema])\n",
    "    RS --> TF[transform function]\n",
    "    TF --> TS([transformed schema])\n",
    "    TS --> T[(transformed data)]\n",
    "\n",
    "    style RS fill:#8bedc6,stroke:#333\n",
    "    style TS fill:#8bedc6,stroke:#333\n",
    "</div>"
   ]
  },
  {
   "cell_type": "markdown",
   "id": "66b7ce07",
   "metadata": {
    "slideshow": {
     "slide_type": "slide"
    }
   },
   "source": [
    "\n",
    "# In the Test Suite 🧪\n",
    "\n",
    "#### Validate functions that produce data, given some test cases"
   ]
  },
  {
   "cell_type": "raw",
   "id": "17f8bdd9",
   "metadata": {},
   "source": [
    "<div class=\"mermaid\">\n",
    "graph LR\n",
    "    G([raw schema]) --> T1[(test case 1)]\n",
    "    G --> T2[(test case 2)]\n",
    "    G --> TN[(test case n)]\n",
    "\n",
    "    T1 --> TF[transform function]\n",
    "    T2 --> TF\n",
    "    TN --> TF\n",
    "    TF --> TS([transformed schema])\n",
    "    TS --> T[(transformed data)]\n",
    "\n",
    "    style G fill:#8bedc6,stroke:#333\n",
    "    style TS fill:#8bedc6,stroke:#333\n",
    "</div>"
   ]
  },
  {
   "cell_type": "markdown",
   "id": "b725fcf4",
   "metadata": {
    "slideshow": {
     "slide_type": "slide"
    }
   },
   "source": [
    "<img src=\"https://raw.githubusercontent.com/pandera-dev/pandera/master/docs/source/_static/pandera-logo.png\" width=\"125px\" style=\"margin: 0;\"/>\n",
    "\n",
    "<h2 style=\"margin-top: 0;\">Pandera</h2>\n",
    "\n",
    "#### An expressive and light-weight statistical typing tool for dataframe-like containers\n",
    "\n",
    "- Check the types and properties of dataframes\n",
    "- Easily integrate with existing data pipelines via function decorators\n",
    "- Synthesize data from schema objects for property-based testing"
   ]
  },
  {
   "cell_type": "markdown",
   "id": "fb096f73",
   "metadata": {
    "slideshow": {
     "slide_type": "slide"
    }
   },
   "source": [
    "#### Object-based API\n",
    "\n",
    "Defining a schema looks and feels like defining a pandas dataframe"
   ]
  },
  {
   "cell_type": "code",
   "execution_count": 17,
   "id": "0838e347",
   "metadata": {},
   "outputs": [],
   "source": [
    "import pandera as pa\n",
    "\n",
    "clean_data_schema = pa.DataFrameSchema(\n",
    "    columns={\n",
    "        \"continuous\": pa.Column(float, pa.Check.ge(0), nullable=True),\n",
    "        \"categorical\": pa.Column(str, pa.Check.isin([\"A\", \"B\", \"C\"]), nullable=True),\n",
    "    },\n",
    "    coerce=True,\n",
    ")"
   ]
  },
  {
   "cell_type": "markdown",
   "id": "e679ccf1",
   "metadata": {
    "slideshow": {
     "slide_type": "fragment"
    }
   },
   "source": [
    "#### Class-based API\n",
    "\n",
    "Define complex types with modern Python, inspired by [pydantic](https://pydantic-docs.helpmanual.io/) and `dataclasses`"
   ]
  },
  {
   "cell_type": "code",
   "execution_count": 18,
   "id": "751e1d8c",
   "metadata": {
    "lines_to_next_cell": 1
   },
   "outputs": [],
   "source": [
    "from pandera.typing import DataFrame, Series\n",
    "\n",
    "class CleanData(pa.SchemaModel):\n",
    "    continuous: Series[float] = pa.Field(ge=0, nullable=True)\n",
    "    categorical: Series[str] = pa.Field(isin=[\"A\", \"B\", \"C\"], nullable=True)\n",
    "\n",
    "    class Config:\n",
    "        coerce = True"
   ]
  },
  {
   "cell_type": "markdown",
   "id": "efcfd826",
   "metadata": {
    "slideshow": {
     "slide_type": "notes"
    }
   },
   "source": [
    "Pandera comes in two flavors"
   ]
  },
  {
   "cell_type": "markdown",
   "id": "77a3710a",
   "metadata": {
    "slideshow": {
     "slide_type": "slide"
    }
   },
   "source": [
    "#### Pandera Raises Informative Errors\n",
    "\n",
    "Know Exactly What Went Wrong with Your Data"
   ]
  },
  {
   "cell_type": "code",
   "execution_count": 19,
   "id": "d6381569",
   "metadata": {
    "lines_to_next_cell": 2,
    "tags": []
   },
   "outputs": [
    {
     "data": {
      "text/html": [
       "<div>\n",
       "<style scoped>\n",
       "    .dataframe tbody tr th:only-of-type {\n",
       "        vertical-align: middle;\n",
       "    }\n",
       "\n",
       "    .dataframe tbody tr th {\n",
       "        vertical-align: top;\n",
       "    }\n",
       "\n",
       "    .dataframe thead th {\n",
       "        text-align: right;\n",
       "    }\n",
       "</style>\n",
       "<table border=\"1\" class=\"dataframe\">\n",
       "  <thead>\n",
       "    <tr style=\"text-align: right;\">\n",
       "      <th></th>\n",
       "      <th>schema_context</th>\n",
       "      <th>column</th>\n",
       "      <th>check</th>\n",
       "      <th>check_number</th>\n",
       "      <th>failure_case</th>\n",
       "      <th>index</th>\n",
       "    </tr>\n",
       "  </thead>\n",
       "  <tbody>\n",
       "    <tr>\n",
       "      <th>0</th>\n",
       "      <td>Column</td>\n",
       "      <td>continuous</td>\n",
       "      <td>greater_than_or_equal_to(0)</td>\n",
       "      <td>0</td>\n",
       "      <td>-1.1</td>\n",
       "      <td>0</td>\n",
       "    </tr>\n",
       "    <tr>\n",
       "      <th>1</th>\n",
       "      <td>Column</td>\n",
       "      <td>continuous</td>\n",
       "      <td>greater_than_or_equal_to(0)</td>\n",
       "      <td>0</td>\n",
       "      <td>-0.1</td>\n",
       "      <td>3</td>\n",
       "    </tr>\n",
       "    <tr>\n",
       "      <th>2</th>\n",
       "      <td>Column</td>\n",
       "      <td>categorical</td>\n",
       "      <td>isin(['A', 'B', 'C'])</td>\n",
       "      <td>0</td>\n",
       "      <td>Z</td>\n",
       "      <td>3</td>\n",
       "    </tr>\n",
       "    <tr>\n",
       "      <th>3</th>\n",
       "      <td>Column</td>\n",
       "      <td>categorical</td>\n",
       "      <td>isin(['A', 'B', 'C'])</td>\n",
       "      <td>0</td>\n",
       "      <td>X</td>\n",
       "      <td>4</td>\n",
       "    </tr>\n",
       "  </tbody>\n",
       "</table>\n",
       "</div>"
      ],
      "text/plain": [
       "  schema_context       column                        check  check_number  \\\n",
       "0         Column   continuous  greater_than_or_equal_to(0)             0   \n",
       "1         Column   continuous  greater_than_or_equal_to(0)             0   \n",
       "2         Column  categorical        isin(['A', 'B', 'C'])             0   \n",
       "3         Column  categorical        isin(['A', 'B', 'C'])             0   \n",
       "\n",
       "  failure_case  index  \n",
       "0         -1.1      0  \n",
       "1         -0.1      3  \n",
       "2            Z      3  \n",
       "3            X      4  "
      ]
     },
     "metadata": {},
     "output_type": "display_data"
    }
   ],
   "source": [
    "raw_data = pd.DataFrame({\n",
    "    \"continuous\": [\"-1.1\", \"4.0\", \"10.25\", \"-0.1\", \"5.2\"],\n",
    "    \"categorical\": [\"A\", \"B\", \"C\", \"Z\", \"X\"],\n",
    "})\n",
    "\n",
    "try:\n",
    "    CleanData.validate(raw_data, lazy=True)\n",
    "except pa.errors.SchemaErrors as exc:\n",
    "    display(exc.failure_cases)"
   ]
  },
  {
   "cell_type": "markdown",
   "id": "b524cafd",
   "metadata": {
    "slideshow": {
     "slide_type": "slide"
    }
   },
   "source": [
    "### Pandera Supports Schema Transformations/Inheritence\n",
    "\n",
    "#### Object-based API\n",
    "\n",
    "Dynamically transform schema objects on the fly"
   ]
  },
  {
   "cell_type": "code",
   "execution_count": 20,
   "id": "dab74604",
   "metadata": {},
   "outputs": [],
   "source": [
    "raw_data_schema = pa.DataFrameSchema(\n",
    "    columns={\n",
    "        \"continuous\": pa.Column(float),\n",
    "        \"categorical\": pa.Column(str),\n",
    "    },\n",
    "    coerce=True,\n",
    ")\n",
    "\n",
    "clean_data_schema.update_columns({\n",
    "    \"continuous\": {\"nullable\": True},\n",
    "    \"categorical\": {\"checks\": pa.Check.isin([\"A\", \"B\", \"C\"]), \"nullable\": True},\n",
    "});"
   ]
  },
  {
   "cell_type": "markdown",
   "id": "15f4b7fd",
   "metadata": {
    "slideshow": {
     "slide_type": "fragment"
    }
   },
   "source": [
    "#### Class-based API\n",
    "\n",
    "Inherit from `pandera.SchemaModel` to Define Type Hierarchies"
   ]
  },
  {
   "cell_type": "code",
   "execution_count": 21,
   "id": "7bd30895",
   "metadata": {},
   "outputs": [],
   "source": [
    "class RawData(pa.SchemaModel):\n",
    "    continuous: Series[float]\n",
    "    categorical: Series[str]\n",
    "\n",
    "    class Config:\n",
    "        coerce = True\n",
    "\n",
    "class CleanData(RawData):\n",
    "    continuous = pa.Field(ge=0, nullable=True)\n",
    "    categorical = pa.Field(isin=[\"A\", \"B\", \"C\"], nullable=True);"
   ]
  },
  {
   "cell_type": "markdown",
   "id": "9f00d221",
   "metadata": {
    "slideshow": {
     "slide_type": "slide"
    }
   },
   "source": [
    "### Integrate Seamlessly with your Pipeline\n",
    "\n",
    "Use decorators to add IO checkpoints to the critical functions in your pipeline"
   ]
  },
  {
   "cell_type": "code",
   "execution_count": 22,
   "id": "26e80d32",
   "metadata": {
    "lines_to_next_cell": 2
   },
   "outputs": [
    {
     "data": {
      "text/html": [
       "<div>\n",
       "<style scoped>\n",
       "    .dataframe tbody tr th:only-of-type {\n",
       "        vertical-align: middle;\n",
       "    }\n",
       "\n",
       "    .dataframe tbody tr th {\n",
       "        vertical-align: top;\n",
       "    }\n",
       "\n",
       "    .dataframe thead th {\n",
       "        text-align: right;\n",
       "    }\n",
       "</style>\n",
       "<table border=\"1\" class=\"dataframe\">\n",
       "  <thead>\n",
       "    <tr style=\"text-align: right;\">\n",
       "      <th></th>\n",
       "      <th>continuous</th>\n",
       "      <th>categorical</th>\n",
       "    </tr>\n",
       "  </thead>\n",
       "  <tbody>\n",
       "    <tr>\n",
       "      <th>0</th>\n",
       "      <td>NaN</td>\n",
       "      <td>A</td>\n",
       "    </tr>\n",
       "    <tr>\n",
       "      <th>1</th>\n",
       "      <td>4.00</td>\n",
       "      <td>B</td>\n",
       "    </tr>\n",
       "    <tr>\n",
       "      <th>2</th>\n",
       "      <td>10.25</td>\n",
       "      <td>C</td>\n",
       "    </tr>\n",
       "    <tr>\n",
       "      <th>3</th>\n",
       "      <td>NaN</td>\n",
       "      <td>NaN</td>\n",
       "    </tr>\n",
       "    <tr>\n",
       "      <th>4</th>\n",
       "      <td>5.20</td>\n",
       "      <td>NaN</td>\n",
       "    </tr>\n",
       "  </tbody>\n",
       "</table>\n",
       "</div>"
      ],
      "text/plain": [
       "   continuous categorical\n",
       "0         NaN           A\n",
       "1        4.00           B\n",
       "2       10.25           C\n",
       "3         NaN         NaN\n",
       "4        5.20         NaN"
      ]
     },
     "execution_count": 22,
     "metadata": {},
     "output_type": "execute_result"
    }
   ],
   "source": [
    "@pa.check_types\n",
    "def fn(raw_data: DataFrame[RawData]) -> DataFrame[CleanData]:\n",
    "    return raw_data.assign(\n",
    "        continuous=lambda df: df[\"continuous\"].where(lambda x: x > 0, np.nan),\n",
    "        categorical=lambda df: df[\"categorical\"].where(lambda x: x.isin([\"A\", \"B\", \"C\"]), np.nan),\n",
    "    )\n",
    "\n",
    "\n",
    "fn(raw_data)"
   ]
  },
  {
   "cell_type": "markdown",
   "id": "36d38ccd",
   "metadata": {
    "slideshow": {
     "slide_type": "slide"
    }
   },
   "source": [
    "### Generative Schemas\n",
    "\n",
    "Schemas that synthesize valid data under its constraints"
   ]
  },
  {
   "cell_type": "code",
   "execution_count": 23,
   "id": "414f4b58",
   "metadata": {},
   "outputs": [
    {
     "data": {
      "text/html": [
       "<div>\n",
       "<style scoped>\n",
       "    .dataframe tbody tr th:only-of-type {\n",
       "        vertical-align: middle;\n",
       "    }\n",
       "\n",
       "    .dataframe tbody tr th {\n",
       "        vertical-align: top;\n",
       "    }\n",
       "\n",
       "    .dataframe thead th {\n",
       "        text-align: right;\n",
       "    }\n",
       "</style>\n",
       "<table border=\"1\" class=\"dataframe\">\n",
       "  <thead>\n",
       "    <tr style=\"text-align: right;\">\n",
       "      <th></th>\n",
       "      <th>continuous</th>\n",
       "      <th>categorical</th>\n",
       "    </tr>\n",
       "  </thead>\n",
       "  <tbody>\n",
       "    <tr>\n",
       "      <th>0</th>\n",
       "      <td>NaN</td>\n",
       "      <td>C</td>\n",
       "    </tr>\n",
       "    <tr>\n",
       "      <th>1</th>\n",
       "      <td>4.940656e-324</td>\n",
       "      <td>A</td>\n",
       "    </tr>\n",
       "    <tr>\n",
       "      <th>2</th>\n",
       "      <td>2.847778e+14</td>\n",
       "      <td>A</td>\n",
       "    </tr>\n",
       "    <tr>\n",
       "      <th>3</th>\n",
       "      <td>NaN</td>\n",
       "      <td>NaN</td>\n",
       "    </tr>\n",
       "    <tr>\n",
       "      <th>4</th>\n",
       "      <td>NaN</td>\n",
       "      <td>NaN</td>\n",
       "    </tr>\n",
       "  </tbody>\n",
       "</table>\n",
       "</div>"
      ],
      "text/plain": [
       "      continuous categorical\n",
       "0            NaN           C\n",
       "1  4.940656e-324           A\n",
       "2   2.847778e+14           A\n",
       "3            NaN         NaN\n",
       "4            NaN         NaN"
      ]
     },
     "execution_count": 23,
     "metadata": {},
     "output_type": "execute_result"
    }
   ],
   "source": [
    "CleanData.example(size=5)"
   ]
  },
  {
   "cell_type": "markdown",
   "id": "e0bd876b",
   "metadata": {
    "slideshow": {
     "slide_type": "fragment"
    }
   },
   "source": [
    "**Data Testing:** Test the functions that produce clean data"
   ]
  },
  {
   "cell_type": "code",
   "execution_count": 24,
   "id": "171c41d1",
   "metadata": {},
   "outputs": [
    {
     "name": "stdout",
     "output_type": "stream",
     "text": [
      "tests passed ✅\n"
     ]
    }
   ],
   "source": [
    "from hypothesis import given\n",
    "\n",
    "\n",
    "@given(RawData.strategy(size=5))\n",
    "def test_fn(raw_data):\n",
    "    fn(raw_data)\n",
    "\n",
    "\n",
    "def run_test_suite():\n",
    "    test_fn()\n",
    "    print(\"tests passed ✅\")\n",
    "\n",
    "\n",
    "run_test_suite()\n",
    "\n"
   ]
  },
  {
   "cell_type": "markdown",
   "id": "6c187267",
   "metadata": {
    "slideshow": {
     "slide_type": "slide"
    }
   },
   "source": [
    "# 🐓 Evolution"
   ]
  },
  {
   "cell_type": "markdown",
   "id": "15726663",
   "metadata": {
    "lines_to_next_cell": 0,
    "slideshow": {
     "slide_type": "slide"
    }
   },
   "source": [
    "## Major Events\n"
   ]
  },
  {
   "cell_type": "markdown",
   "id": "849b7663",
   "metadata": {
    "slideshow": {
     "slide_type": "fragment"
    }
   },
   "source": [
    "> ##### 📖 Documentation Improvements"
   ]
  },
  {
   "cell_type": "markdown",
   "id": "fdb14bc4",
   "metadata": {
    "slideshow": {
     "slide_type": "fragment"
    }
   },
   "source": [
    "> ##### 🔤 Class-based API"
   ]
  },
  {
   "cell_type": "markdown",
   "id": "8fa7c716",
   "metadata": {
    "slideshow": {
     "slide_type": "fragment"
    }
   },
   "source": [
    "> ##### 📊 Data Synthesis Strategies"
   ]
  },
  {
   "cell_type": "markdown",
   "id": "a4e289b7",
   "metadata": {
    "lines_to_next_cell": 2,
    "slideshow": {
     "slide_type": "fragment"
    }
   },
   "source": [
    "> ##### ⌨️ Pandera Type System"
   ]
  },
  {
   "cell_type": "markdown",
   "id": "8dc469db",
   "metadata": {
    "slideshow": {
     "slide_type": "slide"
    }
   },
   "source": [
    "## Expanding scope\n",
    "\n",
    "Adding `geopandas`, `dask`, `modin`, and `pyspark.pandas` was relatively\n",
    "straight forward."
   ]
  },
  {
   "cell_type": "code",
   "execution_count": 25,
   "id": "8e830af5",
   "metadata": {},
   "outputs": [
    {
     "data": {
      "text/html": [
       "<div>\n",
       "<style scoped>\n",
       "    .dataframe tbody tr th:only-of-type {\n",
       "        vertical-align: middle;\n",
       "    }\n",
       "\n",
       "    .dataframe tbody tr th {\n",
       "        vertical-align: top;\n",
       "    }\n",
       "\n",
       "    .dataframe thead th {\n",
       "        text-align: right;\n",
       "    }\n",
       "</style>\n",
       "<table border=\"1\" class=\"dataframe\">\n",
       "  <thead>\n",
       "    <tr style=\"text-align: right;\">\n",
       "      <th></th>\n",
       "      <th>continuous</th>\n",
       "      <th>categorical</th>\n",
       "    </tr>\n",
       "  </thead>\n",
       "  <tbody>\n",
       "    <tr>\n",
       "      <th>0</th>\n",
       "      <td>-1.1</td>\n",
       "      <td>A</td>\n",
       "    </tr>\n",
       "    <tr>\n",
       "      <th>1</th>\n",
       "      <td>4.0</td>\n",
       "      <td>B</td>\n",
       "    </tr>\n",
       "    <tr>\n",
       "      <th>2</th>\n",
       "      <td>10.25</td>\n",
       "      <td>C</td>\n",
       "    </tr>\n",
       "    <tr>\n",
       "      <th>3</th>\n",
       "      <td>-0.1</td>\n",
       "      <td>Z</td>\n",
       "    </tr>\n",
       "    <tr>\n",
       "      <th>4</th>\n",
       "      <td>5.2</td>\n",
       "      <td>X</td>\n",
       "    </tr>\n",
       "  </tbody>\n",
       "</table>\n",
       "</div>"
      ],
      "text/plain": [
       "  continuous categorical\n",
       "0       -1.1           A\n",
       "1        4.0           B\n",
       "2      10.25           C\n",
       "3       -0.1           Z\n",
       "4        5.2           X"
      ]
     },
     "metadata": {},
     "output_type": "display_data"
    }
   ],
   "source": [
    "display(raw_data)"
   ]
  },
  {
   "cell_type": "markdown",
   "id": "43e585a3",
   "metadata": {
    "slideshow": {
     "slide_type": "slide"
    }
   },
   "source": [
    "#### `dask`"
   ]
  },
  {
   "cell_type": "code",
   "execution_count": 26,
   "id": "be7be0b8",
   "metadata": {},
   "outputs": [
    {
     "data": {
      "text/html": [
       "<div>\n",
       "<style scoped>\n",
       "    .dataframe tbody tr th:only-of-type {\n",
       "        vertical-align: middle;\n",
       "    }\n",
       "\n",
       "    .dataframe tbody tr th {\n",
       "        vertical-align: top;\n",
       "    }\n",
       "\n",
       "    .dataframe thead th {\n",
       "        text-align: right;\n",
       "    }\n",
       "</style>\n",
       "<table border=\"1\" class=\"dataframe\">\n",
       "  <thead>\n",
       "    <tr style=\"text-align: right;\">\n",
       "      <th></th>\n",
       "      <th>schema_context</th>\n",
       "      <th>column</th>\n",
       "      <th>check</th>\n",
       "      <th>check_number</th>\n",
       "      <th>failure_case</th>\n",
       "      <th>index</th>\n",
       "    </tr>\n",
       "  </thead>\n",
       "  <tbody>\n",
       "    <tr>\n",
       "      <th>0</th>\n",
       "      <td>Column</td>\n",
       "      <td>continuous</td>\n",
       "      <td>greater_than_or_equal_to(0)</td>\n",
       "      <td>0</td>\n",
       "      <td>-1.1</td>\n",
       "      <td>0</td>\n",
       "    </tr>\n",
       "    <tr>\n",
       "      <th>1</th>\n",
       "      <td>Column</td>\n",
       "      <td>continuous</td>\n",
       "      <td>greater_than_or_equal_to(0)</td>\n",
       "      <td>0</td>\n",
       "      <td>-0.1</td>\n",
       "      <td>3</td>\n",
       "    </tr>\n",
       "    <tr>\n",
       "      <th>2</th>\n",
       "      <td>Column</td>\n",
       "      <td>categorical</td>\n",
       "      <td>isin(['A', 'B', 'C'])</td>\n",
       "      <td>0</td>\n",
       "      <td>Z</td>\n",
       "      <td>3</td>\n",
       "    </tr>\n",
       "    <tr>\n",
       "      <th>3</th>\n",
       "      <td>Column</td>\n",
       "      <td>categorical</td>\n",
       "      <td>isin(['A', 'B', 'C'])</td>\n",
       "      <td>0</td>\n",
       "      <td>X</td>\n",
       "      <td>4</td>\n",
       "    </tr>\n",
       "  </tbody>\n",
       "</table>\n",
       "</div>"
      ],
      "text/plain": [
       "  schema_context       column                        check  check_number  \\\n",
       "0         Column   continuous  greater_than_or_equal_to(0)             0   \n",
       "1         Column   continuous  greater_than_or_equal_to(0)             0   \n",
       "2         Column  categorical        isin(['A', 'B', 'C'])             0   \n",
       "3         Column  categorical        isin(['A', 'B', 'C'])             0   \n",
       "\n",
       "  failure_case  index  \n",
       "0         -1.1      0  \n",
       "1         -0.1      3  \n",
       "2            Z      3  \n",
       "3            X      4  "
      ]
     },
     "metadata": {},
     "output_type": "display_data"
    }
   ],
   "source": [
    "import dask.dataframe as dd\n",
    "\n",
    "dask_dataframe = dd.from_pandas(raw_data, npartitions=1)\n",
    "\n",
    "try:\n",
    "    CleanData(dask_dataframe, lazy=True).compute()\n",
    "except pa.errors.SchemaErrors as exc:\n",
    "    display(exc.failure_cases.sort_index())"
   ]
  },
  {
   "cell_type": "markdown",
   "id": "5c230f57",
   "metadata": {
    "slideshow": {
     "slide_type": "slide"
    }
   },
   "source": [
    "#### `modin`"
   ]
  },
  {
   "cell_type": "code",
   "execution_count": 30,
   "id": "092dad47",
   "metadata": {
    "lines_to_next_cell": 2
   },
   "outputs": [
    {
     "name": "stderr",
     "output_type": "stream",
     "text": [
      "FutureWarning: iteritems is deprecated and will be removed in a future version. Use .items instead.\n",
      "FutureWarning: iteritems is deprecated and will be removed in a future version. Use .items instead.\n",
      "FutureWarning: iteritems is deprecated and will be removed in a future version. Use .items instead.\n",
      "FutureWarning: iteritems is deprecated and will be removed in a future version. Use .items instead.\n",
      "FutureWarning: iteritems is deprecated and will be removed in a future version. Use .items instead.\n"
     ]
    },
    {
     "data": {
      "text/html": [
       "<div>\n",
       "<style scoped>\n",
       "    .dataframe tbody tr th:only-of-type {\n",
       "        vertical-align: middle;\n",
       "    }\n",
       "\n",
       "    .dataframe tbody tr th {\n",
       "        vertical-align: top;\n",
       "    }\n",
       "\n",
       "    .dataframe thead th {\n",
       "        text-align: right;\n",
       "    }\n",
       "</style>\n",
       "<table border=\"1\" class=\"dataframe\">\n",
       "  <thead>\n",
       "    <tr style=\"text-align: right;\">\n",
       "      <th></th>\n",
       "      <th>schema_context</th>\n",
       "      <th>column</th>\n",
       "      <th>check</th>\n",
       "      <th>check_number</th>\n",
       "      <th>failure_case</th>\n",
       "      <th>index</th>\n",
       "    </tr>\n",
       "  </thead>\n",
       "  <tbody>\n",
       "    <tr>\n",
       "      <th>0</th>\n",
       "      <td>Column</td>\n",
       "      <td>continuous</td>\n",
       "      <td>greater_than_or_equal_to(0)</td>\n",
       "      <td>0</td>\n",
       "      <td>-1.1</td>\n",
       "      <td>0</td>\n",
       "    </tr>\n",
       "    <tr>\n",
       "      <th>1</th>\n",
       "      <td>Column</td>\n",
       "      <td>continuous</td>\n",
       "      <td>greater_than_or_equal_to(0)</td>\n",
       "      <td>0</td>\n",
       "      <td>-0.1</td>\n",
       "      <td>3</td>\n",
       "    </tr>\n",
       "    <tr>\n",
       "      <th>2</th>\n",
       "      <td>Column</td>\n",
       "      <td>categorical</td>\n",
       "      <td>isin(['A', 'B', 'C'])</td>\n",
       "      <td>0</td>\n",
       "      <td>Z</td>\n",
       "      <td>3</td>\n",
       "    </tr>\n",
       "    <tr>\n",
       "      <th>3</th>\n",
       "      <td>Column</td>\n",
       "      <td>categorical</td>\n",
       "      <td>isin(['A', 'B', 'C'])</td>\n",
       "      <td>0</td>\n",
       "      <td>X</td>\n",
       "      <td>4</td>\n",
       "    </tr>\n",
       "  </tbody>\n",
       "</table>\n",
       "</div>"
      ],
      "text/plain": [
       "  schema_context       column                        check  check_number  \\\n",
       "0         Column   continuous  greater_than_or_equal_to(0)             0   \n",
       "1         Column   continuous  greater_than_or_equal_to(0)             0   \n",
       "2         Column  categorical        isin(['A', 'B', 'C'])             0   \n",
       "3         Column  categorical        isin(['A', 'B', 'C'])             0   \n",
       "\n",
       "  failure_case  index  \n",
       "0         -1.1      0  \n",
       "1         -0.1      3  \n",
       "2            Z      3  \n",
       "3            X      4  "
      ]
     },
     "metadata": {},
     "output_type": "display_data"
    }
   ],
   "source": [
    "import modin.pandas as mpd\n",
    "\n",
    "modin_dataframe = mpd.DataFrame(raw_data)\n",
    "\n",
    "try:\n",
    "    CleanData(modin_dataframe, lazy=True)\n",
    "except pa.errors.SchemaErrors as exc:\n",
    "    display(exc.failure_cases.sort_index())"
   ]
  },
  {
   "cell_type": "markdown",
   "id": "d55d099c",
   "metadata": {
    "slideshow": {
     "slide_type": "slide"
    }
   },
   "source": [
    "#### `pyspark.pandas`"
   ]
  },
  {
   "cell_type": "code",
   "execution_count": 28,
   "id": "28a22087",
   "metadata": {
    "lines_to_next_cell": 2
   },
   "outputs": [
    {
     "name": "stderr",
     "output_type": "stream",
     "text": [
      "                                                                                \r"
     ]
    },
    {
     "data": {
      "text/html": [
       "<div>\n",
       "<style scoped>\n",
       "    .dataframe tbody tr th:only-of-type {\n",
       "        vertical-align: middle;\n",
       "    }\n",
       "\n",
       "    .dataframe tbody tr th {\n",
       "        vertical-align: top;\n",
       "    }\n",
       "\n",
       "    .dataframe thead th {\n",
       "        text-align: right;\n",
       "    }\n",
       "</style>\n",
       "<table border=\"1\" class=\"dataframe\">\n",
       "  <thead>\n",
       "    <tr style=\"text-align: right;\">\n",
       "      <th></th>\n",
       "      <th>schema_context</th>\n",
       "      <th>column</th>\n",
       "      <th>check</th>\n",
       "      <th>check_number</th>\n",
       "      <th>failure_case</th>\n",
       "      <th>index</th>\n",
       "    </tr>\n",
       "  </thead>\n",
       "  <tbody>\n",
       "    <tr>\n",
       "      <th>0</th>\n",
       "      <td>DataFrameSchema</td>\n",
       "      <td>None</td>\n",
       "      <td>column_in_dataframe</td>\n",
       "      <td>None</td>\n",
       "      <td>continuous</td>\n",
       "      <td>None</td>\n",
       "    </tr>\n",
       "    <tr>\n",
       "      <th>1</th>\n",
       "      <td>DataFrameSchema</td>\n",
       "      <td>None</td>\n",
       "      <td>column_in_dataframe</td>\n",
       "      <td>None</td>\n",
       "      <td>categorical</td>\n",
       "      <td>None</td>\n",
       "    </tr>\n",
       "  </tbody>\n",
       "</table>\n",
       "</div>"
      ],
      "text/plain": [
       "    schema_context column                check check_number failure_case index\n",
       "0  DataFrameSchema   None  column_in_dataframe         None   continuous  None\n",
       "1  DataFrameSchema   None  column_in_dataframe         None  categorical  None"
      ]
     },
     "metadata": {},
     "output_type": "display_data"
    }
   ],
   "source": [
    "import pyspark.pandas as ps\n",
    "\n",
    "pyspark_pd_dataframe = ps.DataFrame(raw_data)\n",
    "\n",
    "try:\n",
    "    CleanData(pyspark_pd_dataframe, lazy=True)\n",
    "except pa.errors.SchemaErrors as exc:\n",
    "    display(exc.failure_cases)"
   ]
  },
  {
   "cell_type": "markdown",
   "id": "c3321058",
   "metadata": {
    "slideshow": {
     "slide_type": "slide"
    }
   },
   "source": [
    "### Problem: What about non-pandas-compliant dataframes?"
   ]
  },
  {
   "cell_type": "markdown",
   "id": "0af055bc",
   "metadata": {
    "slideshow": {
     "slide_type": "fragment"
    }
   },
   "source": [
    "### 😩 Design weaknesses\n",
    "\n",
    "- Schemas and checks were strongly coupled with pandas\n",
    "- Error reporting and eager validation assumed in-memory data\n",
    "- Leaky pandas abstractions"
   ]
  },
  {
   "cell_type": "markdown",
   "id": "5ab8580b",
   "metadata": {
    "slideshow": {
     "slide_type": "fragment"
    }
   },
   "source": [
    "### 💪 Design strengths\n",
    "\n",
    "- Generic schema interface\n",
    "- Flexible check abstraction\n",
    "- Flexible type system"
   ]
  },
  {
   "cell_type": "markdown",
   "id": "0fb1f690",
   "metadata": {
    "slideshow": {
     "slide_type": "slide"
    }
   },
   "source": [
    "# 🦩 Revolution"
   ]
  },
  {
   "cell_type": "markdown",
   "id": "ae8004e3",
   "metadata": {
    "slideshow": {
     "slide_type": "slide"
    }
   },
   "source": [
    "## Re-writing pandera internals\n",
    "\n",
    "**High-level approach:** decoupling schema specification from backend\n",
    "\n",
    "- A `pandera.api` subpackage, which contains the schema specification that\n",
    "  defines the properties of an underlying data structure.\n",
    "- A `pandera.backends` subpackage, which leverages the schema specification and\n",
    "  implements the actual validation logic.\n",
    "- A backend registry, which maps a particular API specification to a backend\n",
    "  based on the DataFrame type being validated.\n",
    "- A common type-aware `Check` namespace and registry, which registers\n",
    "  type-specific implementations of built-in checks and allows contributors to\n",
    "  easily add new built-in checks."
   ]
  },
  {
   "cell_type": "markdown",
   "id": "eb79fc61",
   "metadata": {
    "slideshow": {
     "slide_type": "slide"
    }
   },
   "source": [
    "### Writing your own schema\n",
    "\n",
    "``` python\n",
    "import sloth as sl\n",
    "from pandera.api.base.schema import BaseSchema\n",
    "from pandera.backends.base import BaseSchemaBackend\n",
    "\n",
    "class DataFrameSchema(BaseSchema):\n",
    "    def __init__(self, **kwargs):\n",
    "        # add properties that this dataframe would contain\n",
    "\n",
    "class DataFrameSchemaBackend(BaseSchemaBackend):\n",
    "    def validate(\n",
    "        self,\n",
    "        check_obj: sl.DataFrame,\n",
    "        schema: DataFrameSchema,\n",
    "        *,\n",
    "        **kwargs,\n",
    "    ):\n",
    "        # implement custom validation logic\n",
    "        \n",
    "# register the backend\n",
    "DataFrameSchema.register_backend(\n",
    "    sloth.DataFrame,\n",
    "    DataFrameSchemaBackend,\n",
    ")\n",
    "````"
   ]
  },
  {
   "cell_type": "markdown",
   "id": "42534713",
   "metadata": {
    "slideshow": {
     "slide_type": "slide"
    }
   },
   "source": [
    "### 📢 Pandera now supports `pyspark.sql.DataFrame` in `0.16.0b`!\n",
    "\n",
    "https://pandera.readthedocs.io/en/latest/\n",
    "\n",
    "```python\n",
    "import pandera.pyspark as pa\n",
    "import pyspark.sql.types as T\n",
    "\n",
    "from decimal import Decimal\n",
    "from pyspark.sql import DataFrame\n",
    "from pandera.pyspark import DataFrameModel\n",
    "\n",
    "\n",
    "class PanderaSchema(DataFrameModel):\n",
    "    id: T.IntegerType() = pa.Field(gt=5)\n",
    "    product_name: T.StringType() = pa.Field(str_startswith=\"B\")\n",
    "    price: T.DecimalType(20, 5) = pa.Field()\n",
    "    description: T.ArrayType(T.StringType()) = pa.Field()\n",
    "    meta: T.MapType(T.StringType(), T.StringType()) = pa.Field()\n",
    "````"
   ]
  },
  {
   "cell_type": "markdown",
   "id": "55955d47",
   "metadata": {
    "slideshow": {
     "slide_type": "slide"
    }
   },
   "source": [
    "## Organizational and Development Challenges\n",
    "\n",
    "- **Multi-tasking the rewrite with PR reviews**\n",
    "- **Centralized knowledge**\n",
    "- **Informal governance**"
   ]
  },
  {
   "cell_type": "markdown",
   "id": "ec16e13d",
   "metadata": {
    "slideshow": {
     "slide_type": "slide"
    }
   },
   "source": [
    "## Retrospective\n",
    "\n",
    "> #### Things in place that reduced the risk of regressions\n",
    "> \n",
    "> - Unit tests.\n",
    "> - Localized pandas coupling.\n",
    "> - Lessons learned from pandas-compliant integrations."
   ]
  },
  {
   "cell_type": "markdown",
   "id": "7a94246a",
   "metadata": {
    "slideshow": {
     "slide_type": "fragment"
    }
   },
   "source": [
    "> #### Additional approaches to put into practice in the future:\n",
    "> \n",
    "> - Thoughtful design work.\n",
    "> - Library-independent error reporting.\n",
    "> - Decoupling metadata from data.\n",
    "> - Investing in governance and community."
   ]
  },
  {
   "cell_type": "markdown",
   "id": "e5e08908",
   "metadata": {
    "slideshow": {
     "slide_type": "slide"
    }
   },
   "source": [
    "## Updated Principles\n",
    "\n",
    "<image src=\"../static/pandera_updated_principles.png\" width=\"600px\">"
   ]
  },
  {
   "cell_type": "markdown",
   "id": "8b74be27",
   "metadata": {
    "slideshow": {
     "slide_type": "slide"
    }
   },
   "source": [
    "## Announcement\n",
    "\n",
    "### 🎉 Pandera has joined Union.ai 🎉"
   ]
  },
  {
   "cell_type": "markdown",
   "id": "cbc363ba",
   "metadata": {
    "slideshow": {
     "slide_type": "fragment"
    }
   },
   "source": [
    "\n",
    "What does this mean?\n",
    "\n",
    "- It will continue to be open source.\n",
    "- It will have more resources to maintain and govern it.\n",
    "- We can learn from enterprise users."
   ]
  },
  {
   "cell_type": "markdown",
   "id": "f88bc9e2",
   "metadata": {
    "slideshow": {
     "slide_type": "slide"
    }
   },
   "source": [
    "## 🛣️ Roadmap\n",
    "\n",
    "- 🤝 **Integrations**: support more data manipulation libraries:\n",
    "  - Polars support: https://github.com/unionai-oss/pandera/issues/1064\n",
    "  - Ibis support: https://github.com/unionai-oss/pandera/issues/1105\n",
    "  - Investigate the dataframe-api standard: https://github.com/data-apis/dataframe-api\n",
    "  - Open an issue! https://github.com/unionai-oss/pandera/issues\n",
    "- 💻 **User Experience:** polish the API:\n",
    "  - better error-reporting\n",
    "  - more built-in checks\n",
    "  - conditional validation\n",
    "- 🤝 **Interoperability:** tighter integrations with the python ecosystem:\n",
    "  - `pydantic v2`\n",
    "  - `pytest`: collect data coverage statistics\n",
    "  - `hypothesis`: faster data synthesis\n",
    "- 🏆 **Innovations:** new capabilities:\n",
    "  - stateful data validation\n",
    "  - model-based types"
   ]
  },
  {
   "cell_type": "markdown",
   "id": "99531f44",
   "metadata": {
    "slideshow": {
     "slide_type": "slide"
    }
   },
   "source": [
    "# Join the Community!\n",
    "\n",
    "![badge](https://img.shields.io/github/stars/pandera-dev/pandera?style=social)\n",
    "[![badge](https://img.shields.io/pypi/pyversions/pandera.svg)](https://pypi.python.org/pypi/pandera/)\n",
    "[![badge](https://img.shields.io/pypi/v/pandera.svg)](https://pypi.org/project/pandera/)\n",
    "![badge](https://img.shields.io/github/contributors/pandera-dev/pandera)\n",
    "[![badge](https://pepy.tech/badge/pandera)](https://pepy.tech/project/pandera)\n",
    "[![badge](https://pepy.tech/badge/pandera/month)](https://pepy.tech/project/pandera)\n",
    "[![badge](https://img.shields.io/badge/discord-chat-purple?color=%235765F2&label=discord&logo=discord)](https://discord.gg/vyanhWuaKB)\n",
    "\n",
    "\n",
    "- **Twitter**: [@cosmicbboy](https://twitter.com/cosmicBboy)\n",
    "- **Discord**: https://discord.gg/vyanhWuaKB\n",
    "- **Email**: [niels@union.ai](mailto:niels@union.ai)\n",
    "- **Repo**: https://github.com/unionai-oss/pandera\n",
    "- **Docs**: https://pandera.readthedocs.io\n",
    "- **Contributing Guide**: https://pandera.readthedocs.io/en/stable/CONTRIBUTING.html\n",
    "- **Become a Sponsor**: https://github.com/sponsors/cosmicBboy"
   ]
  },
  {
   "cell_type": "markdown",
   "id": "856d735e",
   "metadata": {
    "slideshow": {
     "slide_type": "slide"
    }
   },
   "source": [
    "# Join me at the sprints!\n",
    "\n",
    "Contribute to the `Flyte` project: https://www.flyte.org\n",
    "\n",
    "<image src=\"../static/flyte_sprint.png\" width=\"600px\">"
   ]
  }
 ],
 "metadata": {
  "jupytext": {
   "encoding": "# -*- coding: utf-8 -*-",
   "formats": "ipynb,py:percent"
  },
  "kernelspec": {
   "display_name": "pandera-presentations",
   "language": "python",
   "name": "python3"
  },
  "language_info": {
   "codemirror_mode": {
    "name": "ipython",
    "version": 3
   },
   "file_extension": ".py",
   "mimetype": "text/x-python",
   "name": "python",
   "nbconvert_exporter": "python",
   "pygments_lexer": "ipython3",
   "version": "3.9.16"
  }
 },
 "nbformat": 4,
 "nbformat_minor": 5
}
