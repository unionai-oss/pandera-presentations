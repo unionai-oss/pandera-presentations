{
 "cells": [
  {
   "cell_type": "markdown",
   "id": "4a9f0152",
   "metadata": {
    "slideshow": {
     "slide_type": "slide"
    }
   },
   "source": [
    "\n",
    "# Pandera: Beyond Pandas Data Validation 🐼✅\n",
    "\n",
    "**Niels Bantilan**, Chief ML Engineer @ Union.ai\n",
    "\n",
    "*SciPy 2023, July 12th 2023*"
   ]
  },
  {
   "cell_type": "markdown",
   "id": "2f4195b0",
   "metadata": {
    "slideshow": {
     "slide_type": "slide"
    }
   },
   "source": [
    "# Background\n",
    "\n",
    "- 📜 B.A. in Biology and Dance\n",
    "- 📜 M.P.H. in Sociomedical Science and Public Health Informatics\n",
    "- 🤖 Chief Machine Learning Engineer @ Union.ai\n",
    "- 🛩 Flytekit OSS Maintainer\n",
    "- ✅ Author and Maintainer of Pandera\n",
    "- 🦾 Author of UnionML\n",
    "- 🛠 Make DS/ML practitioners more productive"
   ]
  },
  {
   "cell_type": "markdown",
   "id": "863d4960",
   "metadata": {
    "slideshow": {
     "slide_type": "slide"
    }
   },
   "source": [
    "### This is a talk about open source development 🧑🏾‍💻"
   ]
  },
  {
   "cell_type": "markdown",
   "id": "9e780942",
   "metadata": {
    "slideshow": {
     "slide_type": "slide"
    }
   },
   "source": [
    "# Outline 📝\n",
    "\n",
    "- 🐣 Origins: solving a local problem\n",
    "- 🐓 Evolution: solving other people's problems\n",
    "- 🦩 Revolution: rewriting Pandera's internals\n",
    "- 🌅 What's next?"
   ]
  },
  {
   "cell_type": "markdown",
   "id": "55e330ad",
   "metadata": {
    "slideshow": {
     "slide_type": "slide"
    }
   },
   "source": [
    "### Where's the Code?\n",
    "\n",
    "🖼 **Slides**: https://pandera-dev.github.io/pandera-presentations/slides/20230712_scipy_beyond_pandas.slides.html\n",
    "\n",
    "📓 **Notebook**: https://github.com/pandera-dev/pandera-presentations/blob/master/notebooks/20230712_scipy_beyond_pandas.ipynb"
   ]
  },
  {
   "cell_type": "markdown",
   "id": "b943e094",
   "metadata": {
    "slideshow": {
     "slide_type": "slide"
    }
   },
   "source": [
    "# 🐣 Origins"
   ]
  },
  {
   "cell_type": "code",
   "execution_count": 1,
   "id": "b8681598",
   "metadata": {
    "jupyter": {
     "source_hidden": true
    },
    "tags": [
     "hide_input",
     "hide_output"
    ]
   },
   "outputs": [],
   "source": [
    "import os\n",
    "import warnings\n",
    "import pyspark\n",
    "\n",
    "from IPython.display import display, Markdown\n",
    "\n",
    "warnings.simplefilter(\"ignore\")\n",
    "pyspark.SparkContext().setLogLevel(\"OFF\")\n",
    "os.environ[\"MODIN_ENGINE\"] = \"ray\""
   ]
  },
  {
   "cell_type": "markdown",
   "id": "e229e7cd",
   "metadata": {
    "slideshow": {
     "slide_type": "slide"
    }
   },
   "source": [
    "## 🤷‍♂️ Why Should I Validate Data?"
   ]
  },
  {
   "cell_type": "markdown",
   "id": "a37c9a50",
   "metadata": {
    "slideshow": {
     "slide_type": "slide"
    }
   },
   "source": [
    "## What's a `DataFrame`?"
   ]
  },
  {
   "cell_type": "code",
   "execution_count": 2,
   "id": "e68a48cc",
   "metadata": {
    "slideshow": {
     "slide_type": "skip"
    }
   },
   "outputs": [],
   "source": [
    "import uuid\n",
    "\n",
    "import numpy as np\n",
    "import pandas as pd\n",
    "\n",
    "dataframe = pd.DataFrame({\n",
    "    \"person_id\": [str(uuid.uuid4())[:7] for _ in range(6)],\n",
    "    \"hours_worked\": [38.5, 41.25, \"35.0\", 27.75, 22.25, -20.5],\n",
    "    \"wage_per_hour\": [15.1, 15, 21.30, 17.5, 19.50, 25.50],\n",
    "}).set_index(\"person_id\")\n",
    "\n",
    "df = dataframe"
   ]
  },
  {
   "cell_type": "code",
   "execution_count": 3,
   "id": "d28bbd5e",
   "metadata": {},
   "outputs": [
    {
     "data": {
      "text/html": [
       "<div>\n",
       "<style scoped>\n",
       "    .dataframe tbody tr th:only-of-type {\n",
       "        vertical-align: middle;\n",
       "    }\n",
       "\n",
       "    .dataframe tbody tr th {\n",
       "        vertical-align: top;\n",
       "    }\n",
       "\n",
       "    .dataframe thead th {\n",
       "        text-align: right;\n",
       "    }\n",
       "</style>\n",
       "<table border=\"1\" class=\"dataframe\">\n",
       "  <thead>\n",
       "    <tr style=\"text-align: right;\">\n",
       "      <th></th>\n",
       "      <th>hours_worked</th>\n",
       "      <th>wage_per_hour</th>\n",
       "    </tr>\n",
       "    <tr>\n",
       "      <th>person_id</th>\n",
       "      <th></th>\n",
       "      <th></th>\n",
       "    </tr>\n",
       "  </thead>\n",
       "  <tbody>\n",
       "    <tr>\n",
       "      <th>1ac0c42</th>\n",
       "      <td>38.5</td>\n",
       "      <td>15.1</td>\n",
       "    </tr>\n",
       "    <tr>\n",
       "      <th>edda497</th>\n",
       "      <td>41.25</td>\n",
       "      <td>15.0</td>\n",
       "    </tr>\n",
       "    <tr>\n",
       "      <th>e8c6fb7</th>\n",
       "      <td>35.0</td>\n",
       "      <td>21.3</td>\n",
       "    </tr>\n",
       "    <tr>\n",
       "      <th>1332472</th>\n",
       "      <td>27.75</td>\n",
       "      <td>17.5</td>\n",
       "    </tr>\n",
       "    <tr>\n",
       "      <th>beb478b</th>\n",
       "      <td>22.25</td>\n",
       "      <td>19.5</td>\n",
       "    </tr>\n",
       "  </tbody>\n",
       "</table>\n",
       "</div>"
      ],
      "text/plain": [
       "          hours_worked  wage_per_hour\n",
       "person_id                            \n",
       "1ac0c42           38.5           15.1\n",
       "edda497          41.25           15.0\n",
       "e8c6fb7           35.0           21.3\n",
       "1332472          27.75           17.5\n",
       "beb478b          22.25           19.5"
      ]
     },
     "execution_count": 3,
     "metadata": {},
     "output_type": "execute_result"
    }
   ],
   "source": [
    "dataframe.head()"
   ]
  },
  {
   "cell_type": "markdown",
   "id": "05d4b54e",
   "metadata": {
    "slideshow": {
     "slide_type": "slide"
    }
   },
   "source": [
    "## What's Data Validation?\n",
    "\n",
    "Data validation is the act of _falsifying_ data against explicit assumptions\n",
    "for some downstream purpose, like analysis, modeling, and visualization."
   ]
  },
  {
   "cell_type": "markdown",
   "id": "457b4e3c",
   "metadata": {
    "slideshow": {
     "slide_type": "fragment"
    }
   },
   "source": [
    "> \"All swans are white\""
   ]
  },
  {
   "cell_type": "code",
   "execution_count": 4,
   "id": "90657d6d",
   "metadata": {
    "slideshow": {
     "slide_type": "fragment"
    },
    "tags": [
     "hide_input"
    ]
   },
   "outputs": [
    {
     "data": {
      "text/html": [
       "<p>\n",
       "    <a href=\"https://commons.wikimedia.org/wiki/File:Black_Swans.jpg#/media/File:Black_Swans.jpg\">\n",
       "    <img src=\"https://upload.wikimedia.org/wikipedia/commons/6/60/Black_Swans.jpg\" alt=\"Pair of black swans swimming\" height=\"275\" width=\"275\"\n",
       "     style=\"display: block; margin-left: auto; margin-right: auto;\"/>\n",
       "    </a>\n",
       "    <p style=\"font-size: x-small; text-align: center;\">\n",
       "    <a href=\"http://creativecommons.org/licenses/by-sa/3.0/\" title=\"Creative Commons Attribution-Share Alike 3.0\">CC BY-SA 3.0</a>,\n",
       "    <a href=\"https://commons.wikimedia.org/w/index.php?curid=1243220\">Link</a>\n",
       "    </p>\n",
       "</p>\n"
      ],
      "text/plain": [
       "<IPython.core.display.HTML object>"
      ]
     },
     "metadata": {},
     "output_type": "display_data"
    }
   ],
   "source": [
    "%%html\n",
    "<p>\n",
    "    <a href=\"https://commons.wikimedia.org/wiki/File:Black_Swans.jpg#/media/File:Black_Swans.jpg\">\n",
    "    <img src=\"https://upload.wikimedia.org/wikipedia/commons/6/60/Black_Swans.jpg\" alt=\"Pair of black swans swimming\" height=\"275\" width=\"275\"\n",
    "     style=\"display: block; margin-left: auto; margin-right: auto;\"/>\n",
    "    </a>\n",
    "    <p style=\"font-size: x-small; text-align: center;\">\n",
    "    <a href=\"http://creativecommons.org/licenses/by-sa/3.0/\" title=\"Creative Commons Attribution-Share Alike 3.0\">CC BY-SA 3.0</a>,\n",
    "    <a href=\"https://commons.wikimedia.org/w/index.php?curid=1243220\">Link</a>\n",
    "    </p>\n",
    "</p>"
   ]
  },
  {
   "cell_type": "markdown",
   "id": "97ee5ec1",
   "metadata": {
    "slideshow": {
     "slide_type": "slide"
    }
   },
   "source": [
    "## Why Do I Need it?"
   ]
  },
  {
   "cell_type": "markdown",
   "id": "32cbef2e",
   "metadata": {
    "slideshow": {
     "slide_type": "fragment"
    }
   },
   "source": [
    "#### 🐞 It can be difficult to reason about and debug data processing pipelines."
   ]
  },
  {
   "cell_type": "markdown",
   "id": "e268354e",
   "metadata": {
    "slideshow": {
     "slide_type": "fragment"
    }
   },
   "source": [
    "#### ⚠️ It's critical to ensuring data quality in many contexts especially when the end product informs business decisions, supports scientific findings, or generates predictions in a production setting."
   ]
  },
  {
   "cell_type": "markdown",
   "id": "b63ca74b",
   "metadata": {
    "slideshow": {
     "slide_type": "slide"
    }
   },
   "source": [
    "## Everyone has a personal relationship with their dataframes"
   ]
  },
  {
   "cell_type": "markdown",
   "id": "7795c433",
   "metadata": {
    "slideshow": {
     "slide_type": "fragment"
    }
   },
   "source": [
    "### Story Time 📖\n",
    "\n",
    "##### Imagine that you're a data scientist maintaining an existing data processing pipeline 👩‍💻👨‍💻..."
   ]
  },
  {
   "cell_type": "code",
   "execution_count": 5,
   "id": "17c437e5",
   "metadata": {
    "slideshow": {
     "slide_type": "skip"
    }
   },
   "outputs": [
    {
     "name": "stdout",
     "output_type": "stream",
     "text": [
      "can't multiply sequence by non-int of type 'float'\n"
     ]
    }
   ],
   "source": [
    "def process_data(df):\n",
    "    return df.assign(weekly_income=lambda x: x.hours_worked * x.wage_per_hour)\n",
    "\n",
    "try:\n",
    "    process_data(dataframe)\n",
    "except TypeError as exc:\n",
    "    print(exc)"
   ]
  },
  {
   "cell_type": "markdown",
   "id": "45c6d38a",
   "metadata": {
    "slideshow": {
     "slide_type": "slide"
    }
   },
   "source": [
    "### One day, you encounter an error log trail and decide to follow it..."
   ]
  },
  {
   "cell_type": "markdown",
   "id": "5167c0a2",
   "metadata": {},
   "source": [
    "```python\n",
    "/usr/local/miniconda3/envs/pandera-presentations/lib/python3.7/site-packages/pandas/core/ops/__init__.py in masked_arith_op(x, y, op)\n",
    "    445         if mask.any():\n",
    "    446             with np.errstate(all=\"ignore\"):\n",
    "--> 447                 result[mask] = op(xrav[mask], com.values_from_object(yrav[mask]))\n",
    "    448 \n",
    "    449     else:\n",
    "\n",
    "TypeError: can't multiply sequence by non-int of type 'float'\n",
    "```"
   ]
  },
  {
   "cell_type": "markdown",
   "id": "f04597d2",
   "metadata": {
    "slideshow": {
     "slide_type": "slide"
    }
   },
   "source": [
    "### And you find yourself at the top of a function..."
   ]
  },
  {
   "cell_type": "code",
   "execution_count": 6,
   "id": "6a1087d8",
   "metadata": {
    "lines_to_next_cell": 1
   },
   "outputs": [],
   "source": [
    "def process_data(df):\n",
    "    ..."
   ]
  },
  {
   "cell_type": "markdown",
   "id": "a8d3ad51",
   "metadata": {
    "slideshow": {
     "slide_type": "slide"
    }
   },
   "source": [
    "### You look around, and see some hints of what had happened..."
   ]
  },
  {
   "cell_type": "code",
   "execution_count": 7,
   "id": "72e81139",
   "metadata": {},
   "outputs": [],
   "source": [
    "def process_data(df):\n",
    "    return df.assign(weekly_income=lambda x: x.hours_worked * x.wage_per_hour)"
   ]
  },
  {
   "cell_type": "markdown",
   "id": "175cf461",
   "metadata": {
    "slideshow": {
     "slide_type": "slide"
    }
   },
   "source": [
    "### You sort of know what's going on, but you want to take a closer look!"
   ]
  },
  {
   "cell_type": "code",
   "execution_count": 8,
   "id": "00629a23",
   "metadata": {
    "lines_to_next_cell": 1
   },
   "outputs": [],
   "source": [
    "def process_data(df):\n",
    "    import pdb; pdb.set_trace()  # <- insert breakpoint\n",
    "    return df.assign(weekly_income=lambda x: x.hours_worked * x.wage_per_hour)"
   ]
  },
  {
   "cell_type": "markdown",
   "id": "6cc80b10",
   "metadata": {
    "slideshow": {
     "slide_type": "slide"
    }
   },
   "source": [
    "### And you find some funny business going on..."
   ]
  },
  {
   "cell_type": "code",
   "execution_count": 9,
   "id": "a0182474",
   "metadata": {},
   "outputs": [
    {
     "name": "stdout",
     "output_type": "stream",
     "text": [
      "          hours_worked  wage_per_hour\n",
      "person_id                            \n",
      "1ac0c42           38.5           15.1\n",
      "edda497          41.25           15.0\n",
      "e8c6fb7           35.0           21.3\n",
      "1332472          27.75           17.5\n",
      "beb478b          22.25           19.5\n",
      "40e25f2          -20.5           25.5\n"
     ]
    }
   ],
   "source": [
    "print(df)"
   ]
  },
  {
   "cell_type": "code",
   "execution_count": 10,
   "id": "dead523d",
   "metadata": {},
   "outputs": [
    {
     "data": {
      "text/plain": [
       "hours_worked      object\n",
       "wage_per_hour    float64\n",
       "dtype: object"
      ]
     },
     "execution_count": 10,
     "metadata": {},
     "output_type": "execute_result"
    }
   ],
   "source": [
    "df.dtypes"
   ]
  },
  {
   "cell_type": "code",
   "execution_count": 11,
   "id": "53e87613",
   "metadata": {},
   "outputs": [
    {
     "data": {
      "text/plain": [
       "person_id\n",
       "1ac0c42    <class 'float'>\n",
       "edda497    <class 'float'>\n",
       "e8c6fb7      <class 'str'>\n",
       "1332472    <class 'float'>\n",
       "beb478b    <class 'float'>\n",
       "40e25f2    <class 'float'>\n",
       "Name: hours_worked, dtype: object"
      ]
     },
     "execution_count": 11,
     "metadata": {},
     "output_type": "execute_result"
    }
   ],
   "source": [
    "df.hours_worked.map(type)"
   ]
  },
  {
   "cell_type": "markdown",
   "id": "f1f6f533",
   "metadata": {
    "slideshow": {
     "slide_type": "slide"
    }
   },
   "source": [
    "### You squash the bug and add documentation for the next weary traveler who happens upon this code."
   ]
  },
  {
   "cell_type": "code",
   "execution_count": 12,
   "id": "d24810ac",
   "metadata": {},
   "outputs": [],
   "source": [
    "def process_data(df):\n",
    "    return (\n",
    "        df\n",
    "        # make sure columns are floats\n",
    "        .astype({\"hours_worked\": float, \"wage_per_hour\": float})\n",
    "        # replace negative values with nans\n",
    "        .assign(hours_worked=lambda x: x.hours_worked.where(x.hours_worked >= 0, np.nan))\n",
    "        # compute weekly income\n",
    "        .assign(weekly_income=lambda x: x.hours_worked * x.wage_per_hour)\n",
    "    )"
   ]
  },
  {
   "cell_type": "code",
   "execution_count": 13,
   "id": "ce0c5923",
   "metadata": {},
   "outputs": [
    {
     "data": {
      "text/html": [
       "<div>\n",
       "<style scoped>\n",
       "    .dataframe tbody tr th:only-of-type {\n",
       "        vertical-align: middle;\n",
       "    }\n",
       "\n",
       "    .dataframe tbody tr th {\n",
       "        vertical-align: top;\n",
       "    }\n",
       "\n",
       "    .dataframe thead th {\n",
       "        text-align: right;\n",
       "    }\n",
       "</style>\n",
       "<table border=\"1\" class=\"dataframe\">\n",
       "  <thead>\n",
       "    <tr style=\"text-align: right;\">\n",
       "      <th></th>\n",
       "      <th>hours_worked</th>\n",
       "      <th>wage_per_hour</th>\n",
       "      <th>weekly_income</th>\n",
       "    </tr>\n",
       "    <tr>\n",
       "      <th>person_id</th>\n",
       "      <th></th>\n",
       "      <th></th>\n",
       "      <th></th>\n",
       "    </tr>\n",
       "  </thead>\n",
       "  <tbody>\n",
       "    <tr>\n",
       "      <th>1ac0c42</th>\n",
       "      <td>38.50</td>\n",
       "      <td>15.1</td>\n",
       "      <td>581.350</td>\n",
       "    </tr>\n",
       "    <tr>\n",
       "      <th>edda497</th>\n",
       "      <td>41.25</td>\n",
       "      <td>15.0</td>\n",
       "      <td>618.750</td>\n",
       "    </tr>\n",
       "    <tr>\n",
       "      <th>e8c6fb7</th>\n",
       "      <td>35.00</td>\n",
       "      <td>21.3</td>\n",
       "      <td>745.500</td>\n",
       "    </tr>\n",
       "    <tr>\n",
       "      <th>1332472</th>\n",
       "      <td>27.75</td>\n",
       "      <td>17.5</td>\n",
       "      <td>485.625</td>\n",
       "    </tr>\n",
       "    <tr>\n",
       "      <th>beb478b</th>\n",
       "      <td>22.25</td>\n",
       "      <td>19.5</td>\n",
       "      <td>433.875</td>\n",
       "    </tr>\n",
       "    <tr>\n",
       "      <th>40e25f2</th>\n",
       "      <td>NaN</td>\n",
       "      <td>25.5</td>\n",
       "      <td>NaN</td>\n",
       "    </tr>\n",
       "  </tbody>\n",
       "</table>\n",
       "</div>"
      ],
      "text/plain": [
       "           hours_worked  wage_per_hour  weekly_income\n",
       "person_id                                            \n",
       "1ac0c42           38.50           15.1        581.350\n",
       "edda497           41.25           15.0        618.750\n",
       "e8c6fb7           35.00           21.3        745.500\n",
       "1332472           27.75           17.5        485.625\n",
       "beb478b           22.25           19.5        433.875\n",
       "40e25f2             NaN           25.5            NaN"
      ]
     },
     "execution_count": 13,
     "metadata": {},
     "output_type": "execute_result"
    }
   ],
   "source": [
    "process_data(df)"
   ]
  },
  {
   "cell_type": "markdown",
   "id": "549db76e",
   "metadata": {
    "slideshow": {
     "slide_type": "slide"
    }
   },
   "source": [
    "### ⏱ A few months later..."
   ]
  },
  {
   "cell_type": "markdown",
   "id": "3750f03a",
   "metadata": {
    "slideshow": {
     "slide_type": "slide"
    }
   },
   "source": [
    "### You find yourself at a familiar function, but it looks a little different from when you left it..."
   ]
  },
  {
   "cell_type": "code",
   "execution_count": 14,
   "id": "36d1db91",
   "metadata": {
    "slideshow": {
     "slide_type": "skip"
    }
   },
   "outputs": [],
   "source": [
    "# This needs to be here, but skipped for story-telling effect in the slides\n",
    "import pandera as pa\n",
    "from pandera.typing import DataFrame\n",
    "\n",
    "class RawData(pa.DataFrameModel):\n",
    "    hours_worked: float = pa.Field(coerce=True, nullable=True)\n",
    "    wage_per_hour: float = pa.Field(coerce=True, nullable=True)\n",
    "\n",
    "class ProcessedData(RawData):\n",
    "    hours_worked: float = pa.Field(ge=0, coerce=True, nullable=True)\n",
    "    weekly_income: float = pa.Field(nullable=True)"
   ]
  },
  {
   "cell_type": "code",
   "execution_count": 15,
   "id": "36824faa",
   "metadata": {},
   "outputs": [],
   "source": [
    "@pa.check_types\n",
    "def process_data(df: DataFrame[RawData]) -> DataFrame[ProcessedData]:\n",
    "    return (\n",
    "        # replace negative values with nans\n",
    "        df.assign(hours_worked=lambda x: x.hours_worked.where(x.hours_worked >= 0, np.nan))\n",
    "        # compute weekly income\n",
    "        .assign(weekly_income=lambda x: x.hours_worked * x.wage_per_hour)\n",
    "    )"
   ]
  },
  {
   "cell_type": "markdown",
   "id": "d2301348",
   "metadata": {
    "slideshow": {
     "slide_type": "slide"
    }
   },
   "source": [
    "### You look above and see what `RawData` and `ProcessedData` are, finding a `NOTE` that a fellow traveler has left for you."
   ]
  },
  {
   "cell_type": "code",
   "execution_count": 16,
   "id": "5a364f7e",
   "metadata": {},
   "outputs": [],
   "source": [
    "import pandera as pa\n",
    "\n",
    "# NOTE: this is what's supposed to be in `df` going into `process_data`\n",
    "class RawData(pa.SchemaModel):\n",
    "    hours_worked: float = pa.Field(coerce=True, nullable=True)\n",
    "    wage_per_hour: float = pa.Field(coerce=True, nullable=True)\n",
    "\n",
    "\n",
    "# ... and this is what `process_data` is supposed to return.\n",
    "class ProcessedData(RawData):\n",
    "    hours_worked: float = pa.Field(ge=0, coerce=True, nullable=True)\n",
    "    weekly_income: float = pa.Field(nullable=True)\n",
    "\n",
    "\n",
    "@pa.check_types\n",
    "def process_data(df: DataFrame[RawData]) -> DataFrame[ProcessedData]:\n",
    "    ..."
   ]
  },
  {
   "cell_type": "markdown",
   "id": "8787755f",
   "metadata": {
    "slideshow": {
     "slide_type": "slide"
    }
   },
   "source": [
    "## Moral of the Story"
   ]
  },
  {
   "cell_type": "markdown",
   "id": "997190c5",
   "metadata": {
    "slideshow": {
     "slide_type": "fragment"
    }
   },
   "source": [
    "> ##### The better you can reason about the contents of a dataframe, the faster you can debug."
   ]
  },
  {
   "cell_type": "markdown",
   "id": "cf8f8b5f",
   "metadata": {
    "slideshow": {
     "slide_type": "fragment"
    }
   },
   "source": [
    "> ##### The faster you can debug, the sooner you can focus on downstream tasks that you care about."
   ]
  },
  {
   "cell_type": "markdown",
   "id": "f6d96e2c",
   "metadata": {
    "slideshow": {
     "slide_type": "fragment"
    }
   },
   "source": [
    "> ##### By validating data through explicit contracts, you also create data documentation *and* a simple, stateless data shift detector."
   ]
  },
  {
   "cell_type": "markdown",
   "id": "514c996b",
   "metadata": {
    "slideshow": {
     "slide_type": "slide"
    }
   },
   "source": [
    "## Pandera Design Principles\n",
    "\n",
    "![pandera design principles](../static/pandera-design-principles.png)"
   ]
  },
  {
   "cell_type": "markdown",
   "id": "b9b138fe",
   "metadata": {
    "slideshow": {
     "slide_type": "slide"
    }
   },
   "source": [
    "## Pandera Programming Model"
   ]
  },
  {
   "cell_type": "markdown",
   "id": "6c187267",
   "metadata": {
    "slideshow": {
     "slide_type": "slide"
    }
   },
   "source": [
    "# 🐓 Evolution"
   ]
  },
  {
   "cell_type": "markdown",
   "id": "15726663",
   "metadata": {
    "slideshow": {
     "slide_type": "slide"
    }
   },
   "source": [
    "## Major Events"
   ]
  },
  {
   "cell_type": "markdown",
   "id": "8dc469db",
   "metadata": {
    "slideshow": {
     "slide_type": "slide"
    }
   },
   "source": [
    "## Expanding Scope"
   ]
  },
  {
   "cell_type": "markdown",
   "id": "0fb1f690",
   "metadata": {
    "slideshow": {
     "slide_type": "slide"
    }
   },
   "source": [
    "# 🦩 Revolution"
   ]
  },
  {
   "cell_type": "markdown",
   "id": "ae8004e3",
   "metadata": {
    "slideshow": {
     "slide_type": "slide"
    }
   },
   "source": [
    "## Rewriting Pandera Internals"
   ]
  },
  {
   "cell_type": "markdown",
   "id": "eb79fc61",
   "metadata": {
    "slideshow": {
     "slide_type": "slide"
    }
   },
   "source": [
    "## Retrospective"
   ]
  },
  {
   "cell_type": "markdown",
   "id": "42534713",
   "metadata": {
    "lines_to_next_cell": 2,
    "slideshow": {
     "slide_type": "slide"
    }
   },
   "source": [
    "## Updated Principles"
   ]
  },
  {
   "cell_type": "markdown",
   "id": "a806523a",
   "metadata": {
    "slideshow": {
     "slide_type": "slide"
    }
   },
   "source": [
    "# 🤔 What's Data Testing\n",
    "\n",
    "### And How Can I Put it Into Practice?"
   ]
  },
  {
   "cell_type": "markdown",
   "id": "1619eb03",
   "metadata": {
    "slideshow": {
     "slide_type": "slide"
    }
   },
   "source": [
    "> **Data validation:** The act of falsifying data against explicit assumptions for some downstream purpose, like\n",
    "> analysis, modeling, and visualization."
   ]
  },
  {
   "cell_type": "markdown",
   "id": "1f9faf04",
   "metadata": {
    "slideshow": {
     "slide_type": "fragment"
    }
   },
   "source": [
    "> **Data Testing:** Validating not only real data, but also the functions that produce them."
   ]
  },
  {
   "cell_type": "markdown",
   "id": "268a6be1",
   "metadata": {
    "slideshow": {
     "slide_type": "slide"
    }
   },
   "source": [
    "\n",
    "# In the Real World 🌍\n",
    "\n",
    "#### Validate real data in production"
   ]
  },
  {
   "cell_type": "raw",
   "id": "49326d64",
   "metadata": {},
   "source": [
    "<div class=\"mermaid\">\n",
    "graph LR\n",
    "    R[(raw data)] --> RS([raw schema])\n",
    "    RS --> TF[transform function]\n",
    "    TF --> TS([transformed schema])\n",
    "    TS --> T[(transformed data)]\n",
    "\n",
    "    style RS fill:#8bedc6,stroke:#333\n",
    "    style TS fill:#8bedc6,stroke:#333\n",
    "</div>"
   ]
  },
  {
   "cell_type": "markdown",
   "id": "66b7ce07",
   "metadata": {
    "slideshow": {
     "slide_type": "slide"
    }
   },
   "source": [
    "\n",
    "# In the Test Suite 🧪\n",
    "\n",
    "#### Validate functions that produce data, given some test cases"
   ]
  },
  {
   "cell_type": "raw",
   "id": "17f8bdd9",
   "metadata": {},
   "source": [
    "<div class=\"mermaid\">\n",
    "graph LR\n",
    "    G([raw schema]) --> T1[(test case 1)]\n",
    "    G --> T2[(test case 2)]\n",
    "    G --> TN[(test case n)]\n",
    "\n",
    "    T1 --> TF[transform function]\n",
    "    T2 --> TF\n",
    "    TN --> TF\n",
    "    TF --> TS([transformed schema])\n",
    "    TS --> T[(transformed data)]\n",
    "\n",
    "    style G fill:#8bedc6,stroke:#333\n",
    "    style TS fill:#8bedc6,stroke:#333\n",
    "</div>"
   ]
  },
  {
   "cell_type": "markdown",
   "id": "be0fe81f",
   "metadata": {
    "slideshow": {
     "slide_type": "slide"
    }
   },
   "source": [
    "## Data Testing in Practice\n",
    "\n",
    "#### Data testing is an iterative process of:\n",
    "\n",
    "- Building statistical domain knowledge about the data at hand with respect to the stated goal.\n",
    "- Implementing data transforms and defining schemas/tests in parallel.\n",
    "- Verifying that the output of the data transform is what you expected."
   ]
  },
  {
   "cell_type": "raw",
   "id": "e1979028",
   "metadata": {},
   "source": [
    "<div class=\"mermaid\">\n",
    "graph LR\n",
    "    \n",
    "    D[Define Goal]\n",
    "\n",
    "    subgraph Development Process\n",
    "        E[Explore Data]\n",
    "        S[Define Schema and Tests]\n",
    "        I[Implement Data Transforms]\n",
    "        V[Verify Data]\n",
    "    end\n",
    "\n",
    "    P{Checks Pass?}\n",
    "    A[Continue Analysis...]\n",
    "\n",
    "    D --> E\n",
    "    E --> S\n",
    "    E --> I\n",
    "    I --> V\n",
    "    S --> V\n",
    "    V --> P\n",
    "    P -- No --> E\n",
    "    P -- Yes --> A\n",
    "\n",
    "    style P fill:#aaffd6,stroke:#333\n",
    "    style A stroke-dasharray: 5 5\n",
    "</div>"
   ]
  },
  {
   "cell_type": "markdown",
   "id": "7c1f2ed5",
   "metadata": {
    "slideshow": {
     "slide_type": "slide"
    }
   },
   "source": [
    "# ✅ Pandera Quickstart\n",
    "\n",
    "### Create statistical types for your DataFrames"
   ]
  },
  {
   "cell_type": "markdown",
   "id": "b725fcf4",
   "metadata": {
    "slideshow": {
     "slide_type": "slide"
    }
   },
   "source": [
    "<img src=\"https://raw.githubusercontent.com/pandera-dev/pandera/master/docs/source/_static/pandera-logo.png\" width=\"125px\" style=\"margin: 0;\"/>\n",
    "\n",
    "<h2 style=\"margin-top: 0;\">Pandera</h2>\n",
    "\n",
    "#### An expressive and light-weight statistical typing tool for dataframe-like containers\n",
    "\n",
    "- Check the types and properties of dataframes\n",
    "- Easily integrate with existing data pipelines via function decorators\n",
    "- Synthesize data from schema objects for property-based testing"
   ]
  },
  {
   "cell_type": "markdown",
   "id": "fb096f73",
   "metadata": {
    "slideshow": {
     "slide_type": "slide"
    }
   },
   "source": [
    "#### Object-based API\n",
    "\n",
    "Defining a schema looks and feels like defining a pandas dataframe"
   ]
  },
  {
   "cell_type": "code",
   "execution_count": 17,
   "id": "0838e347",
   "metadata": {},
   "outputs": [],
   "source": [
    "import pandera as pa\n",
    "\n",
    "clean_data_schema = pa.DataFrameSchema(\n",
    "    columns={\n",
    "        \"continuous\": pa.Column(float, pa.Check.ge(0), nullable=True),\n",
    "        \"categorical\": pa.Column(str, pa.Check.isin([\"A\", \"B\", \"C\"]), nullable=True),\n",
    "    },\n",
    "    coerce=True,\n",
    ")"
   ]
  },
  {
   "cell_type": "markdown",
   "id": "e679ccf1",
   "metadata": {
    "slideshow": {
     "slide_type": "fragment"
    }
   },
   "source": [
    "#### Class-based API\n",
    "\n",
    "Define complex types with modern Python, inspired by [pydantic](https://pydantic-docs.helpmanual.io/) and `dataclasses`"
   ]
  },
  {
   "cell_type": "code",
   "execution_count": 18,
   "id": "751e1d8c",
   "metadata": {
    "lines_to_next_cell": 1
   },
   "outputs": [],
   "source": [
    "from pandera.typing import DataFrame, Series\n",
    "\n",
    "class CleanData(pa.SchemaModel):\n",
    "    continuous: Series[float] = pa.Field(ge=0, nullable=True)\n",
    "    categorical: Series[str] = pa.Field(isin=[\"A\", \"B\", \"C\"], nullable=True)\n",
    "\n",
    "    class Config:\n",
    "        coerce = True"
   ]
  },
  {
   "cell_type": "markdown",
   "id": "efcfd826",
   "metadata": {
    "slideshow": {
     "slide_type": "notes"
    }
   },
   "source": [
    "Pandera comes in two flavors"
   ]
  },
  {
   "cell_type": "markdown",
   "id": "77a3710a",
   "metadata": {
    "slideshow": {
     "slide_type": "slide"
    }
   },
   "source": [
    "#### Pandera Raises Informative Errors\n",
    "\n",
    "Know Exactly What Went Wrong with Your Data"
   ]
  },
  {
   "cell_type": "code",
   "execution_count": 19,
   "id": "d6381569",
   "metadata": {
    "lines_to_next_cell": 2,
    "tags": []
   },
   "outputs": [
    {
     "data": {
      "text/html": [
       "<div>\n",
       "<style scoped>\n",
       "    .dataframe tbody tr th:only-of-type {\n",
       "        vertical-align: middle;\n",
       "    }\n",
       "\n",
       "    .dataframe tbody tr th {\n",
       "        vertical-align: top;\n",
       "    }\n",
       "\n",
       "    .dataframe thead th {\n",
       "        text-align: right;\n",
       "    }\n",
       "</style>\n",
       "<table border=\"1\" class=\"dataframe\">\n",
       "  <thead>\n",
       "    <tr style=\"text-align: right;\">\n",
       "      <th></th>\n",
       "      <th>schema_context</th>\n",
       "      <th>column</th>\n",
       "      <th>check</th>\n",
       "      <th>check_number</th>\n",
       "      <th>failure_case</th>\n",
       "      <th>index</th>\n",
       "    </tr>\n",
       "  </thead>\n",
       "  <tbody>\n",
       "    <tr>\n",
       "      <th>0</th>\n",
       "      <td>Column</td>\n",
       "      <td>continuous</td>\n",
       "      <td>greater_than_or_equal_to(0)</td>\n",
       "      <td>0</td>\n",
       "      <td>-1.1</td>\n",
       "      <td>0</td>\n",
       "    </tr>\n",
       "    <tr>\n",
       "      <th>1</th>\n",
       "      <td>Column</td>\n",
       "      <td>continuous</td>\n",
       "      <td>greater_than_or_equal_to(0)</td>\n",
       "      <td>0</td>\n",
       "      <td>-0.1</td>\n",
       "      <td>3</td>\n",
       "    </tr>\n",
       "    <tr>\n",
       "      <th>2</th>\n",
       "      <td>Column</td>\n",
       "      <td>categorical</td>\n",
       "      <td>isin(['A', 'B', 'C'])</td>\n",
       "      <td>0</td>\n",
       "      <td>Z</td>\n",
       "      <td>3</td>\n",
       "    </tr>\n",
       "    <tr>\n",
       "      <th>3</th>\n",
       "      <td>Column</td>\n",
       "      <td>categorical</td>\n",
       "      <td>isin(['A', 'B', 'C'])</td>\n",
       "      <td>0</td>\n",
       "      <td>X</td>\n",
       "      <td>4</td>\n",
       "    </tr>\n",
       "  </tbody>\n",
       "</table>\n",
       "</div>"
      ],
      "text/plain": [
       "  schema_context       column                        check  check_number  \\\n",
       "0         Column   continuous  greater_than_or_equal_to(0)             0   \n",
       "1         Column   continuous  greater_than_or_equal_to(0)             0   \n",
       "2         Column  categorical        isin(['A', 'B', 'C'])             0   \n",
       "3         Column  categorical        isin(['A', 'B', 'C'])             0   \n",
       "\n",
       "  failure_case  index  \n",
       "0         -1.1      0  \n",
       "1         -0.1      3  \n",
       "2            Z      3  \n",
       "3            X      4  "
      ]
     },
     "metadata": {},
     "output_type": "display_data"
    }
   ],
   "source": [
    "raw_data = pd.DataFrame({\n",
    "    \"continuous\": [\"-1.1\", \"4.0\", \"10.25\", \"-0.1\", \"5.2\"],\n",
    "    \"categorical\": [\"A\", \"B\", \"C\", \"Z\", \"X\"],\n",
    "})\n",
    "\n",
    "try:\n",
    "    CleanData.validate(raw_data, lazy=True)\n",
    "except pa.errors.SchemaErrors as exc:\n",
    "    display(exc.failure_cases)"
   ]
  },
  {
   "cell_type": "markdown",
   "id": "b524cafd",
   "metadata": {
    "slideshow": {
     "slide_type": "slide"
    }
   },
   "source": [
    "### Pandera Supports Schema Transformations/Inheritence\n",
    "\n",
    "#### Object-based API\n",
    "\n",
    "Dynamically transform schema objects on the fly"
   ]
  },
  {
   "cell_type": "code",
   "execution_count": 20,
   "id": "dab74604",
   "metadata": {},
   "outputs": [],
   "source": [
    "raw_data_schema = pa.DataFrameSchema(\n",
    "    columns={\n",
    "        \"continuous\": pa.Column(float),\n",
    "        \"categorical\": pa.Column(str),\n",
    "    },\n",
    "    coerce=True,\n",
    ")\n",
    "\n",
    "clean_data_schema.update_columns({\n",
    "    \"continuous\": {\"nullable\": True},\n",
    "    \"categorical\": {\"checks\": pa.Check.isin([\"A\", \"B\", \"C\"]), \"nullable\": True},\n",
    "});"
   ]
  },
  {
   "cell_type": "markdown",
   "id": "15f4b7fd",
   "metadata": {
    "slideshow": {
     "slide_type": "fragment"
    }
   },
   "source": [
    "#### Class-based API\n",
    "\n",
    "Inherit from `pandera.SchemaModel` to Define Type Hierarchies"
   ]
  },
  {
   "cell_type": "code",
   "execution_count": 21,
   "id": "7bd30895",
   "metadata": {},
   "outputs": [],
   "source": [
    "class RawData(pa.SchemaModel):\n",
    "    continuous: Series[float]\n",
    "    categorical: Series[str]\n",
    "\n",
    "    class Config:\n",
    "        coerce = True\n",
    "\n",
    "class CleanData(RawData):\n",
    "    continuous = pa.Field(ge=0, nullable=True)\n",
    "    categorical = pa.Field(isin=[\"A\", \"B\", \"C\"], nullable=True);"
   ]
  },
  {
   "cell_type": "markdown",
   "id": "9f00d221",
   "metadata": {
    "slideshow": {
     "slide_type": "slide"
    }
   },
   "source": [
    "### Integrate Seamlessly with your Pipeline\n",
    "\n",
    "Use decorators to add IO checkpoints to the critical functions in your pipeline"
   ]
  },
  {
   "cell_type": "code",
   "execution_count": 22,
   "id": "26e80d32",
   "metadata": {
    "lines_to_next_cell": 2
   },
   "outputs": [
    {
     "data": {
      "text/html": [
       "<div>\n",
       "<style scoped>\n",
       "    .dataframe tbody tr th:only-of-type {\n",
       "        vertical-align: middle;\n",
       "    }\n",
       "\n",
       "    .dataframe tbody tr th {\n",
       "        vertical-align: top;\n",
       "    }\n",
       "\n",
       "    .dataframe thead th {\n",
       "        text-align: right;\n",
       "    }\n",
       "</style>\n",
       "<table border=\"1\" class=\"dataframe\">\n",
       "  <thead>\n",
       "    <tr style=\"text-align: right;\">\n",
       "      <th></th>\n",
       "      <th>continuous</th>\n",
       "      <th>categorical</th>\n",
       "    </tr>\n",
       "  </thead>\n",
       "  <tbody>\n",
       "    <tr>\n",
       "      <th>0</th>\n",
       "      <td>NaN</td>\n",
       "      <td>A</td>\n",
       "    </tr>\n",
       "    <tr>\n",
       "      <th>1</th>\n",
       "      <td>4.00</td>\n",
       "      <td>B</td>\n",
       "    </tr>\n",
       "    <tr>\n",
       "      <th>2</th>\n",
       "      <td>10.25</td>\n",
       "      <td>C</td>\n",
       "    </tr>\n",
       "    <tr>\n",
       "      <th>3</th>\n",
       "      <td>NaN</td>\n",
       "      <td>NaN</td>\n",
       "    </tr>\n",
       "    <tr>\n",
       "      <th>4</th>\n",
       "      <td>5.20</td>\n",
       "      <td>NaN</td>\n",
       "    </tr>\n",
       "  </tbody>\n",
       "</table>\n",
       "</div>"
      ],
      "text/plain": [
       "   continuous categorical\n",
       "0         NaN           A\n",
       "1        4.00           B\n",
       "2       10.25           C\n",
       "3         NaN         NaN\n",
       "4        5.20         NaN"
      ]
     },
     "execution_count": 22,
     "metadata": {},
     "output_type": "execute_result"
    }
   ],
   "source": [
    "@pa.check_types\n",
    "def fn(raw_data: DataFrame[RawData]) -> DataFrame[CleanData]:\n",
    "    return raw_data.assign(\n",
    "        continuous=lambda df: df[\"continuous\"].where(lambda x: x > 0, np.nan),\n",
    "        categorical=lambda df: df[\"categorical\"].where(lambda x: x.isin([\"A\", \"B\", \"C\"]), np.nan),\n",
    "    )\n",
    "\n",
    "\n",
    "fn(raw_data)"
   ]
  },
  {
   "cell_type": "markdown",
   "id": "36d38ccd",
   "metadata": {
    "slideshow": {
     "slide_type": "slide"
    }
   },
   "source": [
    "### Generative Schemas\n",
    "\n",
    "Schemas that synthesize valid data under its constraints"
   ]
  },
  {
   "cell_type": "code",
   "execution_count": 23,
   "id": "414f4b58",
   "metadata": {},
   "outputs": [
    {
     "data": {
      "text/html": [
       "<div>\n",
       "<style scoped>\n",
       "    .dataframe tbody tr th:only-of-type {\n",
       "        vertical-align: middle;\n",
       "    }\n",
       "\n",
       "    .dataframe tbody tr th {\n",
       "        vertical-align: top;\n",
       "    }\n",
       "\n",
       "    .dataframe thead th {\n",
       "        text-align: right;\n",
       "    }\n",
       "</style>\n",
       "<table border=\"1\" class=\"dataframe\">\n",
       "  <thead>\n",
       "    <tr style=\"text-align: right;\">\n",
       "      <th></th>\n",
       "      <th>continuous</th>\n",
       "      <th>categorical</th>\n",
       "    </tr>\n",
       "  </thead>\n",
       "  <tbody>\n",
       "    <tr>\n",
       "      <th>0</th>\n",
       "      <td>NaN</td>\n",
       "      <td>C</td>\n",
       "    </tr>\n",
       "    <tr>\n",
       "      <th>1</th>\n",
       "      <td>4.940656e-324</td>\n",
       "      <td>A</td>\n",
       "    </tr>\n",
       "    <tr>\n",
       "      <th>2</th>\n",
       "      <td>2.847778e+14</td>\n",
       "      <td>A</td>\n",
       "    </tr>\n",
       "    <tr>\n",
       "      <th>3</th>\n",
       "      <td>NaN</td>\n",
       "      <td>NaN</td>\n",
       "    </tr>\n",
       "    <tr>\n",
       "      <th>4</th>\n",
       "      <td>NaN</td>\n",
       "      <td>NaN</td>\n",
       "    </tr>\n",
       "  </tbody>\n",
       "</table>\n",
       "</div>"
      ],
      "text/plain": [
       "      continuous categorical\n",
       "0            NaN           C\n",
       "1  4.940656e-324           A\n",
       "2   2.847778e+14           A\n",
       "3            NaN         NaN\n",
       "4            NaN         NaN"
      ]
     },
     "execution_count": 23,
     "metadata": {},
     "output_type": "execute_result"
    }
   ],
   "source": [
    "CleanData.example(size=5)"
   ]
  },
  {
   "cell_type": "markdown",
   "id": "e0bd876b",
   "metadata": {
    "slideshow": {
     "slide_type": "fragment"
    }
   },
   "source": [
    "**Data Testing:** Test the functions that produce clean data"
   ]
  },
  {
   "cell_type": "code",
   "execution_count": 24,
   "id": "171c41d1",
   "metadata": {
    "lines_to_next_cell": 2
   },
   "outputs": [
    {
     "name": "stdout",
     "output_type": "stream",
     "text": [
      "tests passed ✅\n"
     ]
    }
   ],
   "source": [
    "from hypothesis import given\n",
    "\n",
    "\n",
    "@given(RawData.strategy(size=5))\n",
    "def test_fn(raw_data):\n",
    "    fn(raw_data)\n",
    "\n",
    "\n",
    "def run_test_suite():\n",
    "    test_fn()\n",
    "    print(\"tests passed ✅\")\n",
    "\n",
    "\n",
    "run_test_suite()"
   ]
  },
  {
   "cell_type": "markdown",
   "id": "09f5e9ea",
   "metadata": {
    "slideshow": {
     "slide_type": "slide"
    }
   },
   "source": [
    "## Scaling Pandera with Pandas' Friends 🐼🌈✨\n",
    "\n",
    "Pandera supports `dask`, `modin`, and `pyspark.pandas` dataframes to scale\n",
    "data validation to big data."
   ]
  },
  {
   "cell_type": "code",
   "execution_count": 25,
   "id": "8e830af5",
   "metadata": {},
   "outputs": [
    {
     "data": {
      "text/html": [
       "<div>\n",
       "<style scoped>\n",
       "    .dataframe tbody tr th:only-of-type {\n",
       "        vertical-align: middle;\n",
       "    }\n",
       "\n",
       "    .dataframe tbody tr th {\n",
       "        vertical-align: top;\n",
       "    }\n",
       "\n",
       "    .dataframe thead th {\n",
       "        text-align: right;\n",
       "    }\n",
       "</style>\n",
       "<table border=\"1\" class=\"dataframe\">\n",
       "  <thead>\n",
       "    <tr style=\"text-align: right;\">\n",
       "      <th></th>\n",
       "      <th>continuous</th>\n",
       "      <th>categorical</th>\n",
       "    </tr>\n",
       "  </thead>\n",
       "  <tbody>\n",
       "    <tr>\n",
       "      <th>0</th>\n",
       "      <td>-1.1</td>\n",
       "      <td>A</td>\n",
       "    </tr>\n",
       "    <tr>\n",
       "      <th>1</th>\n",
       "      <td>4.0</td>\n",
       "      <td>B</td>\n",
       "    </tr>\n",
       "    <tr>\n",
       "      <th>2</th>\n",
       "      <td>10.25</td>\n",
       "      <td>C</td>\n",
       "    </tr>\n",
       "    <tr>\n",
       "      <th>3</th>\n",
       "      <td>-0.1</td>\n",
       "      <td>Z</td>\n",
       "    </tr>\n",
       "    <tr>\n",
       "      <th>4</th>\n",
       "      <td>5.2</td>\n",
       "      <td>X</td>\n",
       "    </tr>\n",
       "  </tbody>\n",
       "</table>\n",
       "</div>"
      ],
      "text/plain": [
       "  continuous categorical\n",
       "0       -1.1           A\n",
       "1        4.0           B\n",
       "2      10.25           C\n",
       "3       -0.1           Z\n",
       "4        5.2           X"
      ]
     },
     "metadata": {},
     "output_type": "display_data"
    }
   ],
   "source": [
    "display(raw_data)"
   ]
  },
  {
   "cell_type": "markdown",
   "id": "43e585a3",
   "metadata": {
    "slideshow": {
     "slide_type": "slide"
    }
   },
   "source": [
    "### Apply a single schema to a suite of dataframe-like objects\n",
    "\n",
    "#### `dask`"
   ]
  },
  {
   "cell_type": "code",
   "execution_count": 26,
   "id": "be7be0b8",
   "metadata": {},
   "outputs": [
    {
     "data": {
      "text/html": [
       "<div>\n",
       "<style scoped>\n",
       "    .dataframe tbody tr th:only-of-type {\n",
       "        vertical-align: middle;\n",
       "    }\n",
       "\n",
       "    .dataframe tbody tr th {\n",
       "        vertical-align: top;\n",
       "    }\n",
       "\n",
       "    .dataframe thead th {\n",
       "        text-align: right;\n",
       "    }\n",
       "</style>\n",
       "<table border=\"1\" class=\"dataframe\">\n",
       "  <thead>\n",
       "    <tr style=\"text-align: right;\">\n",
       "      <th></th>\n",
       "      <th>schema_context</th>\n",
       "      <th>column</th>\n",
       "      <th>check</th>\n",
       "      <th>check_number</th>\n",
       "      <th>failure_case</th>\n",
       "      <th>index</th>\n",
       "    </tr>\n",
       "  </thead>\n",
       "  <tbody>\n",
       "    <tr>\n",
       "      <th>0</th>\n",
       "      <td>Column</td>\n",
       "      <td>continuous</td>\n",
       "      <td>greater_than_or_equal_to(0)</td>\n",
       "      <td>0</td>\n",
       "      <td>-1.1</td>\n",
       "      <td>0</td>\n",
       "    </tr>\n",
       "    <tr>\n",
       "      <th>1</th>\n",
       "      <td>Column</td>\n",
       "      <td>continuous</td>\n",
       "      <td>greater_than_or_equal_to(0)</td>\n",
       "      <td>0</td>\n",
       "      <td>-0.1</td>\n",
       "      <td>3</td>\n",
       "    </tr>\n",
       "    <tr>\n",
       "      <th>2</th>\n",
       "      <td>Column</td>\n",
       "      <td>categorical</td>\n",
       "      <td>isin(['A', 'B', 'C'])</td>\n",
       "      <td>0</td>\n",
       "      <td>Z</td>\n",
       "      <td>3</td>\n",
       "    </tr>\n",
       "    <tr>\n",
       "      <th>3</th>\n",
       "      <td>Column</td>\n",
       "      <td>categorical</td>\n",
       "      <td>isin(['A', 'B', 'C'])</td>\n",
       "      <td>0</td>\n",
       "      <td>X</td>\n",
       "      <td>4</td>\n",
       "    </tr>\n",
       "  </tbody>\n",
       "</table>\n",
       "</div>"
      ],
      "text/plain": [
       "  schema_context       column                        check  check_number  \\\n",
       "0         Column   continuous  greater_than_or_equal_to(0)             0   \n",
       "1         Column   continuous  greater_than_or_equal_to(0)             0   \n",
       "2         Column  categorical        isin(['A', 'B', 'C'])             0   \n",
       "3         Column  categorical        isin(['A', 'B', 'C'])             0   \n",
       "\n",
       "  failure_case  index  \n",
       "0         -1.1      0  \n",
       "1         -0.1      3  \n",
       "2            Z      3  \n",
       "3            X      4  "
      ]
     },
     "metadata": {},
     "output_type": "display_data"
    }
   ],
   "source": [
    "import dask.dataframe as dd\n",
    "\n",
    "dask_dataframe = dd.from_pandas(raw_data, npartitions=1)\n",
    "\n",
    "try:\n",
    "    CleanData(dask_dataframe, lazy=True).compute()\n",
    "except pa.errors.SchemaErrors as exc:\n",
    "    display(exc.failure_cases.sort_index())"
   ]
  },
  {
   "cell_type": "markdown",
   "id": "5c230f57",
   "metadata": {
    "slideshow": {
     "slide_type": "slide"
    }
   },
   "source": [
    "### Apply a single schema to a suite of dataframe-like objects\n",
    "\n",
    "#### `modin`"
   ]
  },
  {
   "cell_type": "code",
   "execution_count": 30,
   "id": "092dad47",
   "metadata": {
    "lines_to_next_cell": 2
   },
   "outputs": [
    {
     "name": "stderr",
     "output_type": "stream",
     "text": [
      "FutureWarning: iteritems is deprecated and will be removed in a future version. Use .items instead.\n",
      "FutureWarning: iteritems is deprecated and will be removed in a future version. Use .items instead.\n",
      "FutureWarning: iteritems is deprecated and will be removed in a future version. Use .items instead.\n",
      "FutureWarning: iteritems is deprecated and will be removed in a future version. Use .items instead.\n",
      "FutureWarning: iteritems is deprecated and will be removed in a future version. Use .items instead.\n"
     ]
    },
    {
     "data": {
      "text/html": [
       "<div>\n",
       "<style scoped>\n",
       "    .dataframe tbody tr th:only-of-type {\n",
       "        vertical-align: middle;\n",
       "    }\n",
       "\n",
       "    .dataframe tbody tr th {\n",
       "        vertical-align: top;\n",
       "    }\n",
       "\n",
       "    .dataframe thead th {\n",
       "        text-align: right;\n",
       "    }\n",
       "</style>\n",
       "<table border=\"1\" class=\"dataframe\">\n",
       "  <thead>\n",
       "    <tr style=\"text-align: right;\">\n",
       "      <th></th>\n",
       "      <th>schema_context</th>\n",
       "      <th>column</th>\n",
       "      <th>check</th>\n",
       "      <th>check_number</th>\n",
       "      <th>failure_case</th>\n",
       "      <th>index</th>\n",
       "    </tr>\n",
       "  </thead>\n",
       "  <tbody>\n",
       "    <tr>\n",
       "      <th>0</th>\n",
       "      <td>Column</td>\n",
       "      <td>continuous</td>\n",
       "      <td>greater_than_or_equal_to(0)</td>\n",
       "      <td>0</td>\n",
       "      <td>-1.1</td>\n",
       "      <td>0</td>\n",
       "    </tr>\n",
       "    <tr>\n",
       "      <th>1</th>\n",
       "      <td>Column</td>\n",
       "      <td>continuous</td>\n",
       "      <td>greater_than_or_equal_to(0)</td>\n",
       "      <td>0</td>\n",
       "      <td>-0.1</td>\n",
       "      <td>3</td>\n",
       "    </tr>\n",
       "    <tr>\n",
       "      <th>2</th>\n",
       "      <td>Column</td>\n",
       "      <td>categorical</td>\n",
       "      <td>isin(['A', 'B', 'C'])</td>\n",
       "      <td>0</td>\n",
       "      <td>Z</td>\n",
       "      <td>3</td>\n",
       "    </tr>\n",
       "    <tr>\n",
       "      <th>3</th>\n",
       "      <td>Column</td>\n",
       "      <td>categorical</td>\n",
       "      <td>isin(['A', 'B', 'C'])</td>\n",
       "      <td>0</td>\n",
       "      <td>X</td>\n",
       "      <td>4</td>\n",
       "    </tr>\n",
       "  </tbody>\n",
       "</table>\n",
       "</div>"
      ],
      "text/plain": [
       "  schema_context       column                        check  check_number  \\\n",
       "0         Column   continuous  greater_than_or_equal_to(0)             0   \n",
       "1         Column   continuous  greater_than_or_equal_to(0)             0   \n",
       "2         Column  categorical        isin(['A', 'B', 'C'])             0   \n",
       "3         Column  categorical        isin(['A', 'B', 'C'])             0   \n",
       "\n",
       "  failure_case  index  \n",
       "0         -1.1      0  \n",
       "1         -0.1      3  \n",
       "2            Z      3  \n",
       "3            X      4  "
      ]
     },
     "metadata": {},
     "output_type": "display_data"
    }
   ],
   "source": [
    "import modin.pandas as mpd\n",
    "\n",
    "modin_dataframe = mpd.DataFrame(raw_data)\n",
    "\n",
    "try:\n",
    "    CleanData(modin_dataframe, lazy=True)\n",
    "except pa.errors.SchemaErrors as exc:\n",
    "    display(exc.failure_cases.sort_index())"
   ]
  },
  {
   "cell_type": "markdown",
   "id": "d55d099c",
   "metadata": {
    "slideshow": {
     "slide_type": "slide"
    }
   },
   "source": [
    "### Apply a single schema to a suite of dataframe-like objects\n",
    "\n",
    "#### `pyspark.pandas`"
   ]
  },
  {
   "cell_type": "code",
   "execution_count": 28,
   "id": "28a22087",
   "metadata": {
    "lines_to_next_cell": 2
   },
   "outputs": [
    {
     "name": "stderr",
     "output_type": "stream",
     "text": [
      "                                                                                \r"
     ]
    },
    {
     "data": {
      "text/html": [
       "<div>\n",
       "<style scoped>\n",
       "    .dataframe tbody tr th:only-of-type {\n",
       "        vertical-align: middle;\n",
       "    }\n",
       "\n",
       "    .dataframe tbody tr th {\n",
       "        vertical-align: top;\n",
       "    }\n",
       "\n",
       "    .dataframe thead th {\n",
       "        text-align: right;\n",
       "    }\n",
       "</style>\n",
       "<table border=\"1\" class=\"dataframe\">\n",
       "  <thead>\n",
       "    <tr style=\"text-align: right;\">\n",
       "      <th></th>\n",
       "      <th>schema_context</th>\n",
       "      <th>column</th>\n",
       "      <th>check</th>\n",
       "      <th>check_number</th>\n",
       "      <th>failure_case</th>\n",
       "      <th>index</th>\n",
       "    </tr>\n",
       "  </thead>\n",
       "  <tbody>\n",
       "    <tr>\n",
       "      <th>0</th>\n",
       "      <td>DataFrameSchema</td>\n",
       "      <td>None</td>\n",
       "      <td>column_in_dataframe</td>\n",
       "      <td>None</td>\n",
       "      <td>continuous</td>\n",
       "      <td>None</td>\n",
       "    </tr>\n",
       "    <tr>\n",
       "      <th>1</th>\n",
       "      <td>DataFrameSchema</td>\n",
       "      <td>None</td>\n",
       "      <td>column_in_dataframe</td>\n",
       "      <td>None</td>\n",
       "      <td>categorical</td>\n",
       "      <td>None</td>\n",
       "    </tr>\n",
       "  </tbody>\n",
       "</table>\n",
       "</div>"
      ],
      "text/plain": [
       "    schema_context column                check check_number failure_case index\n",
       "0  DataFrameSchema   None  column_in_dataframe         None   continuous  None\n",
       "1  DataFrameSchema   None  column_in_dataframe         None  categorical  None"
      ]
     },
     "metadata": {},
     "output_type": "display_data"
    }
   ],
   "source": [
    "import pyspark.pandas as ps\n",
    "\n",
    "pyspark_pd_dataframe = ps.DataFrame()\n",
    "\n",
    "try:\n",
    "    CleanData(pyspark_pd_dataframe, lazy=True)\n",
    "except pa.errors.SchemaErrors as exc:\n",
    "    display(exc.failure_cases)"
   ]
  },
  {
   "cell_type": "markdown",
   "id": "89dc62e5",
   "metadata": {
    "slideshow": {
     "slide_type": "slide"
    },
    "tags": []
   },
   "source": [
    "### Meta Comment\n",
    "\n",
    "##### This presentation notebook is validated by pandera 🤯"
   ]
  },
  {
   "cell_type": "markdown",
   "id": "6190a04b",
   "metadata": {
    "tags": []
   },
   "source": [
    "![mindblown](https://media.giphy.com/media/xT0xeJpnrWC4XWblEk/giphy-downsized-large.gif)"
   ]
  },
  {
   "cell_type": "markdown",
   "id": "b57aa3af",
   "metadata": {
    "slideshow": {
     "slide_type": "slide"
    }
   },
   "source": [
    "## ⌨️ Statistical Typing"
   ]
  },
  {
   "cell_type": "markdown",
   "id": "16e858be",
   "metadata": {},
   "source": [
    "#### Type systems help programmers reason about and write more robust code"
   ]
  },
  {
   "cell_type": "code",
   "execution_count": 29,
   "id": "73387e81",
   "metadata": {
    "slideshow": {
     "slide_type": "fragment"
    }
   },
   "outputs": [],
   "source": [
    "from typing import Union\n",
    "\n",
    "Number = Union[int, float]\n",
    "\n",
    "def add_and_double(x: Number, y: Number) -> Number:\n",
    "    ..."
   ]
  },
  {
   "cell_type": "markdown",
   "id": "7fae15c7",
   "metadata": {
    "slideshow": {
     "slide_type": "fragment"
    }
   },
   "source": [
    "#### Can you predict the outcome of these function calls?"
   ]
  },
  {
   "cell_type": "code",
   "execution_count": 30,
   "id": "879aee9b",
   "metadata": {},
   "outputs": [],
   "source": [
    "add_and_double(5, 2)\n",
    "add_and_double(5, \"hello\")\n",
    "add_and_double(11.5, -1.5)"
   ]
  },
  {
   "cell_type": "markdown",
   "id": "3ed4742c",
   "metadata": {
    "slideshow": {
     "slide_type": "slide"
    }
   },
   "source": [
    "#### Similarly..."
   ]
  },
  {
   "cell_type": "code",
   "execution_count": 31,
   "id": "05ed4f8e",
   "metadata": {
    "lines_to_next_cell": 1
   },
   "outputs": [],
   "source": [
    "import pandera as pa\n",
    "from pandera.typing import DataFrame, Series\n",
    "\n",
    "class Inputs(pa.SchemaModel):\n",
    "    x: Series[int]\n",
    "    y: Series[int]\n",
    "\n",
    "    class Config:\n",
    "        coerce = True\n",
    "\n",
    "\n",
    "class Outputs(Inputs):\n",
    "    z: Series[int]\n",
    "        \n",
    "    @pa.dataframe_check\n",
    "    def custom_check(cls, df: DataFrame) -> Series:\n",
    "        return df[\"z\"] == (df[\"x\"] + df[\"y\"]) * 2\n",
    "    \n",
    "    \n",
    "@pa.check_types\n",
    "def add_and_double(raw_data: DataFrame[Inputs]) -> DataFrame[Outputs]:\n",
    "    ..."
   ]
  },
  {
   "cell_type": "markdown",
   "id": "2c4f45a7",
   "metadata": {
    "slideshow": {
     "slide_type": "slide"
    }
   },
   "source": [
    "### 🤔 What's Statistical Typing?\n",
    "\n",
    "> **Statistical typing** extends primitive data types with additional semantics\n",
    "> about the _properties held by a collection of data points_."
   ]
  },
  {
   "cell_type": "markdown",
   "id": "48d0b0ea",
   "metadata": {
    "slideshow": {
     "slide_type": "slide"
    }
   },
   "source": [
    "#### Consider a single data point"
   ]
  },
  {
   "cell_type": "code",
   "execution_count": 32,
   "id": "08cb8cf7",
   "metadata": {},
   "outputs": [],
   "source": [
    "data_point = {\"square_footage\": 700, \"nbedrooms\": 1, \"price\": 500_000}"
   ]
  },
  {
   "cell_type": "markdown",
   "id": "1250ed2e",
   "metadata": {
    "slideshow": {
     "slide_type": "fragment"
    }
   },
   "source": [
    "- Primitive datatypes\n",
    "- Value range\n",
    "- Allowable values\n",
    "- Regex string match\n",
    "- Nullability"
   ]
  },
  {
   "cell_type": "markdown",
   "id": "a2beb0b8",
   "metadata": {
    "slideshow": {
     "slide_type": "slide"
    }
   },
   "source": [
    "#### Now consider a collection data point"
   ]
  },
  {
   "cell_type": "code",
   "execution_count": 33,
   "id": "881e233c",
   "metadata": {},
   "outputs": [],
   "source": [
    "data_points = [\n",
    "    {\"square_footage\": 700, \"nbedrooms\": 1, \"price\": 500_000},\n",
    "    {\"square_footage\": 1000, \"nbedrooms\": 2, \"price\": 750_000},\n",
    "    {\"square_footage\": 3000, \"nbedrooms\": 4, \"price\": 1_000_000},\n",
    "    ...\n",
    "]"
   ]
  },
  {
   "cell_type": "markdown",
   "id": "bbe0d878",
   "metadata": {
    "slideshow": {
     "slide_type": "fragment"
    }
   },
   "source": [
    "- Apply atomic checks at scale\n",
    "- Uniqueness\n",
    "- Monotonicity\n",
    "- Mean, median, standard deviation\n",
    "- Fractional checks, e.g. 90% of data points are not null"
   ]
  },
  {
   "cell_type": "markdown",
   "id": "7188cbc7",
   "metadata": {
    "slideshow": {
     "slide_type": "slide"
    }
   },
   "source": [
    "### Pandera is a Statistical Type System Geared Towards Data Science\n",
    "\n",
    "Statistical types are defined with multiple layers 🧅"
   ]
  },
  {
   "cell_type": "markdown",
   "id": "6d7ede45",
   "metadata": {
    "slideshow": {
     "slide_type": "fragment"
    }
   },
   "source": [
    "> **primitive data types**: `int`, `float`, `bool`, `str`, etc."
   ]
  },
  {
   "cell_type": "markdown",
   "id": "154fe0bb",
   "metadata": {
    "slideshow": {
     "slide_type": "fragment"
    }
   },
   "source": [
    "> **deterministic properties**: domain of possible values, e.g. `x >= 0`"
   ]
  },
  {
   "cell_type": "markdown",
   "id": "9c7a62b0",
   "metadata": {
    "slideshow": {
     "slide_type": "fragment"
    }
   },
   "source": [
    "> **probabilistic properties**: distributions that apply to the variable and their sufficient statistics, e.g. `mean`,\n",
    "  `standard deviation`"
   ]
  },
  {
   "cell_type": "markdown",
   "id": "e46f438a",
   "metadata": {
    "slideshow": {
     "slide_type": "slide"
    }
   },
   "source": [
    "# 📊 Example 1: Validate your Data analysis"
   ]
  },
  {
   "cell_type": "markdown",
   "id": "e7857ae1",
   "metadata": {
    "slideshow": {
     "slide_type": "slide"
    }
   },
   "source": [
    "## Dataset: California Housing\n",
    "\n",
    "A dataset containing ~20,000 samples where each row is a California district and\n",
    "each column is an aggregate statistic about that district."
   ]
  },
  {
   "cell_type": "code",
   "execution_count": 34,
   "id": "ed814318",
   "metadata": {},
   "outputs": [
    {
     "data": {
      "text/html": [
       "<div>\n",
       "<style scoped>\n",
       "    .dataframe tbody tr th:only-of-type {\n",
       "        vertical-align: middle;\n",
       "    }\n",
       "\n",
       "    .dataframe tbody tr th {\n",
       "        vertical-align: top;\n",
       "    }\n",
       "\n",
       "    .dataframe thead th {\n",
       "        text-align: right;\n",
       "    }\n",
       "</style>\n",
       "<table border=\"1\" class=\"dataframe\">\n",
       "  <thead>\n",
       "    <tr style=\"text-align: right;\">\n",
       "      <th></th>\n",
       "      <th>MedInc</th>\n",
       "      <th>HouseAge</th>\n",
       "      <th>AveRooms</th>\n",
       "      <th>AveBedrms</th>\n",
       "      <th>Population</th>\n",
       "      <th>AveOccup</th>\n",
       "      <th>Latitude</th>\n",
       "      <th>Longitude</th>\n",
       "      <th>MedHouseVal</th>\n",
       "    </tr>\n",
       "  </thead>\n",
       "  <tbody>\n",
       "    <tr>\n",
       "      <th>count</th>\n",
       "      <td>20640.000000</td>\n",
       "      <td>20640.000000</td>\n",
       "      <td>20640.000000</td>\n",
       "      <td>20640.000000</td>\n",
       "      <td>20640.000000</td>\n",
       "      <td>20640.000000</td>\n",
       "      <td>20640.000000</td>\n",
       "      <td>20640.000000</td>\n",
       "      <td>20640.000000</td>\n",
       "    </tr>\n",
       "    <tr>\n",
       "      <th>mean</th>\n",
       "      <td>3.870671</td>\n",
       "      <td>28.639486</td>\n",
       "      <td>5.429000</td>\n",
       "      <td>1.096675</td>\n",
       "      <td>1425.476744</td>\n",
       "      <td>3.070655</td>\n",
       "      <td>35.631861</td>\n",
       "      <td>-119.569704</td>\n",
       "      <td>2.068558</td>\n",
       "    </tr>\n",
       "    <tr>\n",
       "      <th>std</th>\n",
       "      <td>1.899822</td>\n",
       "      <td>12.585558</td>\n",
       "      <td>2.474173</td>\n",
       "      <td>0.473911</td>\n",
       "      <td>1132.462122</td>\n",
       "      <td>10.386050</td>\n",
       "      <td>2.135952</td>\n",
       "      <td>2.003532</td>\n",
       "      <td>1.153956</td>\n",
       "    </tr>\n",
       "    <tr>\n",
       "      <th>min</th>\n",
       "      <td>0.499900</td>\n",
       "      <td>1.000000</td>\n",
       "      <td>0.846154</td>\n",
       "      <td>0.333333</td>\n",
       "      <td>3.000000</td>\n",
       "      <td>0.692308</td>\n",
       "      <td>32.540000</td>\n",
       "      <td>-124.350000</td>\n",
       "      <td>0.149990</td>\n",
       "    </tr>\n",
       "    <tr>\n",
       "      <th>25%</th>\n",
       "      <td>2.563400</td>\n",
       "      <td>18.000000</td>\n",
       "      <td>4.440716</td>\n",
       "      <td>1.006079</td>\n",
       "      <td>787.000000</td>\n",
       "      <td>2.429741</td>\n",
       "      <td>33.930000</td>\n",
       "      <td>-121.800000</td>\n",
       "      <td>1.196000</td>\n",
       "    </tr>\n",
       "    <tr>\n",
       "      <th>50%</th>\n",
       "      <td>3.534800</td>\n",
       "      <td>29.000000</td>\n",
       "      <td>5.229129</td>\n",
       "      <td>1.048780</td>\n",
       "      <td>1166.000000</td>\n",
       "      <td>2.818116</td>\n",
       "      <td>34.260000</td>\n",
       "      <td>-118.490000</td>\n",
       "      <td>1.797000</td>\n",
       "    </tr>\n",
       "    <tr>\n",
       "      <th>75%</th>\n",
       "      <td>4.743250</td>\n",
       "      <td>37.000000</td>\n",
       "      <td>6.052381</td>\n",
       "      <td>1.099526</td>\n",
       "      <td>1725.000000</td>\n",
       "      <td>3.282261</td>\n",
       "      <td>37.710000</td>\n",
       "      <td>-118.010000</td>\n",
       "      <td>2.647250</td>\n",
       "    </tr>\n",
       "    <tr>\n",
       "      <th>max</th>\n",
       "      <td>15.000100</td>\n",
       "      <td>52.000000</td>\n",
       "      <td>141.909091</td>\n",
       "      <td>34.066667</td>\n",
       "      <td>35682.000000</td>\n",
       "      <td>1243.333333</td>\n",
       "      <td>41.950000</td>\n",
       "      <td>-114.310000</td>\n",
       "      <td>5.000010</td>\n",
       "    </tr>\n",
       "  </tbody>\n",
       "</table>\n",
       "</div>"
      ],
      "text/plain": [
       "             MedInc      HouseAge      AveRooms     AveBedrms    Population  \\\n",
       "count  20640.000000  20640.000000  20640.000000  20640.000000  20640.000000   \n",
       "mean       3.870671     28.639486      5.429000      1.096675   1425.476744   \n",
       "std        1.899822     12.585558      2.474173      0.473911   1132.462122   \n",
       "min        0.499900      1.000000      0.846154      0.333333      3.000000   \n",
       "25%        2.563400     18.000000      4.440716      1.006079    787.000000   \n",
       "50%        3.534800     29.000000      5.229129      1.048780   1166.000000   \n",
       "75%        4.743250     37.000000      6.052381      1.099526   1725.000000   \n",
       "max       15.000100     52.000000    141.909091     34.066667  35682.000000   \n",
       "\n",
       "           AveOccup      Latitude     Longitude   MedHouseVal  \n",
       "count  20640.000000  20640.000000  20640.000000  20640.000000  \n",
       "mean       3.070655     35.631861   -119.569704      2.068558  \n",
       "std       10.386050      2.135952      2.003532      1.153956  \n",
       "min        0.692308     32.540000   -124.350000      0.149990  \n",
       "25%        2.429741     33.930000   -121.800000      1.196000  \n",
       "50%        2.818116     34.260000   -118.490000      1.797000  \n",
       "75%        3.282261     37.710000   -118.010000      2.647250  \n",
       "max     1243.333333     41.950000   -114.310000      5.000010  "
      ]
     },
     "execution_count": 34,
     "metadata": {},
     "output_type": "execute_result"
    }
   ],
   "source": [
    "from sklearn.datasets import fetch_california_housing\n",
    "\n",
    "housing_data = fetch_california_housing(as_frame=True).frame\n",
    "housing_data.describe()"
   ]
  },
  {
   "cell_type": "markdown",
   "id": "950f6e95",
   "metadata": {
    "slideshow": {
     "slide_type": "slide"
    }
   },
   "source": [
    "#### With a cursory glance at the data..."
   ]
  },
  {
   "cell_type": "code",
   "execution_count": 35,
   "id": "9abf3e0f",
   "metadata": {
    "lines_to_next_cell": 1
   },
   "outputs": [
    {
     "data": {
      "text/html": [
       "<div>\n",
       "<style scoped>\n",
       "    .dataframe tbody tr th:only-of-type {\n",
       "        vertical-align: middle;\n",
       "    }\n",
       "\n",
       "    .dataframe tbody tr th {\n",
       "        vertical-align: top;\n",
       "    }\n",
       "\n",
       "    .dataframe thead th {\n",
       "        text-align: right;\n",
       "    }\n",
       "</style>\n",
       "<table border=\"1\" class=\"dataframe\">\n",
       "  <thead>\n",
       "    <tr style=\"text-align: right;\">\n",
       "      <th></th>\n",
       "      <th>MedInc</th>\n",
       "      <th>HouseAge</th>\n",
       "      <th>AveRooms</th>\n",
       "      <th>AveBedrms</th>\n",
       "      <th>Population</th>\n",
       "      <th>AveOccup</th>\n",
       "      <th>Latitude</th>\n",
       "      <th>Longitude</th>\n",
       "      <th>MedHouseVal</th>\n",
       "    </tr>\n",
       "  </thead>\n",
       "  <tbody>\n",
       "    <tr>\n",
       "      <th>0</th>\n",
       "      <td>8.3252</td>\n",
       "      <td>41.0</td>\n",
       "      <td>6.984127</td>\n",
       "      <td>1.023810</td>\n",
       "      <td>322.0</td>\n",
       "      <td>2.555556</td>\n",
       "      <td>37.88</td>\n",
       "      <td>-122.23</td>\n",
       "      <td>4.526</td>\n",
       "    </tr>\n",
       "    <tr>\n",
       "      <th>1</th>\n",
       "      <td>8.3014</td>\n",
       "      <td>21.0</td>\n",
       "      <td>6.238137</td>\n",
       "      <td>0.971880</td>\n",
       "      <td>2401.0</td>\n",
       "      <td>2.109842</td>\n",
       "      <td>37.86</td>\n",
       "      <td>-122.22</td>\n",
       "      <td>3.585</td>\n",
       "    </tr>\n",
       "    <tr>\n",
       "      <th>2</th>\n",
       "      <td>7.2574</td>\n",
       "      <td>52.0</td>\n",
       "      <td>8.288136</td>\n",
       "      <td>1.073446</td>\n",
       "      <td>496.0</td>\n",
       "      <td>2.802260</td>\n",
       "      <td>37.85</td>\n",
       "      <td>-122.24</td>\n",
       "      <td>3.521</td>\n",
       "    </tr>\n",
       "    <tr>\n",
       "      <th>3</th>\n",
       "      <td>5.6431</td>\n",
       "      <td>52.0</td>\n",
       "      <td>5.817352</td>\n",
       "      <td>1.073059</td>\n",
       "      <td>558.0</td>\n",
       "      <td>2.547945</td>\n",
       "      <td>37.85</td>\n",
       "      <td>-122.25</td>\n",
       "      <td>3.413</td>\n",
       "    </tr>\n",
       "    <tr>\n",
       "      <th>4</th>\n",
       "      <td>3.8462</td>\n",
       "      <td>52.0</td>\n",
       "      <td>6.281853</td>\n",
       "      <td>1.081081</td>\n",
       "      <td>565.0</td>\n",
       "      <td>2.181467</td>\n",
       "      <td>37.85</td>\n",
       "      <td>-122.25</td>\n",
       "      <td>3.422</td>\n",
       "    </tr>\n",
       "  </tbody>\n",
       "</table>\n",
       "</div>"
      ],
      "text/plain": [
       "   MedInc  HouseAge  AveRooms  AveBedrms  Population  AveOccup  Latitude  \\\n",
       "0  8.3252      41.0  6.984127   1.023810       322.0  2.555556     37.88   \n",
       "1  8.3014      21.0  6.238137   0.971880      2401.0  2.109842     37.86   \n",
       "2  7.2574      52.0  8.288136   1.073446       496.0  2.802260     37.85   \n",
       "3  5.6431      52.0  5.817352   1.073059       558.0  2.547945     37.85   \n",
       "4  3.8462      52.0  6.281853   1.081081       565.0  2.181467     37.85   \n",
       "\n",
       "   Longitude  MedHouseVal  \n",
       "0    -122.23        4.526  \n",
       "1    -122.22        3.585  \n",
       "2    -122.24        3.521  \n",
       "3    -122.25        3.413  \n",
       "4    -122.25        3.422  "
      ]
     },
     "execution_count": 35,
     "metadata": {},
     "output_type": "execute_result"
    }
   ],
   "source": [
    "housing_data.head(5)"
   ]
  },
  {
   "cell_type": "markdown",
   "id": "a06fe502",
   "metadata": {
    "slideshow": {
     "slide_type": "slide"
    }
   },
   "source": [
    "#### We can start defining a basic schema"
   ]
  },
  {
   "cell_type": "code",
   "execution_count": 36,
   "id": "5fa96cd6",
   "metadata": {},
   "outputs": [
    {
     "name": "stdout",
     "output_type": "stream",
     "text": [
      "validation passed ✅\n"
     ]
    }
   ],
   "source": [
    "class HousingData(pa.SchemaModel):\n",
    "\n",
    "    # features\n",
    "    MedInc: Series[float] = pa.Field(in_range={\"min_value\": 0, \"max_value\": 100})\n",
    "    HouseAge: Series[float] = pa.Field(in_range={\"min_value\": 0, \"max_value\": 100})\n",
    "    AveRooms: Series[float] = pa.Field(in_range={\"min_value\": 0, \"max_value\": 1_000})\n",
    "    AveBedrms: Series[float] = pa.Field(in_range={\"min_value\": 0, \"max_value\": 100})\n",
    "    Population: Series[float] = pa.Field(in_range={\"min_value\": 0, \"max_value\": 100_000})\n",
    "    AveOccup: Series[float] = pa.Field(in_range={\"min_value\": 0, \"max_value\": 10_000})\n",
    "    Latitude: Series[float] = pa.Field(in_range={\"min_value\": -90, \"max_value\": 90})\n",
    "    Longitude: Series[float] = pa.Field(in_range={\"min_value\": -180, \"max_value\": 180})\n",
    "\n",
    "    # target variable! 🎯\n",
    "    MedHouseVal: Series[float] = pa.Field(in_range={\"min_value\": 0, \"max_value\": 100})\n",
    "\n",
    "    class Config:\n",
    "        coerce = True\n",
    "\n",
    "\n",
    "@pa.check_types\n",
    "def read_data() -> DataFrame[HousingData]:\n",
    "    return fetch_california_housing(as_frame=True).frame\n",
    "\n",
    "\n",
    "housing_data = read_data()\n",
    "print(\"validation passed ✅\")"
   ]
  },
  {
   "cell_type": "markdown",
   "id": "2f969105",
   "metadata": {
    "slideshow": {
     "slide_type": "slide"
    }
   },
   "source": [
    "### Analysis Pipeline\n",
    "\n",
    "Hypothesis: Median income is positively correlated with Median House Value"
   ]
  },
  {
   "cell_type": "code",
   "execution_count": 37,
   "id": "0313a076",
   "metadata": {
    "lines_to_next_cell": 2
   },
   "outputs": [
    {
     "data": {
      "text/markdown": [
       "Pearson correlation coefficient = 0.688075"
      ],
      "text/plain": [
       "<IPython.core.display.Markdown object>"
      ]
     },
     "metadata": {},
     "output_type": "display_data"
    },
    {
     "data": {
      "image/png": "[encoded data removed]",
      "text/plain": [
       "<Figure size 640x480 with 1 Axes>"
      ]
     },
     "metadata": {},
     "output_type": "display_data"
    }
   ],
   "source": [
    "def analyze_data(housing_data, var1, var2):\n",
    "    correlation_coef = housing_data[[var1, var2]].corr().at[var1, var2]\n",
    "    display(Markdown(f\"Pearson correlation coefficient = {correlation_coef:0.06f}\"))\n",
    "    housing_data.plot.scatter(var1, var2, s=1, alpha=0.5)\n",
    "\n",
    "analyze_data(housing_data, \"MedInc\", \"MedHouseVal\")"
   ]
  },
  {
   "cell_type": "markdown",
   "id": "90d8a1c7",
   "metadata": {
    "slideshow": {
     "slide_type": "slide"
    }
   },
   "source": [
    "#### Bake in statistical hypothesis testing into your pipeline\n",
    "\n",
    "Easily create re-usable custom checks"
   ]
  },
  {
   "cell_type": "code",
   "execution_count": 38,
   "id": "4a93b66f",
   "metadata": {},
   "outputs": [],
   "source": [
    "from scipy.stats import pearsonr\n",
    "import pandera.extensions as extensions\n",
    "\n",
    "@extensions.register_check_method(\n",
    "    statistics=[\"var1\", \"var2\", \"alpha\"],\n",
    "    supported_types=[pd.DataFrame]\n",
    ")\n",
    "def is_positively_correlated(\n",
    "    df: pd.DataFrame,\n",
    "    *,\n",
    "    var1: str,\n",
    "    var2: str,\n",
    "    alpha: float = 0.01,\n",
    "):\n",
    "    \"\"\"Perform Pearson correlation hypothesis test.\"\"\"\n",
    "\n",
    "    r, pvalue = pearsonr(df[var1], df[var2])\n",
    "    passed = r > 0 and pvalue <= alpha\n",
    "\n",
    "    pretty_pvalue = np.format_float_scientific(pvalue)\n",
    "    if passed:\n",
    "        print(f\"✅ {var1} is positively correlated with {var2} with r = {r:0.04f}; pvalue = {pretty_pvalue}\")\n",
    "    else:\n",
    "        print(f\"❌ {var1} not correlated with {var2} with with r = {r:0.04f}; pvalue = {pretty_pvalue}\")\n",
    "\n",
    "    return passed"
   ]
  },
  {
   "cell_type": "markdown",
   "id": "b8fe0d65",
   "metadata": {
    "slideshow": {
     "slide_type": "slide"
    }
   },
   "source": [
    "#### Dynamically create schemas as statistical hypothesis validators"
   ]
  },
  {
   "cell_type": "code",
   "execution_count": 39,
   "id": "e041ab75",
   "metadata": {
    "lines_to_next_cell": 1
   },
   "outputs": [
    {
     "name": "stdout",
     "output_type": "stream",
     "text": [
      "✅ MedInc is positively correlated with MedHouseVal with r = 0.6881; pvalue = 0.e+00\n"
     ]
    },
    {
     "data": {
      "text/markdown": [
       "Pearson correlation coefficient = 0.688075"
      ],
      "text/plain": [
       "<IPython.core.display.Markdown object>"
      ]
     },
     "metadata": {},
     "output_type": "display_data"
    },
    {
     "data": {
      "image/png": "[encoded data removed]",
      "text/plain": [
       "<Figure size 640x480 with 1 Axes>"
      ]
     },
     "metadata": {},
     "output_type": "display_data"
    }
   ],
   "source": [
    "def analyze_data(housing_data, var1: str, var2: str):\n",
    "\n",
    "    class HousingDataHypothesis(HousingData):\n",
    "        class Config:\n",
    "            coerce = True\n",
    "            is_positively_correlated = {\n",
    "                \"var1\": var1,\n",
    "                \"var2\": var2,\n",
    "                \"alpha\": 0.01,\n",
    "            }\n",
    "\n",
    "    housing_data = HousingDataHypothesis.validate(housing_data)\n",
    "    correlation_coef = housing_data[[var1, var2]].corr().at[var1, var2]\n",
    "    display(Markdown(f\"Pearson correlation coefficient = {correlation_coef:0.06f}\"))\n",
    "    housing_data.plot.scatter(var1, var2, s=1, alpha=0.5)\n",
    "\n",
    "\n",
    "analyze_data(housing_data, \"MedInc\", \"MedHouseVal\")"
   ]
  },
  {
   "cell_type": "markdown",
   "id": "fee7cc38",
   "metadata": {
    "slideshow": {
     "slide_type": "slide"
    }
   },
   "source": [
    "#### The Analysis Pipeline\n",
    "\n",
    "Every time this runs, pandera makes sure all the assumptions encoded in the schemas\n",
    "hold true."
   ]
  },
  {
   "cell_type": "code",
   "execution_count": 40,
   "id": "34aff5af",
   "metadata": {
    "lines_to_next_cell": 2
   },
   "outputs": [
    {
     "name": "stdout",
     "output_type": "stream",
     "text": [
      "✅ MedInc is positively correlated with MedHouseVal with r = 0.6881; pvalue = 0.e+00\n"
     ]
    },
    {
     "data": {
      "text/markdown": [
       "Pearson correlation coefficient = 0.688075"
      ],
      "text/plain": [
       "<IPython.core.display.Markdown object>"
      ]
     },
     "metadata": {},
     "output_type": "display_data"
    },
    {
     "data": {
      "image/png": "[encoded data removed]",
      "text/plain": [
       "<Figure size 640x480 with 1 Axes>"
      ]
     },
     "metadata": {},
     "output_type": "display_data"
    }
   ],
   "source": [
    "def run_analysis_pipeline(var1: str, var2: str):\n",
    "    data = read_data()\n",
    "    analyze_data(data, var1, var2)\n",
    "\n",
    "\n",
    "run_analysis_pipeline(\"MedInc\", \"MedHouseVal\")"
   ]
  },
  {
   "cell_type": "markdown",
   "id": "a194b090",
   "metadata": {
    "slideshow": {
     "slide_type": "slide"
    }
   },
   "source": [
    "# 🤖 Example 2: Validate your Machine Learning Pipeline"
   ]
  },
  {
   "cell_type": "markdown",
   "id": "27101797",
   "metadata": {
    "slideshow": {
     "slide_type": "slide"
    }
   },
   "source": [
    "### Prediction Task:\n",
    "\n",
    "From all the features, predict the median house value target `MedHouseVal`."
   ]
  },
  {
   "cell_type": "code",
   "execution_count": 41,
   "id": "0e55bda0",
   "metadata": {},
   "outputs": [],
   "source": [
    "from typing import Tuple\n",
    "\n",
    "from sklearn.linear_model import LinearRegression\n",
    "from sklearn.metrics import r2_score\n",
    "from sklearn.model_selection import train_test_split\n",
    "\n",
    "\n",
    "# ⚠️ This is the most critical part to check\n",
    "@pa.check_types\n",
    "def split_data(\n",
    "    data: DataFrame[HousingData],\n",
    "    test_size: float = 0.2,\n",
    ") -> Tuple[DataFrame[HousingData], DataFrame[HousingData]]:\n",
    "    return train_test_split(data, test_size=test_size)\n",
    "\n",
    "\n",
    "# 👉 Notice that I don't use @pa.check_types here\n",
    "def parse_data(data: DataFrame[HousingData], target: str) -> Tuple[DataFrame[HousingData], pd.Series]:\n",
    "    features = [column for column in data if column != target]\n",
    "    return data[features], data[target]\n",
    "\n",
    "\n",
    "# 🔽 At this point onward the type annotations are for type linters like mypy\n",
    "def train(features: pd.DataFrame, target: pd.Series) -> LinearRegression:\n",
    "    model = LinearRegression()\n",
    "    return model.fit(features, target)\n",
    "\n",
    "\n",
    "def evaluate(model: LinearRegression, features: pd.DataFrame, target: pd.Series) -> float:\n",
    "    prediction = model.predict(features)\n",
    "    return r2_score(target, prediction)"
   ]
  },
  {
   "cell_type": "markdown",
   "id": "4f8613e1",
   "metadata": {
    "slideshow": {
     "slide_type": "slide"
    }
   },
   "source": [
    "#### Running a validated training pipeline"
   ]
  },
  {
   "cell_type": "code",
   "execution_count": 42,
   "id": "92d21053",
   "metadata": {
    "lines_to_next_cell": 2
   },
   "outputs": [
    {
     "name": "stdout",
     "output_type": "stream",
     "text": [
      "🏋️‍♂️ Train R^2 score: 0.608329\n",
      "📝 Test R^2 score: 0.597706\n"
     ]
    },
    {
     "data": {
      "text/html": [
       "<style>#sk-container-id-1 {color: black;}#sk-container-id-1 pre{padding: 0;}#sk-container-id-1 div.sk-toggleable {background-color: white;}#sk-container-id-1 label.sk-toggleable__label {cursor: pointer;display: block;width: 100%;margin-bottom: 0;padding: 0.3em;box-sizing: border-box;text-align: center;}#sk-container-id-1 label.sk-toggleable__label-arrow:before {content: \"▸\";float: left;margin-right: 0.25em;color: #696969;}#sk-container-id-1 label.sk-toggleable__label-arrow:hover:before {color: black;}#sk-container-id-1 div.sk-estimator:hover label.sk-toggleable__label-arrow:before {color: black;}#sk-container-id-1 div.sk-toggleable__content {max-height: 0;max-width: 0;overflow: hidden;text-align: left;background-color: #f0f8ff;}#sk-container-id-1 div.sk-toggleable__content pre {margin: 0.2em;color: black;border-radius: 0.25em;background-color: #f0f8ff;}#sk-container-id-1 input.sk-toggleable__control:checked~div.sk-toggleable__content {max-height: 200px;max-width: 100%;overflow: auto;}#sk-container-id-1 input.sk-toggleable__control:checked~label.sk-toggleable__label-arrow:before {content: \"▾\";}#sk-container-id-1 div.sk-estimator input.sk-toggleable__control:checked~label.sk-toggleable__label {background-color: #d4ebff;}#sk-container-id-1 div.sk-label input.sk-toggleable__control:checked~label.sk-toggleable__label {background-color: #d4ebff;}#sk-container-id-1 input.sk-hidden--visually {border: 0;clip: rect(1px 1px 1px 1px);clip: rect(1px, 1px, 1px, 1px);height: 1px;margin: -1px;overflow: hidden;padding: 0;position: absolute;width: 1px;}#sk-container-id-1 div.sk-estimator {font-family: monospace;background-color: #f0f8ff;border: 1px dotted black;border-radius: 0.25em;box-sizing: border-box;margin-bottom: 0.5em;}#sk-container-id-1 div.sk-estimator:hover {background-color: #d4ebff;}#sk-container-id-1 div.sk-parallel-item::after {content: \"\";width: 100%;border-bottom: 1px solid gray;flex-grow: 1;}#sk-container-id-1 div.sk-label:hover label.sk-toggleable__label {background-color: #d4ebff;}#sk-container-id-1 div.sk-serial::before {content: \"\";position: absolute;border-left: 1px solid gray;box-sizing: border-box;top: 0;bottom: 0;left: 50%;z-index: 0;}#sk-container-id-1 div.sk-serial {display: flex;flex-direction: column;align-items: center;background-color: white;padding-right: 0.2em;padding-left: 0.2em;position: relative;}#sk-container-id-1 div.sk-item {position: relative;z-index: 1;}#sk-container-id-1 div.sk-parallel {display: flex;align-items: stretch;justify-content: center;background-color: white;position: relative;}#sk-container-id-1 div.sk-item::before, #sk-container-id-1 div.sk-parallel-item::before {content: \"\";position: absolute;border-left: 1px solid gray;box-sizing: border-box;top: 0;bottom: 0;left: 50%;z-index: -1;}#sk-container-id-1 div.sk-parallel-item {display: flex;flex-direction: column;z-index: 1;position: relative;background-color: white;}#sk-container-id-1 div.sk-parallel-item:first-child::after {align-self: flex-end;width: 50%;}#sk-container-id-1 div.sk-parallel-item:last-child::after {align-self: flex-start;width: 50%;}#sk-container-id-1 div.sk-parallel-item:only-child::after {width: 0;}#sk-container-id-1 div.sk-dashed-wrapped {border: 1px dashed gray;margin: 0 0.4em 0.5em 0.4em;box-sizing: border-box;padding-bottom: 0.4em;background-color: white;}#sk-container-id-1 div.sk-label label {font-family: monospace;font-weight: bold;display: inline-block;line-height: 1.2em;}#sk-container-id-1 div.sk-label-container {text-align: center;}#sk-container-id-1 div.sk-container {/* jupyter's `normalize.less` sets `[hidden] { display: none; }` but bootstrap.min.css set `[hidden] { display: none !important; }` so we also need the `!important` here to be able to override the default hidden behavior on the sphinx rendered scikit-learn.org. See: https://github.com/scikit-learn/scikit-learn/issues/21755 */display: inline-block !important;position: relative;}#sk-container-id-1 div.sk-text-repr-fallback {display: none;}</style><div id=\"sk-container-id-1\" class=\"sk-top-container\"><div class=\"sk-text-repr-fallback\"><pre>LinearRegression()</pre><b>In a Jupyter environment, please rerun this cell to show the HTML representation or trust the notebook. <br />On GitHub, the HTML representation is unable to render, please try loading this page with nbviewer.org.</b></div><div class=\"sk-container\" hidden><div class=\"sk-item\"><div class=\"sk-estimator sk-toggleable\"><input class=\"sk-toggleable__control sk-hidden--visually\" id=\"sk-estimator-id-1\" type=\"checkbox\" checked><label for=\"sk-estimator-id-1\" class=\"sk-toggleable__label sk-toggleable__label-arrow\">LinearRegression</label><div class=\"sk-toggleable__content\"><pre>LinearRegression()</pre></div></div></div></div></div>"
      ],
      "text/plain": [
       "LinearRegression()"
      ]
     },
     "execution_count": 42,
     "metadata": {},
     "output_type": "execute_result"
    }
   ],
   "source": [
    "def run_training_pipeline(data: pd.DataFrame, target: str):\n",
    "    train_data, test_data = split_data(data)\n",
    "    train_features, train_target = parse_data(train_data, target)\n",
    "\n",
    "    # train a model\n",
    "    model = train(train_features, train_target)\n",
    "\n",
    "    # evaluate\n",
    "    train_r2 = evaluate(model, train_features, train_target)\n",
    "    test_r2 = evaluate(model, *parse_data(test_data, target))\n",
    "\n",
    "    return model, train_r2, test_r2\n",
    "\n",
    "\n",
    "model, train_r2, test_r2 = run_training_pipeline(read_data(), \"MedHouseVal\")\n",
    "print(f\"🏋️‍♂️ Train R^2 score: {train_r2:0.6f}\")\n",
    "print(f\"📝 Test R^2 score: {test_r2:0.6f}\")\n",
    "model"
   ]
  },
  {
   "cell_type": "markdown",
   "id": "d6e7c7a7",
   "metadata": {
    "slideshow": {
     "slide_type": "slide"
    }
   },
   "source": [
    "#### Unit testing a training pipeline\n",
    "\n",
    "Synthesize mock training data so that you don't have to hand-craft dataframes 🤯"
   ]
  },
  {
   "cell_type": "code",
   "execution_count": 43,
   "id": "df4df678",
   "metadata": {
    "lines_to_next_cell": 2
   },
   "outputs": [
    {
     "name": "stdout",
     "output_type": "stream",
     "text": [
      "✅ training pipeline test suite passed!\n"
     ]
    }
   ],
   "source": [
    "from hypothesis import settings\n",
    "\n",
    "prediction_schema = pa.SeriesSchema(\n",
    "    float,\n",
    "    # in-line custom checks\n",
    "    pa.Check(lambda s: (s >= 0).mean() > 0.05, name=\"predictions are mostly positive\"),\n",
    "    nullable=False,\n",
    ")\n",
    "\n",
    "\n",
    "@given(HousingData.strategy(size=20))\n",
    "@settings(max_examples=3)\n",
    "def test_run_training_pipeline(data):\n",
    "    target = \"MedHouseVal\"\n",
    "    model, *_ = run_training_pipeline(data, target)\n",
    "    features, _ = parse_data(data, target)\n",
    "    predictions = pd.Series(model.predict(features))\n",
    "\n",
    "    # validate predictions\n",
    "    prediction_schema(predictions)\n",
    "\n",
    "\n",
    "def run_test_suite():\n",
    "    test_run_training_pipeline()\n",
    "    print(\"✅ training pipeline test suite passed!\")\n",
    "\n",
    "\n",
    "run_test_suite()"
   ]
  },
  {
   "cell_type": "markdown",
   "id": "cd89f634",
   "metadata": {
    "slideshow": {
     "slide_type": "slide"
    }
   },
   "source": [
    "# ⭐️ Conclusion: How can I start using Pandera in my work?"
   ]
  },
  {
   "cell_type": "markdown",
   "id": "f66f1b2b",
   "metadata": {
    "slideshow": {
     "slide_type": "slide"
    }
   },
   "source": [
    "### Incrementally adopt `pandera` into your workflow"
   ]
  },
  {
   "cell_type": "markdown",
   "id": "bd455603",
   "metadata": {
    "slideshow": {
     "slide_type": "fragement"
    }
   },
   "source": [
    "> 🧠 → 📝 Encode the domain knowledge that you build up during the development and exploration process into schemas."
   ]
  },
  {
   "cell_type": "markdown",
   "id": "f889fe86",
   "metadata": {
    "slideshow": {
     "slide_type": "fragment"
    }
   },
   "source": [
    "> 🥾✨ If you're in a hurry, use [`pandera.infer_schema`](https://pandera.readthedocs.io/en/stable/schema_inference.html)\n",
    "> to bootstrap a schema and refine it over time."
   ]
  },
  {
   "cell_type": "markdown",
   "id": "90639cf2",
   "metadata": {
    "slideshow": {
     "slide_type": "fragment"
    }
   },
   "source": [
    "> ❗️ Identify the critical functions in your data processing pipeline and add `@pa.check_types` decorators as\n",
    "checkpoints."
   ]
  },
  {
   "cell_type": "markdown",
   "id": "4ae9fe52",
   "metadata": {
    "slideshow": {
     "slide_type": "fragment"
    }
   },
   "source": [
    "> 🔩 Codify data quality checks that are specific to your problem domain by creating reusable custom validation rules\n",
    "> via `@pandera.extensions.register_check_method`."
   ]
  },
  {
   "cell_type": "markdown",
   "id": "fe7c61ee",
   "metadata": {
    "slideshow": {
     "slide_type": "fragment"
    }
   },
   "source": [
    "> 🔄 Reuse schemas for runtime validation or test-time validation."
   ]
  },
  {
   "cell_type": "markdown",
   "id": "c3fc0520",
   "metadata": {
    "slideshow": {
     "slide_type": "fragment"
    }
   },
   "source": [
    "> 🤩 Be more confident in the correctness of your analysis/model with programmatically enforced, self-documenting code."
   ]
  },
  {
   "cell_type": "markdown",
   "id": "a3b59b96",
   "metadata": {
    "slideshow": {
     "slide_type": "slide"
    }
   },
   "source": [
    "## 🛣 Future Roadmap\n",
    "\n",
    "- 📏 **Extensibility:** getting support for other schema formats and data container objects e.g.\n",
    "  `xarray`, `jsonschema`, `cudf`, `pyarrow`, and an extension API for arbitrary data containers.\n",
    "- 💻 **UX:** better error-reporting, more built-in checks, statistical hypothesis checks, conditional validation, and more!\n",
    "- 🤝 **Interoperability:** tighter integrations with the python ecosystem, e.g. `fastapi`, `pydantic`, `pytest`"
   ]
  },
  {
   "cell_type": "markdown",
   "id": "99531f44",
   "metadata": {
    "slideshow": {
     "slide_type": "slide"
    }
   },
   "source": [
    "# Join the Community!\n",
    "\n",
    "![badge](https://img.shields.io/github/stars/pandera-dev/pandera?style=social)\n",
    "[![badge](https://img.shields.io/pypi/pyversions/pandera.svg)](https://pypi.python.org/pypi/pandera/)\n",
    "[![badge](https://img.shields.io/pypi/v/pandera.svg)](https://pypi.org/project/pandera/)\n",
    "![badge](https://img.shields.io/github/contributors/pandera-dev/pandera)\n",
    "[![badge](https://pepy.tech/badge/pandera)](https://pepy.tech/project/pandera)\n",
    "[![badge](https://pepy.tech/badge/pandera/month)](https://pepy.tech/project/pandera)\n",
    "[![badge](https://img.shields.io/badge/discord-chat-purple?color=%235765F2&label=discord&logo=discord)](https://discord.gg/vyanhWuaKB)\n",
    "\n",
    "\n",
    "- **Twitter**: [@cosmicbboy](https://twitter.com/cosmicBboy)\n",
    "- **Discord**: https://discord.gg/vyanhWuaKB\n",
    "- **Email**: [niels@union.ai](mailto:niels@union.ai)\n",
    "- **Repo**: https://github.com/unionai-oss/pandera\n",
    "- **Docs**: https://pandera.readthedocs.io\n",
    "- **Contributing Guide**: https://pandera.readthedocs.io/en/stable/CONTRIBUTING.html\n",
    "- **Become a Sponsor**: https://github.com/sponsors/cosmicBboy"
   ]
  }
 ],
 "metadata": {
  "jupytext": {
   "encoding": "# -*- coding: utf-8 -*-",
   "formats": "ipynb,py:percent"
  },
  "kernelspec": {
   "display_name": "pandera-presentations",
   "language": "python",
   "name": "python3"
  },
  "language_info": {
   "codemirror_mode": {
    "name": "ipython",
    "version": 3
   },
   "file_extension": ".py",
   "mimetype": "text/x-python",
   "name": "python",
   "nbconvert_exporter": "python",
   "pygments_lexer": "ipython3",
   "version": "3.9.16"
  }
 },
 "nbformat": 4,
 "nbformat_minor": 5
}
