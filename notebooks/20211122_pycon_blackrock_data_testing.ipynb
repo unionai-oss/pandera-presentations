{
 "cells": [
  {
   "cell_type": "markdown",
   "id": "aeba90c9",
   "metadata": {
    "slideshow": {
     "slide_type": "slide"
    }
   },
   "source": [
    "\n",
    "# Pandera: A Data Testing Toolkit for Data Science & Machine Learning\n",
    "\n",
    "### Niels Bantilan\n",
    "\n",
    "Pycon Blackrock, November 23rd 2021"
   ]
  },
  {
   "cell_type": "code",
   "execution_count": 68,
   "id": "acdf2fc7-4543-4b50-93a4-afc1a7a2c804",
   "metadata": {
    "jupyter": {
     "source_hidden": true
    },
    "tags": [
     "hide_input",
     "hide_output"
    ]
   },
   "outputs": [],
   "source": [
    "import warnings\n",
    "\n",
    "warnings.simplefilter(\"ignore\")\n",
    "\n",
    "import pandera as pa"
   ]
  },
  {
   "cell_type": "markdown",
   "id": "47efb456",
   "metadata": {
    "slideshow": {
     "slide_type": "slide"
    }
   },
   "source": [
    "# Background 🏞\n",
    "\n",
    "- 📜 B.A. in Biology and Dance\n",
    "- 📜 M.P.H. in Sociomedical Science and Public Health Informatics\n",
    "- 🤖 Machine Learning Engineer @ Union.ai\n",
    "- 🛩 Flytekit OSS Maintainer\n",
    "- ✅ Author and Maintainer of Pandera\n",
    "- 🛠 Make DS/ML practitioners more productive"
   ]
  },
  {
   "cell_type": "markdown",
   "id": "62388383",
   "metadata": {
    "slideshow": {
     "slide_type": "slide"
    }
   },
   "source": [
    "# Outline 📝\n",
    "\n",
    "- 🤔 What's Data Testing?\n",
    "- ✅ Pandera Quickstart\n",
    "- 🚦 Guiding Principles\n",
    "- 🏔 Scaling Pandera\n",
    "- ⌨️ Conclusion: Statistical Typing\n",
    "- 🛣 Future Roadmap"
   ]
  },
  {
   "cell_type": "markdown",
   "id": "fafa78eb",
   "metadata": {
    "slideshow": {
     "slide_type": "slide"
    }
   },
   "source": [
    "# 🤔 What's Data Testing?\n",
    "\n",
    "The act of asking the question \"are my data as I expect them to be?\""
   ]
  },
  {
   "cell_type": "markdown",
   "id": "273abc9c",
   "metadata": {
    "slideshow": {
     "slide_type": "fragment"
    }
   },
   "source": [
    "It's the act of writing programs that assert properties about not only the\n",
    "data themselves, but also the functions that produce them."
   ]
  },
  {
   "cell_type": "markdown",
   "id": "a7c4a701",
   "metadata": {
    "slideshow": {
     "slide_type": "slide"
    }
   },
   "source": [
    "### A Simple Example: Life Before Pandera\n",
    "\n",
    "`data_cleaner.py`"
   ]
  },
  {
   "cell_type": "code",
   "execution_count": 69,
   "id": "f0069fa2",
   "metadata": {
    "lines_to_next_cell": 1,
    "tags": []
   },
   "outputs": [],
   "source": [
    "import pandas as pd\n",
    "\n",
    "raw_data = pd.DataFrame({\n",
    "    \"continuous\": [\"-1.1\", \"4.0\", \"10.25\", \"-0.1\", \"5.2\"],\n",
    "    \"categorical\": [\"A\", \"B\", \"C\", \"Z\", \"X\"],\n",
    "})\n",
    "\n",
    "def clean(raw_data):\n",
    "    # do some cleaning 🧹✨\n",
    "    clean_data = ...\n",
    "    return clean_data"
   ]
  },
  {
   "cell_type": "markdown",
   "id": "9ca8e113",
   "metadata": {
    "slideshow": {
     "slide_type": "slide"
    }
   },
   "source": [
    "`test_data_cleaner.py`"
   ]
  },
  {
   "cell_type": "code",
   "execution_count": 70,
   "id": "02a532bd",
   "metadata": {
    "lines_to_next_cell": 2
   },
   "outputs": [],
   "source": [
    "import pytest\n",
    "\n",
    "def test_clean():\n",
    "    # assumptions about valid data\n",
    "    mock_raw_data = pd.DataFrame({\"continuous\": [\"1.0\", \"-5.1\"], \"categorical\": [\"X\", \"A\"]})\n",
    "    result = clean(mock_raw_data)\n",
    "    \n",
    "    # check that the result contains nulls\n",
    "    assert result.isna().any(axis=\"columns\").all()\n",
    "\n",
    "    # check data types of each column\n",
    "    assert result[\"continuous\"].dtype == float\n",
    "    assert result[\"categorical\"].dtype == object\n",
    "    \n",
    "    # check that non-null values have expected properties\n",
    "    assert result[\"continuous\"].dropna().ge(0).all()\n",
    "    assert result[\"categorical\"].dropna().isin([\"A\", \"B\", \"C\"]).all()\n",
    "    \n",
    "    # assumptions about invalid data\n",
    "    with pytest.raises(KeyError):\n",
    "        invalid_mock_raw_data = pd.DataFrame({\"categorical\": [\"A\"]})\n",
    "        clean(invalid_mock_raw_data)\n",
    "    print(\"tests pass! ✅\")"
   ]
  },
  {
   "cell_type": "markdown",
   "id": "d552b9c4-0a30-4b48-81be-86d0f527a621",
   "metadata": {
    "slideshow": {
     "slide_type": "slide"
    }
   },
   "source": [
    "Let's implement the `clean` function:"
   ]
  },
  {
   "cell_type": "code",
   "execution_count": 71,
   "id": "481bd8b9-c4af-4c59-b35c-5bc699a0456b",
   "metadata": {},
   "outputs": [
    {
     "data": {
      "text/html": [
       "<div>\n",
       "<style scoped>\n",
       "    .dataframe tbody tr th:only-of-type {\n",
       "        vertical-align: middle;\n",
       "    }\n",
       "\n",
       "    .dataframe tbody tr th {\n",
       "        vertical-align: top;\n",
       "    }\n",
       "\n",
       "    .dataframe thead th {\n",
       "        text-align: right;\n",
       "    }\n",
       "</style>\n",
       "<table border=\"1\" class=\"dataframe\">\n",
       "  <thead>\n",
       "    <tr style=\"text-align: right;\">\n",
       "      <th></th>\n",
       "      <th>continuous</th>\n",
       "      <th>categorical</th>\n",
       "    </tr>\n",
       "  </thead>\n",
       "  <tbody>\n",
       "    <tr>\n",
       "      <th>0</th>\n",
       "      <td>NaN</td>\n",
       "      <td>A</td>\n",
       "    </tr>\n",
       "    <tr>\n",
       "      <th>1</th>\n",
       "      <td>4.00</td>\n",
       "      <td>B</td>\n",
       "    </tr>\n",
       "    <tr>\n",
       "      <th>2</th>\n",
       "      <td>10.25</td>\n",
       "      <td>C</td>\n",
       "    </tr>\n",
       "    <tr>\n",
       "      <th>3</th>\n",
       "      <td>NaN</td>\n",
       "      <td>NaN</td>\n",
       "    </tr>\n",
       "    <tr>\n",
       "      <th>4</th>\n",
       "      <td>5.20</td>\n",
       "      <td>NaN</td>\n",
       "    </tr>\n",
       "  </tbody>\n",
       "</table>\n",
       "</div>"
      ],
      "text/plain": [
       "   continuous categorical\n",
       "0         NaN           A\n",
       "1        4.00           B\n",
       "2       10.25           C\n",
       "3         NaN         NaN\n",
       "4        5.20         NaN"
      ]
     },
     "execution_count": 71,
     "metadata": {},
     "output_type": "execute_result"
    }
   ],
   "source": [
    "def clean(raw_data):\n",
    "    raw_data = pd.DataFrame(raw_data)\n",
    "    # do some cleaning 🧹✨\n",
    "    clean_data = (\n",
    "        raw_data\n",
    "        .astype({\"continuous\": float, \"categorical\": str})\n",
    "        .assign(\n",
    "            continuous=lambda _: _.continuous.mask(_.continuous < 0),\n",
    "            categorical=lambda _: _.categorical.mask(~_.categorical.isin([\"A\", \"B\", \"C\"]))\n",
    "        )\n",
    "    )\n",
    "    return clean_data\n",
    "\n",
    "clean(raw_data)"
   ]
  },
  {
   "cell_type": "code",
   "execution_count": 73,
   "id": "ebb0c1cd-3cd2-4d3f-8391-0c52e985653a",
   "metadata": {},
   "outputs": [
    {
     "name": "stdout",
     "output_type": "stream",
     "text": [
      "tests pass! ✅\n"
     ]
    }
   ],
   "source": [
    "test_clean()"
   ]
  },
  {
   "cell_type": "markdown",
   "id": "f83bd976",
   "metadata": {
    "slideshow": {
     "slide_type": "slide"
    }
   },
   "source": [
    "<img src=\"https://raw.githubusercontent.com/pandera-dev/pandera/master/docs/source/_static/pandera-logo.png\" width=\"125px\" style=\"margin: 0;\"/>\n",
    "\n",
    "<h2 style=\"margin-top: 0;\">Pandera Quickstart</h2>\n",
    "\n",
    "An expressive and light-weight statistical validation tool for dataframes\n",
    "\n",
    "- Check the types and properties of dataframes\n",
    "- Easily integrate with existing data pipelines via function decorators\n",
    "- Synthesize data from schema objects for property-based testing"
   ]
  },
  {
   "cell_type": "markdown",
   "id": "bf28d648",
   "metadata": {
    "slideshow": {
     "slide_type": "slide"
    },
    "tags": [
     "hide_output"
    ]
   },
   "source": [
    "#### Object-based API\n",
    "\n",
    "Defining a schema looks and feels like defining a pandas dataframe"
   ]
  },
  {
   "cell_type": "code",
   "execution_count": 74,
   "id": "da13accf",
   "metadata": {},
   "outputs": [],
   "source": [
    "import pandera as pa\n",
    "\n",
    "clean_data_schema = pa.DataFrameSchema(\n",
    "    columns={\n",
    "        \"continuous\": pa.Column(float, pa.Check.ge(0), nullable=True),\n",
    "        \"categorical\": pa.Column(str, pa.Check.isin([\"A\", \"B\", \"C\"]), nullable=True),\n",
    "    },\n",
    "    coerce=True,\n",
    ")"
   ]
  },
  {
   "cell_type": "markdown",
   "id": "ff08091b",
   "metadata": {
    "slideshow": {
     "slide_type": "fragment"
    }
   },
   "source": [
    "#### Class-based API\n",
    "\n",
    "Complex Types with Modern Python, Inspired by [pydantic](https://pydantic-docs.helpmanual.io/) and `dataclasses`"
   ]
  },
  {
   "cell_type": "code",
   "execution_count": 7,
   "id": "ae67b38c",
   "metadata": {
    "lines_to_next_cell": 1
   },
   "outputs": [],
   "source": [
    "from pandera.typing import Series\n",
    "\n",
    "class CleanData(pa.SchemaModel):\n",
    "    continuous: Series[float] = pa.Field(ge=0)\n",
    "    categorical: Series[str] = pa.Field(isin=[\"A\", \"B\", \"C\"])\n",
    "\n",
    "    class Config:\n",
    "        coerce = True"
   ]
  },
  {
   "cell_type": "markdown",
   "id": "00eb1470",
   "metadata": {
    "slideshow": {
     "slide_type": "notes"
    }
   },
   "source": [
    "Pandera comes in two flavors"
   ]
  },
  {
   "cell_type": "markdown",
   "id": "cf516aee",
   "metadata": {
    "slideshow": {
     "slide_type": "slide"
    }
   },
   "source": [
    "#### Pandera Raises Informative Errors\n",
    "\n",
    "Know Exactly What Went Wrong with Your Data"
   ]
  },
  {
   "cell_type": "code",
   "execution_count": 76,
   "id": "7ee7389e",
   "metadata": {
    "lines_to_next_cell": 2,
    "tags": []
   },
   "outputs": [
    {
     "data": {
      "text/html": [
       "<div>\n",
       "<style scoped>\n",
       "    .dataframe tbody tr th:only-of-type {\n",
       "        vertical-align: middle;\n",
       "    }\n",
       "\n",
       "    .dataframe tbody tr th {\n",
       "        vertical-align: top;\n",
       "    }\n",
       "\n",
       "    .dataframe thead th {\n",
       "        text-align: right;\n",
       "    }\n",
       "</style>\n",
       "<table border=\"1\" class=\"dataframe\">\n",
       "  <thead>\n",
       "    <tr style=\"text-align: right;\">\n",
       "      <th></th>\n",
       "      <th>schema_context</th>\n",
       "      <th>column</th>\n",
       "      <th>check</th>\n",
       "      <th>check_number</th>\n",
       "      <th>failure_case</th>\n",
       "      <th>index</th>\n",
       "    </tr>\n",
       "  </thead>\n",
       "  <tbody>\n",
       "    <tr>\n",
       "      <th>0</th>\n",
       "      <td>Column</td>\n",
       "      <td>continuous</td>\n",
       "      <td>greater_than_or_equal_to(0)</td>\n",
       "      <td>0</td>\n",
       "      <td>-1.1</td>\n",
       "      <td>0</td>\n",
       "    </tr>\n",
       "    <tr>\n",
       "      <th>1</th>\n",
       "      <td>Column</td>\n",
       "      <td>continuous</td>\n",
       "      <td>greater_than_or_equal_to(0)</td>\n",
       "      <td>0</td>\n",
       "      <td>-0.1</td>\n",
       "      <td>3</td>\n",
       "    </tr>\n",
       "    <tr>\n",
       "      <th>2</th>\n",
       "      <td>Column</td>\n",
       "      <td>categorical</td>\n",
       "      <td>isin({'C', 'A', 'B'})</td>\n",
       "      <td>0</td>\n",
       "      <td>Z</td>\n",
       "      <td>3</td>\n",
       "    </tr>\n",
       "    <tr>\n",
       "      <th>3</th>\n",
       "      <td>Column</td>\n",
       "      <td>categorical</td>\n",
       "      <td>isin({'C', 'A', 'B'})</td>\n",
       "      <td>0</td>\n",
       "      <td>X</td>\n",
       "      <td>4</td>\n",
       "    </tr>\n",
       "  </tbody>\n",
       "</table>\n",
       "</div>"
      ],
      "text/plain": [
       "  schema_context       column                        check  check_number  \\\n",
       "0         Column   continuous  greater_than_or_equal_to(0)             0   \n",
       "1         Column   continuous  greater_than_or_equal_to(0)             0   \n",
       "2         Column  categorical        isin({'C', 'A', 'B'})             0   \n",
       "3         Column  categorical        isin({'C', 'A', 'B'})             0   \n",
       "\n",
       "  failure_case  index  \n",
       "0         -1.1      0  \n",
       "1         -0.1      3  \n",
       "2            Z      3  \n",
       "3            X      4  "
      ]
     },
     "metadata": {},
     "output_type": "display_data"
    }
   ],
   "source": [
    "raw_data = pd.DataFrame({\n",
    "    \"continuous\": [\"-1.1\", \"4.0\", \"10.25\", \"-0.1\", \"5.2\"],\n",
    "    \"categorical\": [\"A\", \"B\", \"C\", \"Z\", \"X\"],\n",
    "})\n",
    "\n",
    "try:\n",
    "    CleanData.validate(raw_data, lazy=True)\n",
    "except pa.errors.SchemaErrors as exc:\n",
    "    display(exc.failure_cases)"
   ]
  },
  {
   "cell_type": "markdown",
   "id": "0fd4ef7d-5df3-4355-8b4a-193bebc6831e",
   "metadata": {
    "slideshow": {
     "slide_type": "slide"
    },
    "tags": []
   },
   "source": [
    "#### Meta: This presentation notebook is validated by pandera!"
   ]
  },
  {
   "cell_type": "markdown",
   "id": "7aef2ed1-856f-480c-8601-e284abb366fa",
   "metadata": {
    "tags": []
   },
   "source": [
    "![mindblown](https://media.giphy.com/media/xT0xeJpnrWC4XWblEk/giphy-downsized-large.gif)"
   ]
  },
  {
   "cell_type": "markdown",
   "id": "b89bbe28-7077-41c4-aa35-9cab99cea0d3",
   "metadata": {
    "slideshow": {
     "slide_type": "slide"
    }
   },
   "source": [
    "## 🚦 Guiding Principles\n",
    "\n",
    "### A Simple Example: Life After Pandera\n",
    "\n",
    "Let's define the types of the dataframes that we expect to see."
   ]
  },
  {
   "cell_type": "markdown",
   "id": "ed757f7b-cb3f-4d00-86d6-26959f8ef344",
   "metadata": {},
   "source": [
    "Here's `data_cleaner.py` again:"
   ]
  },
  {
   "cell_type": "code",
   "execution_count": 10,
   "id": "36b280b1",
   "metadata": {
    "lines_to_next_cell": 1
   },
   "outputs": [],
   "source": [
    "import pandera as pa\n",
    "from pandera.typing import DataFrame, Series\n",
    "\n",
    "class RawData(pa.SchemaModel):\n",
    "    continuous: Series[float]\n",
    "    categorical: Series[str]\n",
    "\n",
    "    class Config:\n",
    "        coerce = True\n",
    "\n",
    "\n",
    "class CleanData(RawData):\n",
    "    continuous = pa.Field(ge=0, nullable=True)\n",
    "    categorical = pa.Field(isin=[*\"ABC\"], nullable=True)"
   ]
  },
  {
   "cell_type": "markdown",
   "id": "1a166664-3241-413b-b005-efa29e32da59",
   "metadata": {
    "slideshow": {
     "slide_type": "slide"
    }
   },
   "source": [
    "#### Parse, then Validate\n",
    "\n",
    "Pandera guarantees that input and output dataframes fulfill the types and\n",
    "constraints as defined by type annotations"
   ]
  },
  {
   "cell_type": "code",
   "execution_count": 83,
   "id": "4ec9eac1-052c-4cca-8370-2ddde5bc7b80",
   "metadata": {},
   "outputs": [],
   "source": [
    "@pa.check_types\n",
    "def clean(raw_data: DataFrame[RawData]) -> DataFrame[CleanData]:\n",
    "    return raw_data.assign(\n",
    "        continuous=lambda _: _.continuous.mask(_.continuous < 0),\n",
    "        categorical=lambda _: _.categorical.mask(~_.categorical.isin([\"A\", \"B\", \"C\"]))\n",
    "    )"
   ]
  },
  {
   "cell_type": "code",
   "execution_count": 84,
   "id": "df9b85d2-2245-4550-8168-6052a7507474",
   "metadata": {},
   "outputs": [
    {
     "data": {
      "text/html": [
       "<div>\n",
       "<style scoped>\n",
       "    .dataframe tbody tr th:only-of-type {\n",
       "        vertical-align: middle;\n",
       "    }\n",
       "\n",
       "    .dataframe tbody tr th {\n",
       "        vertical-align: top;\n",
       "    }\n",
       "\n",
       "    .dataframe thead th {\n",
       "        text-align: right;\n",
       "    }\n",
       "</style>\n",
       "<table border=\"1\" class=\"dataframe\">\n",
       "  <thead>\n",
       "    <tr style=\"text-align: right;\">\n",
       "      <th></th>\n",
       "      <th>continuous</th>\n",
       "      <th>categorical</th>\n",
       "    </tr>\n",
       "  </thead>\n",
       "  <tbody>\n",
       "    <tr>\n",
       "      <th>0</th>\n",
       "      <td>NaN</td>\n",
       "      <td>A</td>\n",
       "    </tr>\n",
       "    <tr>\n",
       "      <th>1</th>\n",
       "      <td>4.00</td>\n",
       "      <td>B</td>\n",
       "    </tr>\n",
       "    <tr>\n",
       "      <th>2</th>\n",
       "      <td>10.25</td>\n",
       "      <td>C</td>\n",
       "    </tr>\n",
       "    <tr>\n",
       "      <th>3</th>\n",
       "      <td>NaN</td>\n",
       "      <td>NaN</td>\n",
       "    </tr>\n",
       "    <tr>\n",
       "      <th>4</th>\n",
       "      <td>5.20</td>\n",
       "      <td>NaN</td>\n",
       "    </tr>\n",
       "  </tbody>\n",
       "</table>\n",
       "</div>"
      ],
      "text/plain": [
       "   continuous categorical\n",
       "0         NaN           A\n",
       "1        4.00           B\n",
       "2       10.25           C\n",
       "3         NaN         NaN\n",
       "4        5.20         NaN"
      ]
     },
     "execution_count": 84,
     "metadata": {},
     "output_type": "execute_result"
    }
   ],
   "source": [
    "clean(raw_data)"
   ]
  },
  {
   "cell_type": "markdown",
   "id": "99a29bdc",
   "metadata": {
    "slideshow": {
     "slide_type": "slide"
    }
   },
   "source": [
    "`test_data_cleaner.py`"
   ]
  },
  {
   "cell_type": "code",
   "execution_count": 85,
   "id": "dccc77c2",
   "metadata": {},
   "outputs": [],
   "source": [
    "def test_clean():\n",
    "    # assumptions about valid data\n",
    "    mock_raw_data = pd.DataFrame({\"continuous\": [\"1.0\", \"-5.1\"], \"categorical\": [\"X\", \"A\"]})\n",
    "    \n",
    "    # the assertions about the resulting data reduces to an execution test!\n",
    "    clean(mock_raw_data)\n",
    "    \n",
    "    # assumptions about invalid data\n",
    "    with pytest.raises(pa.errors.SchemaError):\n",
    "        invalid_mock_raw_data = pd.DataFrame({\"categorical\": [\"A\"]})\n",
    "        clean(invalid_mock_raw_data)\n",
    "    print(\"tests pass! ✅\")"
   ]
  },
  {
   "cell_type": "code",
   "execution_count": 86,
   "id": "16f95ecc-571b-4560-aad7-23cca85a4325",
   "metadata": {
    "tags": []
   },
   "outputs": [
    {
     "name": "stdout",
     "output_type": "stream",
     "text": [
      "tests pass! ✅\n"
     ]
    }
   ],
   "source": [
    "test_clean()"
   ]
  },
  {
   "cell_type": "markdown",
   "id": "20c4385f-7659-44ed-8423-d74ef2b99fd7",
   "metadata": {
    "slideshow": {
     "slide_type": "slide"
    }
   },
   "source": [
    "#### Maximize Reusability and Adaptability\n",
    "\n",
    "Once you've defined a schema, you can import it in other parts of your code\n",
    "base, like your test suite!"
   ]
  },
  {
   "cell_type": "code",
   "execution_count": 87,
   "id": "a3781a1f-6c73-4b73-9e67-a2bd22124d27",
   "metadata": {},
   "outputs": [
    {
     "name": "stdout",
     "output_type": "stream",
     "text": [
      "tests pass! ✅\n"
     ]
    }
   ],
   "source": [
    "# data_cleaner.py\n",
    "def clean(raw_data: DataFrame[RawData]) -> DataFrame[CleanData]:\n",
    "    return raw_data.assign(\n",
    "        continuous=lambda _: _.continuous.mask(_.continuous < 0),\n",
    "        categorical=lambda _: _.categorical.mask(~_.categorical.isin([\"A\", \"B\", \"C\"]))\n",
    "    )\n",
    "\n",
    "# test_data_cleaner.py\n",
    "def test_clean():\n",
    "    # assumptions about valid data\n",
    "    mock_raw_data = RawData(pd.DataFrame({\"continuous\": [\"1.0\", \"-5.1\"], \"categorical\": [\"X\", \"A\"]}))\n",
    "    \n",
    "    # the assertions about the resulting data reduces to an execution test!\n",
    "    CleanData(clean(mock_raw_data))\n",
    "    \n",
    "    # assumptions about invalid data\n",
    "    with pytest.raises(pa.errors.SchemaError):\n",
    "        invalid_mock_raw_data = RawData(pd.DataFrame({\"categorical\": [\"A\"]}))\n",
    "        clean(invalid_mock_raw_data)\n",
    "    print(\"tests pass! ✅\")\n",
    "    \n",
    "test_clean()"
   ]
  },
  {
   "cell_type": "markdown",
   "id": "19f4dd7c-c010-4d7c-8a88-c7fd31fff1d4",
   "metadata": {
    "slideshow": {
     "slide_type": "slide"
    }
   },
   "source": [
    "You can even represent dataframe joins!"
   ]
  },
  {
   "cell_type": "code",
   "execution_count": 88,
   "id": "063d7469-0853-448e-8827-a2a0e2979e14",
   "metadata": {},
   "outputs": [
    {
     "data": {
      "text/html": [
       "<div>\n",
       "<style scoped>\n",
       "    .dataframe tbody tr th:only-of-type {\n",
       "        vertical-align: middle;\n",
       "    }\n",
       "\n",
       "    .dataframe tbody tr th {\n",
       "        vertical-align: top;\n",
       "    }\n",
       "\n",
       "    .dataframe thead th {\n",
       "        text-align: right;\n",
       "    }\n",
       "</style>\n",
       "<table border=\"1\" class=\"dataframe\">\n",
       "  <thead>\n",
       "    <tr style=\"text-align: right;\">\n",
       "      <th></th>\n",
       "      <th>continuous</th>\n",
       "      <th>categorical</th>\n",
       "      <th>discrete</th>\n",
       "    </tr>\n",
       "  </thead>\n",
       "  <tbody>\n",
       "    <tr>\n",
       "      <th>0</th>\n",
       "      <td>1.0</td>\n",
       "      <td>A</td>\n",
       "      <td>1</td>\n",
       "    </tr>\n",
       "  </tbody>\n",
       "</table>\n",
       "</div>"
      ],
      "text/plain": [
       "   continuous categorical  discrete\n",
       "0         1.0           A         1"
      ]
     },
     "execution_count": 88,
     "metadata": {},
     "output_type": "execute_result"
    }
   ],
   "source": [
    "class CleanData(RawData):\n",
    "    continuous = pa.Field(ge=0, nullable=True)\n",
    "    categorical = pa.Field(isin=[*\"ABC\"], nullable=True)\n",
    "    \n",
    "class SupplementaryData(pa.SchemaModel):\n",
    "    discrete: Series[int] = pa.Field(ge=0, nullable=True)\n",
    "        \n",
    "class JoinedData(CleanData, SupplementaryData): pass\n",
    "\n",
    "\n",
    "clean_data = pd.DataFrame({\"continuous\": [\"1.0\"], \"categorical\": [\"A\"]})\n",
    "supplementary_data = pd.DataFrame({\"discrete\": [1]})\n",
    "JoinedData(clean_data.join(supplementary_data))"
   ]
  },
  {
   "cell_type": "markdown",
   "id": "ca64ed9f-3dda-4ea5-8a17-a016260f0ad5",
   "metadata": {
    "slideshow": {
     "slide_type": "slide"
    }
   },
   "source": [
    "#### Bootstrap and Interoperate\n",
    "\n",
    "##### Infer a schema definition from reference data"
   ]
  },
  {
   "cell_type": "code",
   "execution_count": 89,
   "id": "571e9265-811f-4bb9-8fb6-c891e11f7eca",
   "metadata": {
    "tags": []
   },
   "outputs": [
    {
     "name": "stdout",
     "output_type": "stream",
     "text": [
      "<Schema DataFrameSchema(\n",
      "    columns={\n",
      "        'continuous': <Schema Column(name=continuous, type=DataType(int64))>\n",
      "        'categorical': <Schema Column(name=categorical, type=DataType(object))>\n",
      "    },\n",
      "    checks=[],\n",
      "    coerce=True,\n",
      "    dtype=None,\n",
      "    index=<Schema Index(name=None, type=DataType(int64))>,\n",
      "    strict=False\n",
      "    name=None,\n",
      "    ordered=False\n",
      ")>\n"
     ]
    }
   ],
   "source": [
    "clean_data = pd.DataFrame({\n",
    "    \"continuous\": range(100),\n",
    "    \"categorical\": [*\"ABCAB\" * 20]\n",
    "})\n",
    "\n",
    "schema = pa.infer_schema(clean_data)\n",
    "print(schema)"
   ]
  },
  {
   "cell_type": "markdown",
   "id": "30a6c44a-ea35-4952-aa0d-176c31c50b7b",
   "metadata": {
    "slideshow": {
     "slide_type": "slide"
    }
   },
   "source": [
    "##### Write it to/from a yaml file"
   ]
  },
  {
   "cell_type": "code",
   "execution_count": 21,
   "id": "e2267d1e-cdc6-48b4-9f4a-1e6852a29035",
   "metadata": {
    "collapsed": true,
    "jupyter": {
     "outputs_hidden": true
    },
    "tags": []
   },
   "outputs": [
    {
     "name": "stdout",
     "output_type": "stream",
     "text": [
      "schema_type: dataframe\n",
      "version: 0.8.0\n",
      "columns:\n",
      "  continuous:\n",
      "    dtype: int64\n",
      "    nullable: false\n",
      "    checks:\n",
      "      greater_than_or_equal_to: 0.0\n",
      "      less_than_or_equal_to: 99.0\n",
      "    unique: false\n",
      "    coerce: false\n",
      "    required: true\n",
      "    regex: false\n",
      "  categorical:\n",
      "    dtype: object\n",
      "    nullable: false\n",
      "    checks: null\n",
      "    unique: false\n",
      "    coerce: false\n",
      "    required: true\n",
      "    regex: false\n",
      "checks: null\n",
      "index:\n",
      "- dtype: int64\n",
      "  nullable: false\n",
      "  checks:\n",
      "    greater_than_or_equal_to: 0.0\n",
      "    less_than_or_equal_to: 99.0\n",
      "  name: null\n",
      "  coerce: false\n",
      "coerce: true\n",
      "strict: false\n",
      "unique: null\n",
      "\n"
     ]
    }
   ],
   "source": [
    "yaml_schema = schema.to_yaml()\n",
    "print(yaml_schema)"
   ]
  },
  {
   "cell_type": "code",
   "execution_count": 22,
   "id": "75b13103-2e44-4ba4-a0af-7cfc3ec1f72c",
   "metadata": {
    "collapsed": true,
    "jupyter": {
     "outputs_hidden": true
    },
    "tags": []
   },
   "outputs": [
    {
     "name": "stdout",
     "output_type": "stream",
     "text": [
      "<Schema DataFrameSchema(\n",
      "    columns={\n",
      "        'continuous': <Schema Column(name=continuous, type=DataType(int64))>\n",
      "        'categorical': <Schema Column(name=categorical, type=DataType(object))>\n",
      "    },\n",
      "    checks=[],\n",
      "    coerce=True,\n",
      "    dtype=None,\n",
      "    index=<Schema Index(name=None, type=DataType(int64))>,\n",
      "    strict=False\n",
      "    name=None,\n",
      "    ordered=False\n",
      ")>\n"
     ]
    }
   ],
   "source": [
    "print(schema.from_yaml(yaml_schema))"
   ]
  },
  {
   "cell_type": "markdown",
   "id": "d3885b04-ff72-461d-9722-b8191a4ac460",
   "metadata": {
    "slideshow": {
     "slide_type": "slide"
    }
   },
   "source": [
    "##### Write it to a python script for further refinement using `schema.to_script()`"
   ]
  },
  {
   "cell_type": "code",
   "execution_count": 23,
   "id": "696c6389-1fdf-4ea0-a6b6-bca8d2c89541",
   "metadata": {
    "collapsed": true,
    "jupyter": {
     "outputs_hidden": true
    },
    "tags": [
     "hide_input"
    ]
   },
   "outputs": [
    {
     "data": {
      "text/markdown": [
       "\n",
       "```python\n",
       "from pandera import DataFrameSchema, Column, Check, Index, MultiIndex\n",
       "\n",
       "schema = DataFrameSchema(\n",
       "    columns={\n",
       "        \"continuous\": Column(\n",
       "            dtype=pandera.engines.numpy_engine.Int64,\n",
       "            checks=[\n",
       "                Check.greater_than_or_equal_to(min_value=0.0),\n",
       "                Check.less_than_or_equal_to(max_value=99.0),\n",
       "            ],\n",
       "            nullable=False,\n",
       "            unique=False,\n",
       "            coerce=False,\n",
       "            required=True,\n",
       "            regex=False,\n",
       "        ),\n",
       "        \"categorical\": Column(\n",
       "            dtype=pandera.engines.numpy_engine.Object,\n",
       "            checks=None,\n",
       "            nullable=False,\n",
       "            unique=False,\n",
       "            coerce=False,\n",
       "            required=True,\n",
       "            regex=False,\n",
       "        ),\n",
       "    },\n",
       "    index=Index(\n",
       "        dtype=pandera.engines.numpy_engine.Int64,\n",
       "        checks=[\n",
       "            Check.greater_than_or_equal_to(min_value=0.0),\n",
       "            Check.less_than_or_equal_to(max_value=99.0),\n",
       "        ],\n",
       "        nullable=False,\n",
       "        coerce=False,\n",
       "        name=None,\n",
       "    ),\n",
       "    coerce=True,\n",
       "    strict=False,\n",
       "    name=None,\n",
       ")\n",
       "\n",
       "```\n"
      ],
      "text/plain": [
       "<IPython.core.display.Markdown object>"
      ]
     },
     "metadata": {},
     "output_type": "display_data"
    }
   ],
   "source": [
    "from IPython.display import display, Markdown\n",
    "display(Markdown(\n",
    "f\"\"\"\n",
    "```python\n",
    "{schema.to_script()}\n",
    "```\n",
    "\"\"\"\n",
    "))"
   ]
  },
  {
   "cell_type": "markdown",
   "id": "f5ab2945-d354-4b91-9dba-fb00b74a5d31",
   "metadata": {
    "slideshow": {
     "slide_type": "slide"
    }
   },
   "source": [
    "##### Port schema from a [`frictionless`](https://specs.frictionlessdata.io/table-schema/) table schema"
   ]
  },
  {
   "cell_type": "code",
   "execution_count": 24,
   "id": "56268c2e-39dd-4ae8-a8e9-a00e4c4ce63e",
   "metadata": {},
   "outputs": [
    {
     "name": "stdout",
     "output_type": "stream",
     "text": [
      "<Schema DataFrameSchema(\n",
      "    columns={\n",
      "        'continuous': <Schema Column(name=continuous, type=DataType(float64))>\n",
      "        'categorical': <Schema Column(name=categorical, type=DataType(string[python]))>\n",
      "    },\n",
      "    checks=[],\n",
      "    coerce=True,\n",
      "    dtype=None,\n",
      "    index=None,\n",
      "    strict=True\n",
      "    name=None,\n",
      "    ordered=False\n",
      ")>\n"
     ]
    }
   ],
   "source": [
    "from pandera.io import from_frictionless_schema\n",
    "\n",
    "frictionless_schema = {\n",
    "    \"fields\": [\n",
    "        {\n",
    "            \"name\": \"continuous\",\n",
    "            \"type\": \"number\",\n",
    "            \"constraints\": {\"minimum\": 0}\n",
    "        },\n",
    "        {\n",
    "            \"name\": \"categorical\",\n",
    "            \"type\": \"string\",\n",
    "            \"constraints\": {\"isin\": [\"A\", \"B\", \"C\"]}\n",
    "        },\n",
    "    ],\n",
    "}\n",
    "schema = from_frictionless_schema(frictionless_schema)\n",
    "print(schema)"
   ]
  },
  {
   "cell_type": "markdown",
   "id": "cb496445-48e1-4e3c-8b1b-5ba5de1087c3",
   "metadata": {
    "slideshow": {
     "slide_type": "slide"
    }
   },
   "source": [
    "#### Facilitate Property-based Testing with Generative Schemas\n",
    "\n",
    "Generate valid examples under the schema's constraints"
   ]
  },
  {
   "cell_type": "code",
   "execution_count": 41,
   "id": "5ca8d2a3-9b28-4133-b4f9-2574b6084b5e",
   "metadata": {},
   "outputs": [
    {
     "data": {
      "text/html": [
       "<div>\n",
       "<style scoped>\n",
       "    .dataframe tbody tr th:only-of-type {\n",
       "        vertical-align: middle;\n",
       "    }\n",
       "\n",
       "    .dataframe tbody tr th {\n",
       "        vertical-align: top;\n",
       "    }\n",
       "\n",
       "    .dataframe thead th {\n",
       "        text-align: right;\n",
       "    }\n",
       "</style>\n",
       "<table border=\"1\" class=\"dataframe\">\n",
       "  <thead>\n",
       "    <tr style=\"text-align: right;\">\n",
       "      <th></th>\n",
       "      <th>continuous</th>\n",
       "      <th>categorical</th>\n",
       "    </tr>\n",
       "  </thead>\n",
       "  <tbody>\n",
       "    <tr>\n",
       "      <th>0</th>\n",
       "      <td>3.333333e-01</td>\n",
       "      <td>󔉻𒗂񀐘Ë</td>\n",
       "    </tr>\n",
       "    <tr>\n",
       "      <th>1</th>\n",
       "      <td>2.873772e+16</td>\n",
       "      <td>úg</td>\n",
       "    </tr>\n",
       "    <tr>\n",
       "      <th>2</th>\n",
       "      <td>9.007199e+15</td>\n",
       "      <td>\u001a񊝣F򨰧</td>\n",
       "    </tr>\n",
       "  </tbody>\n",
       "</table>\n",
       "</div>"
      ],
      "text/plain": [
       "     continuous categorical\n",
       "0  3.333333e-01        󔉻𒗂񀐘Ë\n",
       "1  2.873772e+16          úg\n",
       "2  9.007199e+15       \u001a񊝣F򨰧"
      ]
     },
     "execution_count": 41,
     "metadata": {},
     "output_type": "execute_result"
    }
   ],
   "source": [
    "RawData.example(size=3)"
   ]
  },
  {
   "cell_type": "code",
   "execution_count": 58,
   "id": "13d0eb35-aab3-4eda-863d-aa5981c24c3b",
   "metadata": {},
   "outputs": [
    {
     "data": {
      "text/html": [
       "<div>\n",
       "<style scoped>\n",
       "    .dataframe tbody tr th:only-of-type {\n",
       "        vertical-align: middle;\n",
       "    }\n",
       "\n",
       "    .dataframe tbody tr th {\n",
       "        vertical-align: top;\n",
       "    }\n",
       "\n",
       "    .dataframe thead th {\n",
       "        text-align: right;\n",
       "    }\n",
       "</style>\n",
       "<table border=\"1\" class=\"dataframe\">\n",
       "  <thead>\n",
       "    <tr style=\"text-align: right;\">\n",
       "      <th></th>\n",
       "      <th>continuous</th>\n",
       "      <th>categorical</th>\n",
       "    </tr>\n",
       "  </thead>\n",
       "  <tbody>\n",
       "    <tr>\n",
       "      <th>0</th>\n",
       "      <td>5.700579e+16</td>\n",
       "      <td>A</td>\n",
       "    </tr>\n",
       "    <tr>\n",
       "      <th>1</th>\n",
       "      <td>1.192093e-07</td>\n",
       "      <td>C</td>\n",
       "    </tr>\n",
       "    <tr>\n",
       "      <th>2</th>\n",
       "      <td>7.140009e+247</td>\n",
       "      <td>C</td>\n",
       "    </tr>\n",
       "  </tbody>\n",
       "</table>\n",
       "</div>"
      ],
      "text/plain": [
       "      continuous categorical\n",
       "0   5.700579e+16           A\n",
       "1   1.192093e-07           C\n",
       "2  7.140009e+247           C"
      ]
     },
     "execution_count": 58,
     "metadata": {},
     "output_type": "execute_result"
    }
   ],
   "source": [
    "CleanData.example(size=3)"
   ]
  },
  {
   "cell_type": "code",
   "execution_count": 59,
   "id": "cd1048c3-3d69-44e4-9a03-5f7789da087e",
   "metadata": {
    "slideshow": {
     "slide_type": "slide"
    }
   },
   "outputs": [
    {
     "name": "stdout",
     "output_type": "stream",
     "text": [
      "tests pass! ✅\n"
     ]
    }
   ],
   "source": [
    "# Transform your unit test suite!\n",
    "\n",
    "from hypothesis import given\n",
    "\n",
    "\n",
    "@pa.check_types\n",
    "def clean(raw_data: DataFrame[RawData]) -> DataFrame[CleanData]:\n",
    "    return raw_data.assign(\n",
    "        continuous=lambda _: _.continuous.mask(_.continuous < 0),\n",
    "        categorical=lambda _: _.categorical.mask(~_.categorical.isin([\"A\", \"B\", \"C\"]))\n",
    "    )\n",
    "\n",
    "@given(RawData.strategy(size=5))\n",
    "def test_clean(mock_raw_data):\n",
    "    clean(mock_raw_data)\n",
    "    \n",
    "    \n",
    "class InvalidData(pa.SchemaModel):\n",
    "    foo: Series[int]\n",
    "    \n",
    "\n",
    "@given(InvalidData.strategy(size=5))\n",
    "def test_clean_errors(mock_invalid_data):\n",
    "    with pytest.raises(pa.errors.SchemaError):\n",
    "        clean(mock_invalid_data)\n",
    "    \n",
    "\n",
    "def run_test_suite():\n",
    "    test_clean()\n",
    "    test_clean_errors()\n",
    "    print(\"tests pass! ✅\")\n",
    "    \n",
    "    \n",
    "run_test_suite()"
   ]
  },
  {
   "cell_type": "markdown",
   "id": "2809b447",
   "metadata": {
    "slideshow": {
     "slide_type": "slide"
    }
   },
   "source": [
    "## 🏔 Scaling Pandera\n",
    "\n",
    "##### 🚧 _beta_ 🏗\n",
    "\n",
    "In `0.8.0`, pandera supports `dask`, `modin`, and `koalas` dataframes to scale\n",
    "data validation to big data."
   ]
  },
  {
   "cell_type": "code",
   "execution_count": 60,
   "id": "fae780b3-3f3c-498c-86d8-14b68f8e05ac",
   "metadata": {},
   "outputs": [
    {
     "data": {
      "text/html": [
       "<div>\n",
       "<style scoped>\n",
       "    .dataframe tbody tr th:only-of-type {\n",
       "        vertical-align: middle;\n",
       "    }\n",
       "\n",
       "    .dataframe tbody tr th {\n",
       "        vertical-align: top;\n",
       "    }\n",
       "\n",
       "    .dataframe thead th {\n",
       "        text-align: right;\n",
       "    }\n",
       "</style>\n",
       "<table border=\"1\" class=\"dataframe\">\n",
       "  <thead>\n",
       "    <tr style=\"text-align: right;\">\n",
       "      <th></th>\n",
       "      <th>continuous</th>\n",
       "      <th>categorical</th>\n",
       "    </tr>\n",
       "  </thead>\n",
       "  <tbody>\n",
       "    <tr>\n",
       "      <th>0</th>\n",
       "      <td>-1.1</td>\n",
       "      <td>A</td>\n",
       "    </tr>\n",
       "    <tr>\n",
       "      <th>1</th>\n",
       "      <td>4.0</td>\n",
       "      <td>B</td>\n",
       "    </tr>\n",
       "    <tr>\n",
       "      <th>2</th>\n",
       "      <td>10.25</td>\n",
       "      <td>C</td>\n",
       "    </tr>\n",
       "    <tr>\n",
       "      <th>3</th>\n",
       "      <td>-0.1</td>\n",
       "      <td>Z</td>\n",
       "    </tr>\n",
       "    <tr>\n",
       "      <th>4</th>\n",
       "      <td>5.2</td>\n",
       "      <td>X</td>\n",
       "    </tr>\n",
       "  </tbody>\n",
       "</table>\n",
       "</div>"
      ],
      "text/plain": [
       "  continuous categorical\n",
       "0       -1.1           A\n",
       "1        4.0           B\n",
       "2      10.25           C\n",
       "3       -0.1           Z\n",
       "4        5.2           X"
      ]
     },
     "metadata": {},
     "output_type": "display_data"
    }
   ],
   "source": [
    "display(raw_data)"
   ]
  },
  {
   "cell_type": "markdown",
   "id": "47676e70-51b2-43f8-9412-6a84a8149704",
   "metadata": {
    "slideshow": {
     "slide_type": "slide"
    }
   },
   "source": [
    "#### Dask"
   ]
  },
  {
   "cell_type": "code",
   "execution_count": 61,
   "id": "9b090516-93d8-4642-82c2-2103ad339ae1",
   "metadata": {},
   "outputs": [
    {
     "name": "stdout",
     "output_type": "stream",
     "text": [
      "  schema_context       column                        check  check_number  \\\n",
      "0         Column   continuous  greater_than_or_equal_to(0)             0   \n",
      "1         Column   continuous  greater_than_or_equal_to(0)             0   \n",
      "2         Column  categorical        isin({'C', 'A', 'B'})             0   \n",
      "3         Column  categorical        isin({'C', 'A', 'B'})             0   \n",
      "\n",
      "  failure_case  index  \n",
      "0         -1.1      0  \n",
      "1         -0.1      3  \n",
      "2            Z      3  \n",
      "3            X      4  \n"
     ]
    }
   ],
   "source": [
    "import dask.dataframe as dd\n",
    "\n",
    "dask_dataframe = dd.from_pandas(raw_data, npartitions=1)\n",
    "\n",
    "try:\n",
    "    CleanData(dask_dataframe, lazy=True).compute()\n",
    "except pa.errors.SchemaErrors as exc:\n",
    "    print(exc.failure_cases)"
   ]
  },
  {
   "cell_type": "markdown",
   "id": "000c939d-506c-433e-8854-bd87f26d9117",
   "metadata": {
    "slideshow": {
     "slide_type": "slide"
    }
   },
   "source": [
    "#### Koalas"
   ]
  },
  {
   "cell_type": "code",
   "execution_count": 62,
   "id": "4417df3b-c305-4511-838a-fe8fb58f2edc",
   "metadata": {},
   "outputs": [
    {
     "name": "stdout",
     "output_type": "stream",
     "text": [
      "  schema_context       column                        check  check_number  \\\n",
      "0         Column   continuous  greater_than_or_equal_to(0)             0   \n",
      "1         Column  categorical        isin({'C', 'A', 'B'})             0   \n",
      "\n",
      "                                        failure_case index  \n",
      "0  AnalysisException(\"Resolved attribute(s) conti...  None  \n",
      "1  AnalysisException(\"Resolved attribute(s) categ...  None  \n"
     ]
    }
   ],
   "source": [
    "import databricks.koalas as ks\n",
    "\n",
    "koalas_dataframe = ks.DataFrame(raw_data)\n",
    "\n",
    "try:\n",
    "    CleanData(koalas_dataframe, lazy=True).compute()\n",
    "except pa.errors.SchemaErrors as exc:\n",
    "    print(exc.failure_cases)"
   ]
  },
  {
   "cell_type": "markdown",
   "id": "07ecdee5-26a1-4ebc-920d-6cdc2664b2ac",
   "metadata": {
    "slideshow": {
     "slide_type": "slide"
    }
   },
   "source": [
    "#### Modin"
   ]
  },
  {
   "cell_type": "code",
   "execution_count": 64,
   "id": "2f6b1374-cce9-4eb0-b5ae-69e50a9564c7",
   "metadata": {},
   "outputs": [
    {
     "name": "stdout",
     "output_type": "stream",
     "text": [
      "  schema_context       column                        check  check_number  \\\n",
      "0         Column   continuous  greater_than_or_equal_to(0)             0   \n",
      "1         Column   continuous  greater_than_or_equal_to(0)             0   \n",
      "2         Column  categorical        isin({'C', 'A', 'B'})             0   \n",
      "3         Column  categorical        isin({'C', 'A', 'B'})             0   \n",
      "\n",
      "  failure_case  index  \n",
      "0         -1.1      0  \n",
      "1         -0.1      3  \n",
      "2            Z      3  \n",
      "3            X      4  \n"
     ]
    }
   ],
   "source": [
    "import modin.pandas as mpd\n",
    "\n",
    "modin_dataframe = mpd.DataFrame(raw_data)\n",
    "\n",
    "try:\n",
    "    CleanData(modin_dataframe, lazy=True).compute()\n",
    "except pa.errors.SchemaErrors as exc:\n",
    "    print(exc.failure_cases)"
   ]
  },
  {
   "cell_type": "markdown",
   "id": "6e64bca3",
   "metadata": {
    "slideshow": {
     "slide_type": "slide"
    }
   },
   "source": [
    "## ⌨️ Statistical Typing"
   ]
  },
  {
   "cell_type": "markdown",
   "id": "0309faf2-8645-4169-8f04-0e26b2df851a",
   "metadata": {},
   "source": [
    "#### Type systems help programmers reason about and write more robust code"
   ]
  },
  {
   "cell_type": "code",
   "execution_count": 65,
   "id": "eb27f52a-55e1-4a3f-af24-96788aff41b7",
   "metadata": {
    "slideshow": {
     "slide_type": "fragment"
    }
   },
   "outputs": [],
   "source": [
    "from typing import Union\n",
    "\n",
    "Number = Union[int, float]\n",
    "\n",
    "def add_and_double(x: Number, y: Number) -> Number:\n",
    "    ..."
   ]
  },
  {
   "cell_type": "markdown",
   "id": "7b9952be-3fdb-423a-8eff-2958192e3b06",
   "metadata": {
    "slideshow": {
     "slide_type": "fragment"
    }
   },
   "source": [
    "#### Can you predict the outcome of these function calls?"
   ]
  },
  {
   "cell_type": "code",
   "execution_count": 66,
   "id": "66d8bdd5-f260-43cb-b8d4-532d83b88963",
   "metadata": {},
   "outputs": [],
   "source": [
    "add_and_double(5, 2)\n",
    "add_and_double(5, \"hello\")\n",
    "add_and_double(11.5, -1.5)"
   ]
  },
  {
   "cell_type": "markdown",
   "id": "eb7b2f6f-d235-4a7a-8441-ecc3821b2bec",
   "metadata": {
    "slideshow": {
     "slide_type": "slide"
    }
   },
   "source": [
    "#### Similarly..."
   ]
  },
  {
   "cell_type": "code",
   "execution_count": 67,
   "id": "e8cedf9c-912a-4f60-927e-29e8cb0bb188",
   "metadata": {},
   "outputs": [],
   "source": [
    "import pandera as pa\n",
    "from pandera.typing import DataFrame, Series\n",
    "\n",
    "class Inputs(pa.SchemaModel):\n",
    "    x: Series[int]\n",
    "    y: Series[int]\n",
    "\n",
    "    class Config:\n",
    "        coerce = True\n",
    "\n",
    "\n",
    "class Outputs(Inputs):\n",
    "    z: Series[int]\n",
    "        \n",
    "    @pa.dataframe_check\n",
    "    def custom_check(cls, df: DataFrame) -> Series:\n",
    "        return df[\"z\"] == (df[\"x\"] + df[\"y\"]) * 2\n",
    "    \n",
    "    \n",
    "@pa.check_types\n",
    "def add_and_double(raw_data: DataFrame[Inputs]) -> DataFrame[Outputs]:\n",
    "    ..."
   ]
  },
  {
   "cell_type": "markdown",
   "id": "2da1d83a",
   "metadata": {
    "slideshow": {
     "slide_type": "slide"
    }
   },
   "source": [
    "### Pandera is a Type System Geared Towards Data Science and Machine Learning"
   ]
  },
  {
   "cell_type": "markdown",
   "id": "4664dd76",
   "metadata": {
    "slideshow": {
     "slide_type": "fragment"
    }
   },
   "source": [
    "It provides a flexible and expressive API for defining types for dataframes."
   ]
  },
  {
   "cell_type": "markdown",
   "id": "6dfae488-a5eb-4a16-90c4-29f988f5dfde",
   "metadata": {
    "slideshow": {
     "slide_type": "fragment"
    }
   },
   "source": [
    "This enables a more intuitive way of validating not only data, but also the functions that produce those data."
   ]
  },
  {
   "cell_type": "markdown",
   "id": "262b5e18-0812-46e4-8569-63b0b64f24c3",
   "metadata": {
    "slideshow": {
     "slide_type": "slide"
    }
   },
   "source": [
    "## 🛣 Future Roadmap\n",
    "\n",
    "- Add support for other dataframe-like libraries, e.g: `pyarrow`, `xarray`, `polars`, `vaex`, `cudf`, etc.\n",
    "- Improve interoperability and integrations with data ecosystem, e.g. `pandas-profiling`, `fastapi`, `json-schema`\n",
    "- Implement CLI and `pytest-pandera` plugin for data pipeline profiling and reporting"
   ]
  },
  {
   "cell_type": "markdown",
   "id": "c6ca4e1b",
   "metadata": {
    "slideshow": {
     "slide_type": "slide"
    }
   },
   "source": [
    "# Where to Learn More\n",
    "\n",
    "- **Pycon [2021]** - Statistical Typing: A Runtime TypingSystem for Data Science and Machine Learning\n",
    "  - video: https://youtu.be/PI5UmKi14cM\n",
    "- **Scipy [2020]** - Statistical Data Validation of Pandas Dataframes\n",
    "  - video: https://youtu.be/PxTLD-ueNd4\n",
    "  - talk: https://conference.scipy.org/proceedings/scipy2020/pdfs/niels_bantilan.pdf\n",
    "- **Pandera Blog [2020]**: https://blog.pandera.ci/statistical%20typing/unit%20testing/2020/12/26/statistical-typing.html\n",
    "- **PyOpenSci Blog [2019]**: https://www.pyopensci.org/blog/pandera-python-pandas-dataframe-validation\n",
    "- **Personal Blog [2018]**: https://cosmicbboy.github.io/2018/12/28/validating-pandas-dataframes.html"
   ]
  },
  {
   "cell_type": "markdown",
   "id": "0b8c7264",
   "metadata": {
    "slideshow": {
     "slide_type": "slide"
    }
   },
   "source": [
    "# Join the Community!\n",
    "\n",
    "![badge](https://img.shields.io/github/stars/pandera-dev/pandera?style=social)\n",
    "[![badge](https://img.shields.io/pypi/pyversions/pandera.svg)](https://pypi.python.org/pypi/pandera/)\n",
    "[![badge](https://img.shields.io/pypi/v/pandera.svg)](https://pypi.org/project/pandera/)\n",
    "![badge](https://img.shields.io/github/contributors/pandera-dev/pandera)\n",
    "[![badge](https://pepy.tech/badge/pandera)](https://pepy.tech/project/pandera)\n",
    "[![badge](https://pepy.tech/badge/pandera/month)](https://pepy.tech/project/pandera)\n",
    "[![badge](https://img.shields.io/badge/discord-chat-purple?color=%235765F2&label=discord&logo=discord)](https://discord.gg/vyanhWuaKB)\n",
    "\n",
    "\n",
    "- **Twitter**: [@cosmicbboy](https://twitter.com/cosmicBboy)\n",
    "- **Discord**: https://discord.gg/vyanhWuaKB\n",
    "- **Email**: [niels.bantilan@gmail.com](mailto:niels.bantilan@gmail.com)\n",
    "- **Repo**: https://github.com/pandera-dev/pandera\n",
    "- **Docs**: https://pandera.readthedocs.io\n",
    "- **Contributing Guide**: https://pandera.readthedocs.io/en/stable/CONTRIBUTING.html"
   ]
  }
 ],
 "metadata": {
  "jupytext": {
   "encoding": "# -*- coding: utf-8 -*-",
   "formats": "ipynb,py:percent"
  },
  "kernelspec": {
   "display_name": "pandera-presentations",
   "language": "python",
   "name": "pandera-presentations"
  },
  "language_info": {
   "codemirror_mode": {
    "name": "ipython",
    "version": 3
   },
   "file_extension": ".py",
   "mimetype": "text/x-python",
   "name": "python",
   "nbconvert_exporter": "python",
   "pygments_lexer": "ipython3",
   "version": "3.9.2"
  }
 },
 "nbformat": 4,
 "nbformat_minor": 5
}
