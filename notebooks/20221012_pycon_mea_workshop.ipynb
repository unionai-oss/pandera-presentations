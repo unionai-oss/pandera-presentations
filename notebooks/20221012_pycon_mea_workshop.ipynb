{
 "cells": [
  {
   "cell_type": "markdown",
   "id": "7d43591d",
   "metadata": {
    "slideshow": {
     "slide_type": "slide"
    }
   },
   "source": [
    "# Pandera Workshop: Making Data Processing Pipelines more Readable and Robust\n",
    "\n",
    "*Global DevSlam x Pycon MEA 2022*"
   ]
  },
  {
   "cell_type": "markdown",
   "id": "e802c7e9",
   "metadata": {
    "slideshow": {
     "slide_type": "slide"
    }
   },
   "source": [
    "# Outline 📝\n",
    "\n",
    "- 🤷‍♂️ Why Should I Validate Data?\n",
    "- 🤔 What's Data Testing, and How Can I Put it Into Practice?\n",
    "- ✅ Pandera Quickstart: create statistical types for your DataFrames\n",
    "- ⌨️ Statistical types: A typing paradigm for DS/ML\n",
    "- 📊 Example 1: Validate your Data analysis\n",
    "- 🤖 Example 2: Validate your Machine Learning Pipeline\n",
    "- ⭐️ Conclusion: How can I start using Pandera in my work?"
   ]
  },
  {
   "cell_type": "markdown",
   "id": "b8f09e7d",
   "metadata": {},
   "source": [
    "### Setup"
   ]
  },
  {
   "cell_type": "code",
   "execution_count": 5,
   "id": "a27a5faf",
   "metadata": {},
   "outputs": [],
   "source": [
    "%%capture\n",
    "!pip install 'pandera[all]'"
   ]
  },
  {
   "cell_type": "code",
   "execution_count": 1,
   "id": "64839fc8",
   "metadata": {},
   "outputs": [],
   "source": [
    "import warnings\n",
    "from hypothesis.errors import HypothesisWarning\n",
    "\n",
    "from IPython.display import display, Markdown\n",
    "\n",
    "warnings.filterwarnings(\"ignore\", category=HypothesisWarning)\n",
    "warnings.filterwarnings(\"ignore\", category=FutureWarning)"
   ]
  },
  {
   "cell_type": "markdown",
   "id": "ac63cc1d",
   "metadata": {
    "slideshow": {
     "slide_type": "slide"
    }
   },
   "source": [
    "### Where's the Code?\n",
    "\n",
    "📓 **Notebook**: https://github.com/pandera-dev/pandera-presentations/blob/master/notebooks/20221012_pycon_mea_workshop.ipynb"
   ]
  },
  {
   "cell_type": "markdown",
   "id": "1bd60f9a",
   "metadata": {
    "slideshow": {
     "slide_type": "slide"
    }
   },
   "source": [
    "# 🤷‍♂️ Why Should I Validate Data?\n",
    "\n",
    "- 🐞 It can be difficult to reason about and debug data processing pipelines.\n",
    "- ⚠️ It's critical to ensuring data quality in many contexts especially when the end product informs business decisions, supports scientific findings, or generates predictions in a production setting.\n",
    "- 📊 Everyone has a personal relationship with their dataframes."
   ]
  },
  {
   "cell_type": "markdown",
   "id": "6d697cc2",
   "metadata": {
    "slideshow": {
     "slide_type": "slide"
    }
   },
   "source": [
    "# 🤔 What's Data Testing"
   ]
  },
  {
   "cell_type": "markdown",
   "id": "c1d4f9a7",
   "metadata": {
    "slideshow": {
     "slide_type": "slide"
    }
   },
   "source": [
    "> **Data validation:** The act of falsifying data against explicit assumptions for some downstream purpose, like\n",
    "> analysis, modeling, and visualization.\n",
    "\n",
    "> **Data Testing:** Validating not only real data, but also the functions that produce them."
   ]
  },
  {
   "cell_type": "markdown",
   "id": "f66e29a4",
   "metadata": {
    "slideshow": {
     "slide_type": "slide"
    }
   },
   "source": [
    "# ✅ Pandera\n",
    "\n",
    "#### A data testing and statistical typing library for DS/ML-oriented data containers\n",
    "\n",
    "- Check the types and properties of dataframes\n",
    "- Easily integrate with existing data pipelines via function decorators\n",
    "- Synthesize data from schema objects for property-based testing"
   ]
  },
  {
   "cell_type": "markdown",
   "id": "065c36bf",
   "metadata": {
    "slideshow": {
     "slide_type": "slide"
    }
   },
   "source": [
    "### Pandera Comes in Two Flavors\n",
    "\n",
    "#### Object-based API\n",
    "\n",
    "Defining a schema looks and feels like defining a pandas dataframe"
   ]
  },
  {
   "cell_type": "code",
   "execution_count": 2,
   "id": "b47e7923",
   "metadata": {},
   "outputs": [],
   "source": [
    "import pandera as pa\n",
    "\n",
    "schema = pa.DataFrameSchema(\n",
    "    columns={\n",
    "        \"item\": pa.Column(str, pa.Check.isin([\"apple\", \"orange\"])),\n",
    "        \"price\": pa.Column(float, pa.Check.ge(0)),\n",
    "    },\n",
    "    coerce=True,\n",
    ")"
   ]
  },
  {
   "cell_type": "markdown",
   "id": "72cb4b83",
   "metadata": {
    "slideshow": {
     "slide_type": "fragment"
    }
   },
   "source": [
    "#### Class-based API\n",
    "\n",
    "Define complex types with modern Python, inspired by [pydantic](https://pydantic-docs.helpmanual.io/) and `dataclasses`"
   ]
  },
  {
   "cell_type": "code",
   "execution_count": 3,
   "id": "a50d2b50",
   "metadata": {
    "lines_to_next_cell": 1
   },
   "outputs": [],
   "source": [
    "from pandera.typing import DataFrame, Series\n",
    "\n",
    "class Schema(pa.SchemaModel):\n",
    "    item: Series[str] = pa.Field(isin=[\"apple\", \"orange\"])\n",
    "    price: Series[float] = pa.Field(gt=0)\n",
    "\n",
    "    class Config:\n",
    "        coerce = True"
   ]
  },
  {
   "cell_type": "markdown",
   "id": "d16fec3c",
   "metadata": {
    "slideshow": {
     "slide_type": "slide"
    }
   },
   "source": [
    "#### Pandera Raises Informative Errors\n",
    "\n",
    "With valid data, pandera simply passes the data through:"
   ]
  },
  {
   "cell_type": "code",
   "execution_count": 4,
   "id": "190964a0",
   "metadata": {},
   "outputs": [
    {
     "data": {
      "text/html": [
       "<div>\n",
       "<style scoped>\n",
       "    .dataframe tbody tr th:only-of-type {\n",
       "        vertical-align: middle;\n",
       "    }\n",
       "\n",
       "    .dataframe tbody tr th {\n",
       "        vertical-align: top;\n",
       "    }\n",
       "\n",
       "    .dataframe thead th {\n",
       "        text-align: right;\n",
       "    }\n",
       "</style>\n",
       "<table border=\"1\" class=\"dataframe\">\n",
       "  <thead>\n",
       "    <tr style=\"text-align: right;\">\n",
       "      <th></th>\n",
       "      <th>item</th>\n",
       "      <th>price</th>\n",
       "    </tr>\n",
       "  </thead>\n",
       "  <tbody>\n",
       "    <tr>\n",
       "      <th>0</th>\n",
       "      <td>apple</td>\n",
       "      <td>0.50</td>\n",
       "    </tr>\n",
       "    <tr>\n",
       "      <th>1</th>\n",
       "      <td>orange</td>\n",
       "      <td>0.75</td>\n",
       "    </tr>\n",
       "  </tbody>\n",
       "</table>\n",
       "</div>"
      ],
      "text/plain": [
       "     item  price\n",
       "0   apple   0.50\n",
       "1  orange   0.75"
      ]
     },
     "execution_count": 4,
     "metadata": {},
     "output_type": "execute_result"
    }
   ],
   "source": [
    "import pandas as pd\n",
    "\n",
    "valid_data = pd.DataFrame.from_records([\n",
    "    {\"item\": \"apple\", \"price\": 0.5},\n",
    "    {\"item\": \"orange\", \"price\": 0.75}\n",
    "])\n",
    "\n",
    "Schema.validate(valid_data)"
   ]
  },
  {
   "cell_type": "markdown",
   "id": "43ab9c2d",
   "metadata": {},
   "source": [
    "But with invalid data, it'll raise an error, and you'll\n",
    "know exactly what went wrong with your data."
   ]
  },
  {
   "cell_type": "code",
   "execution_count": 9,
   "id": "044ac649",
   "metadata": {
    "lines_to_next_cell": 2,
    "tags": []
   },
   "outputs": [
    {
     "data": {
      "text/html": [
       "<div>\n",
       "<style scoped>\n",
       "    .dataframe tbody tr th:only-of-type {\n",
       "        vertical-align: middle;\n",
       "    }\n",
       "\n",
       "    .dataframe tbody tr th {\n",
       "        vertical-align: top;\n",
       "    }\n",
       "\n",
       "    .dataframe thead th {\n",
       "        text-align: right;\n",
       "    }\n",
       "</style>\n",
       "<table border=\"1\" class=\"dataframe\">\n",
       "  <thead>\n",
       "    <tr style=\"text-align: right;\">\n",
       "      <th></th>\n",
       "      <th>schema_context</th>\n",
       "      <th>column</th>\n",
       "      <th>check</th>\n",
       "      <th>check_number</th>\n",
       "      <th>failure_case</th>\n",
       "      <th>index</th>\n",
       "    </tr>\n",
       "  </thead>\n",
       "  <tbody>\n",
       "    <tr>\n",
       "      <th>0</th>\n",
       "      <td>Column</td>\n",
       "      <td>item</td>\n",
       "      <td>isin({'apple', 'orange'})</td>\n",
       "      <td>0</td>\n",
       "      <td>applee</td>\n",
       "      <td>0</td>\n",
       "    </tr>\n",
       "    <tr>\n",
       "      <th>1</th>\n",
       "      <td>Column</td>\n",
       "      <td>price</td>\n",
       "      <td>greater_than(0)</td>\n",
       "      <td>0</td>\n",
       "      <td>-1000.0</td>\n",
       "      <td>1</td>\n",
       "    </tr>\n",
       "  </tbody>\n",
       "</table>\n",
       "</div>"
      ],
      "text/plain": [
       "  schema_context column                      check  check_number failure_case  \\\n",
       "0         Column   item  isin({'apple', 'orange'})             0       applee   \n",
       "1         Column  price            greater_than(0)             0      -1000.0   \n",
       "\n",
       "   index  \n",
       "0      0  \n",
       "1      1  "
      ]
     },
     "metadata": {},
     "output_type": "display_data"
    }
   ],
   "source": [
    "invalid_data = pd.DataFrame.from_records([\n",
    "    {\"item\": \"applee\", \"price\": 0.5},\n",
    "    {\"item\": \"orange\", \"price\": -1000}\n",
    "])\n",
    "\n",
    "try:\n",
    "    Schema.validate(invalid_data, lazy=True)\n",
    "except (pa.errors.SchemaError, pa.errors.SchemaErrors) as exc:\n",
    "    display(exc.failure_cases)"
   ]
  },
  {
   "cell_type": "markdown",
   "id": "ddf50b3a",
   "metadata": {},
   "source": [
    "> 💪 Exercise: Try removing `lazy=True` and see what happens. How is the outcome different?"
   ]
  },
  {
   "cell_type": "markdown",
   "id": "a77c0106",
   "metadata": {},
   "source": [
    "### Schema Components\n",
    "\n",
    "### Object-based API\n",
    "\n",
    "In the Pandera schemas consist of composable components that themselves can be used in isolation"
   ]
  },
  {
   "cell_type": "code",
   "execution_count": 11,
   "id": "c3210b26",
   "metadata": {},
   "outputs": [
    {
     "data": {
      "text/html": [
       "<div>\n",
       "<style scoped>\n",
       "    .dataframe tbody tr th:only-of-type {\n",
       "        vertical-align: middle;\n",
       "    }\n",
       "\n",
       "    .dataframe tbody tr th {\n",
       "        vertical-align: top;\n",
       "    }\n",
       "\n",
       "    .dataframe thead th {\n",
       "        text-align: right;\n",
       "    }\n",
       "</style>\n",
       "<table border=\"1\" class=\"dataframe\">\n",
       "  <thead>\n",
       "    <tr style=\"text-align: right;\">\n",
       "      <th></th>\n",
       "      <th>item</th>\n",
       "      <th>price</th>\n",
       "    </tr>\n",
       "  </thead>\n",
       "  <tbody>\n",
       "    <tr>\n",
       "      <th>0</th>\n",
       "      <td>apple</td>\n",
       "      <td>0.50</td>\n",
       "    </tr>\n",
       "    <tr>\n",
       "      <th>1</th>\n",
       "      <td>orange</td>\n",
       "      <td>0.75</td>\n",
       "    </tr>\n",
       "  </tbody>\n",
       "</table>\n",
       "</div>"
      ],
      "text/plain": [
       "     item  price\n",
       "0   apple   0.50\n",
       "1  orange   0.75"
      ]
     },
     "execution_count": 11,
     "metadata": {},
     "output_type": "execute_result"
    }
   ],
   "source": [
    "column = pa.Column(str, pa.Check.isin([\"apple\", \"orange\"]), name=\"item\")\n",
    "column.validate(valid_data)"
   ]
  },
  {
   "cell_type": "markdown",
   "id": "166391a1",
   "metadata": {},
   "source": [
    "#### Class-based API\n",
    "\n",
    "The class-based API doesn't quite offer this same reusability, but you can still define `Field`s in isolation and reuse them across `SchemaModel` classes."
   ]
  },
  {
   "cell_type": "code",
   "execution_count": 7,
   "id": "f22ef6b2",
   "metadata": {},
   "outputs": [
    {
     "data": {
      "text/plain": [
       "<pandera.model_components.FieldInfo(\"None\") object at 0x1a0b36bc0>"
      ]
     },
     "execution_count": 7,
     "metadata": {},
     "output_type": "execute_result"
    }
   ],
   "source": [
    "field = pa.Field(isin=[\"apple\", \"orange\"])\n",
    "field"
   ]
  },
  {
   "cell_type": "code",
   "execution_count": 8,
   "id": "23707dfc",
   "metadata": {},
   "outputs": [
    {
     "data": {
      "text/html": [
       "<div>\n",
       "<style scoped>\n",
       "    .dataframe tbody tr th:only-of-type {\n",
       "        vertical-align: middle;\n",
       "    }\n",
       "\n",
       "    .dataframe tbody tr th {\n",
       "        vertical-align: top;\n",
       "    }\n",
       "\n",
       "    .dataframe thead th {\n",
       "        text-align: right;\n",
       "    }\n",
       "</style>\n",
       "<table border=\"1\" class=\"dataframe\">\n",
       "  <thead>\n",
       "    <tr style=\"text-align: right;\">\n",
       "      <th></th>\n",
       "      <th>item</th>\n",
       "      <th>price</th>\n",
       "    </tr>\n",
       "  </thead>\n",
       "  <tbody>\n",
       "    <tr>\n",
       "      <th>0</th>\n",
       "      <td>apple</td>\n",
       "      <td>0.50</td>\n",
       "    </tr>\n",
       "    <tr>\n",
       "      <th>1</th>\n",
       "      <td>orange</td>\n",
       "      <td>0.75</td>\n",
       "    </tr>\n",
       "  </tbody>\n",
       "</table>\n",
       "</div>"
      ],
      "text/plain": [
       "     item  price\n",
       "0   apple   0.50\n",
       "1  orange   0.75"
      ]
     },
     "execution_count": 8,
     "metadata": {},
     "output_type": "execute_result"
    }
   ],
   "source": [
    "field.to_column(str, name=\"item\").validate(valid_data)"
   ]
  },
  {
   "cell_type": "markdown",
   "id": "ea1d2cfb",
   "metadata": {},
   "source": [
    "> 💪 Exercise: Change the `name=\"item\"` argument to some other name and re-run the above code cells. What happens?"
   ]
  },
  {
   "cell_type": "markdown",
   "id": "7ad8dec2",
   "metadata": {},
   "source": [
    "### Checks\n",
    "\n",
    "`Check` objects are the validation workhorse of pandera. The `Check` class ships with some built-in checks for common use cases, but they are designed to make customizability extremely easy.\n",
    "\n",
    "As with schema components, we can define and use these by themselves."
   ]
  },
  {
   "cell_type": "code",
   "execution_count": 11,
   "id": "51e15690",
   "metadata": {},
   "outputs": [
    {
     "name": "stdout",
     "output_type": "stream",
     "text": [
      "check_passed:\n",
      "False\n",
      "\n",
      "check_output:\n",
      "0     True\n",
      "1     True\n",
      "2     True\n",
      "3    False\n",
      "dtype: bool\n",
      "\n",
      "failure_cases:\n",
      "3   -1\n",
      "dtype: int64\n"
     ]
    }
   ],
   "source": [
    "gt_check = pa.Check.gt(0)\n",
    "result = gt_check(pd.Series([1, 2, 3, -1]))\n",
    "print(f\"check_passed:\\n{result.check_passed}\")\n",
    "print(f\"\\ncheck_output:\\n{result.check_output}\")\n",
    "print(f\"\\nfailure_cases:\\n{result.failure_cases}\")"
   ]
  },
  {
   "cell_type": "markdown",
   "id": "5c04ede6",
   "metadata": {},
   "source": [
    "#### Custom Checks\n",
    "\n",
    "Checks have a particular contract, for example, here's a custom check that's equivalent to the built-in `Check.gt(0)` that we defined above:"
   ]
  },
  {
   "cell_type": "code",
   "execution_count": 12,
   "id": "bf4db732",
   "metadata": {},
   "outputs": [
    {
     "data": {
      "text/plain": [
       "CheckResult(check_output=0     True\n",
       "1     True\n",
       "2     True\n",
       "3    False\n",
       "dtype: bool, check_passed=False, checked_object=0    1\n",
       "1    2\n",
       "2    3\n",
       "3   -1\n",
       "dtype: int64, failure_cases=3   -1\n",
       "dtype: int64)"
      ]
     },
     "execution_count": 12,
     "metadata": {},
     "output_type": "execute_result"
    }
   ],
   "source": [
    "gt_check = pa.Check(lambda x: x > 0, name=\"gt_zero\")\n",
    "gt_check(pd.Series([1, 2, 3, -1]))"
   ]
  },
  {
   "cell_type": "markdown",
   "id": "d1d23c41",
   "metadata": {},
   "source": [
    "Alternatively, we can use functions if you prefer:"
   ]
  },
  {
   "cell_type": "code",
   "execution_count": 13,
   "id": "8d289f7f",
   "metadata": {},
   "outputs": [
    {
     "data": {
      "text/plain": [
       "CheckResult(check_output=0     True\n",
       "1     True\n",
       "2     True\n",
       "3    False\n",
       "dtype: bool, check_passed=False, checked_object=0    1\n",
       "1    2\n",
       "2    3\n",
       "3   -1\n",
       "dtype: int64, failure_cases=3   -1\n",
       "dtype: int64)"
      ]
     },
     "execution_count": 13,
     "metadata": {},
     "output_type": "execute_result"
    }
   ],
   "source": [
    "def gt_zero(x):\n",
    "    return x > 0\n",
    "\n",
    "gt_check = pa.Check(gt_zero)\n",
    "gt_check(pd.Series([1, 2, 3, -1]))"
   ]
  },
  {
   "cell_type": "markdown",
   "id": "315a65e8",
   "metadata": {},
   "source": [
    "> 💪 Exercise: Create a new cell below and define a custom check that makes sure that the mean value of an input `Series` is between 0 and 100. Then create some data that (a) passes the check, then (b) fails the check."
   ]
  },
  {
   "cell_type": "markdown",
   "id": "e40cfa94",
   "metadata": {},
   "source": [
    "#### Dataframe-level Checks\n",
    "\n",
    "The signature of the function is flexible in that you can pass into the `Check` object also supports dataframe-level checks. In fact, the pandas API makes it such that the custom checks we defined can be used to validate an entire dataframe:"
   ]
  },
  {
   "cell_type": "code",
   "execution_count": 14,
   "id": "79b44c32",
   "metadata": {},
   "outputs": [
    {
     "data": {
      "text/plain": [
       "CheckResult(check_output=0  0    True\n",
       "1  0    True\n",
       "2  0    True\n",
       "dtype: bool, check_passed=True, checked_object=   0  1  2\n",
       "0  1  2  3, failure_cases=Empty DataFrame\n",
       "Columns: [column, index, failure_case]\n",
       "Index: [])"
      ]
     },
     "execution_count": 14,
     "metadata": {},
     "output_type": "execute_result"
    }
   ],
   "source": [
    "gt_check(pd.DataFrame([[1, 2, 3]]))"
   ]
  },
  {
   "cell_type": "markdown",
   "id": "bb4ef3a8",
   "metadata": {},
   "source": [
    "You can use these in your schemas like so:"
   ]
  },
  {
   "cell_type": "code",
   "execution_count": 15,
   "id": "ff0fc776",
   "metadata": {},
   "outputs": [
    {
     "data": {
      "text/html": [
       "<div>\n",
       "<style scoped>\n",
       "    .dataframe tbody tr th:only-of-type {\n",
       "        vertical-align: middle;\n",
       "    }\n",
       "\n",
       "    .dataframe tbody tr th {\n",
       "        vertical-align: top;\n",
       "    }\n",
       "\n",
       "    .dataframe thead th {\n",
       "        text-align: right;\n",
       "    }\n",
       "</style>\n",
       "<table border=\"1\" class=\"dataframe\">\n",
       "  <thead>\n",
       "    <tr style=\"text-align: right;\">\n",
       "      <th></th>\n",
       "      <th>0</th>\n",
       "      <th>1</th>\n",
       "      <th>2</th>\n",
       "    </tr>\n",
       "  </thead>\n",
       "  <tbody>\n",
       "    <tr>\n",
       "      <th>0</th>\n",
       "      <td>1</td>\n",
       "      <td>2</td>\n",
       "      <td>3</td>\n",
       "    </tr>\n",
       "  </tbody>\n",
       "</table>\n",
       "</div>"
      ],
      "text/plain": [
       "   0  1  2\n",
       "0  1  2  3"
      ]
     },
     "execution_count": 15,
     "metadata": {},
     "output_type": "execute_result"
    }
   ],
   "source": [
    "df_schema = pa.DataFrameSchema(checks=gt_check)\n",
    "df_schema(pd.DataFrame([[1, 2, 3]]))"
   ]
  },
  {
   "cell_type": "markdown",
   "id": "c715ed28",
   "metadata": {},
   "source": [
    "Dataframe-level checks enable you to apply validation rules in a conditional manner.\n",
    "\n",
    "Suppose you want to check that column `A` is positive but only if column `B` has a specific value:"
   ]
  },
  {
   "cell_type": "code",
   "execution_count": 16,
   "id": "dcd32153",
   "metadata": {},
   "outputs": [
    {
     "data": {
      "text/html": [
       "<div>\n",
       "<style scoped>\n",
       "    .dataframe tbody tr th:only-of-type {\n",
       "        vertical-align: middle;\n",
       "    }\n",
       "\n",
       "    .dataframe tbody tr th {\n",
       "        vertical-align: top;\n",
       "    }\n",
       "\n",
       "    .dataframe thead th {\n",
       "        text-align: right;\n",
       "    }\n",
       "</style>\n",
       "<table border=\"1\" class=\"dataframe\">\n",
       "  <thead>\n",
       "    <tr style=\"text-align: right;\">\n",
       "      <th></th>\n",
       "      <th>A</th>\n",
       "      <th>B</th>\n",
       "    </tr>\n",
       "  </thead>\n",
       "  <tbody>\n",
       "    <tr>\n",
       "      <th>0</th>\n",
       "      <td>1</td>\n",
       "      <td>x</td>\n",
       "    </tr>\n",
       "    <tr>\n",
       "      <th>1</th>\n",
       "      <td>2</td>\n",
       "      <td>x</td>\n",
       "    </tr>\n",
       "    <tr>\n",
       "      <th>2</th>\n",
       "      <td>-3</td>\n",
       "      <td>y</td>\n",
       "    </tr>\n",
       "  </tbody>\n",
       "</table>\n",
       "</div>"
      ],
      "text/plain": [
       "   A  B\n",
       "0  1  x\n",
       "1  2  x\n",
       "2 -3  y"
      ]
     },
     "execution_count": 16,
     "metadata": {},
     "output_type": "execute_result"
    }
   ],
   "source": [
    "def conditional_check(df: pd.DataFrame) -> Series[bool]:\n",
    "    check_output = pd.Series(True, index=df.index)\n",
    "    return check_output.mask(df[\"B\"] == \"x\", df[\"A\"] > 0)\n",
    "\n",
    "\n",
    "df_schema = pa.DataFrameSchema(checks=pa.Check(conditional_check))\n",
    "df_schema.validate(pd.DataFrame({\"A\": [1, 2, -3], \"B\": [\"x\", \"x\", \"y\"]}))"
   ]
  },
  {
   "cell_type": "markdown",
   "id": "f9ad6815",
   "metadata": {},
   "source": [
    "> 💪 Exercise: Create a new cell below and define a custom dataframe check that makes sure that some column `\"A\"` is negative if the corresponding value of column `\"B\"` is not `\"x\"`"
   ]
  },
  {
   "cell_type": "markdown",
   "id": "aa8159e2",
   "metadata": {},
   "source": [
    "#### Class-based API\n",
    "\n",
    "Custom checks in the class-based API are defined via methods:"
   ]
  },
  {
   "cell_type": "code",
   "execution_count": 17,
   "id": "f18a31ff",
   "metadata": {},
   "outputs": [
    {
     "data": {
      "text/html": [
       "<div>\n",
       "<style scoped>\n",
       "    .dataframe tbody tr th:only-of-type {\n",
       "        vertical-align: middle;\n",
       "    }\n",
       "\n",
       "    .dataframe tbody tr th {\n",
       "        vertical-align: top;\n",
       "    }\n",
       "\n",
       "    .dataframe thead th {\n",
       "        text-align: right;\n",
       "    }\n",
       "</style>\n",
       "<table border=\"1\" class=\"dataframe\">\n",
       "  <thead>\n",
       "    <tr style=\"text-align: right;\">\n",
       "      <th></th>\n",
       "      <th>0</th>\n",
       "      <th>1</th>\n",
       "      <th>2</th>\n",
       "    </tr>\n",
       "  </thead>\n",
       "  <tbody>\n",
       "    <tr>\n",
       "      <th>0</th>\n",
       "      <td>1</td>\n",
       "      <td>2</td>\n",
       "      <td>3</td>\n",
       "    </tr>\n",
       "  </tbody>\n",
       "</table>\n",
       "</div>"
      ],
      "text/plain": [
       "   0  1  2\n",
       "0  1  2  3"
      ]
     },
     "execution_count": 17,
     "metadata": {},
     "output_type": "execute_result"
    }
   ],
   "source": [
    "class SchemaWithCustomChecks(pa.SchemaModel):\n",
    "    @pa.check\n",
    "    def gt_zero(cls, x: pd.Series) -> Series[bool]:\n",
    "        return x > 0\n",
    "\n",
    "SchemaWithCustomChecks.validate(pd.DataFrame([[1, 2, 3]]))"
   ]
  },
  {
   "cell_type": "markdown",
   "id": "bc191b13",
   "metadata": {},
   "source": [
    "And similarly, we can define dataframe-level checks like so:"
   ]
  },
  {
   "cell_type": "code",
   "execution_count": 18,
   "id": "6a0c0c6f",
   "metadata": {},
   "outputs": [
    {
     "data": {
      "text/html": [
       "<div>\n",
       "<style scoped>\n",
       "    .dataframe tbody tr th:only-of-type {\n",
       "        vertical-align: middle;\n",
       "    }\n",
       "\n",
       "    .dataframe tbody tr th {\n",
       "        vertical-align: top;\n",
       "    }\n",
       "\n",
       "    .dataframe thead th {\n",
       "        text-align: right;\n",
       "    }\n",
       "</style>\n",
       "<table border=\"1\" class=\"dataframe\">\n",
       "  <thead>\n",
       "    <tr style=\"text-align: right;\">\n",
       "      <th></th>\n",
       "      <th>A</th>\n",
       "      <th>B</th>\n",
       "    </tr>\n",
       "  </thead>\n",
       "  <tbody>\n",
       "    <tr>\n",
       "      <th>0</th>\n",
       "      <td>1</td>\n",
       "      <td>x</td>\n",
       "    </tr>\n",
       "    <tr>\n",
       "      <th>1</th>\n",
       "      <td>2</td>\n",
       "      <td>x</td>\n",
       "    </tr>\n",
       "    <tr>\n",
       "      <th>2</th>\n",
       "      <td>-3</td>\n",
       "      <td>y</td>\n",
       "    </tr>\n",
       "  </tbody>\n",
       "</table>\n",
       "</div>"
      ],
      "text/plain": [
       "   A  B\n",
       "0  1  x\n",
       "1  2  x\n",
       "2 -3  y"
      ]
     },
     "execution_count": 18,
     "metadata": {},
     "output_type": "execute_result"
    }
   ],
   "source": [
    "class SchemaWithCustomDFChecks(pa.SchemaModel):\n",
    "    @pa.dataframe_check\n",
    "    def conditional_check(cls, df: pd.DataFrame) -> Series[bool]:\n",
    "        check_output = pd.Series(True, index=df.index)\n",
    "        return check_output.mask(df[\"B\"] == \"x\", df[\"A\"] > 0)\n",
    "\n",
    "SchemaWithCustomChecks.validate(pd.DataFrame({\"A\": [1, 2, -3], \"B\": [\"x\", \"x\", \"y\"]}))"
   ]
  },
  {
   "cell_type": "markdown",
   "id": "bf274376",
   "metadata": {
    "slideshow": {
     "slide_type": "slide"
    }
   },
   "source": [
    "### Pandera Supports Schema Transformations/Inheritence\n",
    "\n",
    "#### Object-based API\n",
    "\n",
    "Dynamically transform schema objects on the fly"
   ]
  },
  {
   "cell_type": "code",
   "execution_count": 19,
   "id": "8421ad9b",
   "metadata": {},
   "outputs": [
    {
     "name": "stdout",
     "output_type": "stream",
     "text": [
      "<Schema DataFrameSchema(\n",
      "    columns={\n",
      "        'item': <Schema Column(name=item, type=DataType(str))>\n",
      "        'price': <Schema Column(name=price, type=DataType(float64))>\n",
      "        'expiry': <Schema Column(name=expiry, type=DataType(datetime64[ns]))>\n",
      "    },\n",
      "    checks=[],\n",
      "    coerce=True,\n",
      "    dtype=None,\n",
      "    index=None,\n",
      "    strict=False\n",
      "    name=None,\n",
      "    ordered=False,\n",
      "    unique_column_names=False\n",
      ")>\n"
     ]
    }
   ],
   "source": [
    "schema = pa.DataFrameSchema(\n",
    "    columns={\n",
    "        \"item\": pa.Column(str, pa.Check.isin([\"apple\", \"orange\"])),\n",
    "        \"price\": pa.Column(float, pa.Check.ge(0)),\n",
    "    },\n",
    "    coerce=True,\n",
    ")\n",
    "\n",
    "transformed_schema = schema.add_columns({\"expiry\": pa.Column(pd.Timestamp)})\n",
    "print(transformed_schema)"
   ]
  },
  {
   "cell_type": "markdown",
   "id": "f9b3700d",
   "metadata": {},
   "source": [
    "> 💪 Exercise: Looking at the [DataFrameSchema API documentation](https://pandera.readthedocs.io/en/stable/reference/generated/pandera.schemas.DataFrameSchema.html#pandera.schemas.DataFrameSchema), modify the `transformed_schema` above by removing the `\"price\"` column."
   ]
  },
  {
   "cell_type": "markdown",
   "id": "fbb9b9fc",
   "metadata": {
    "slideshow": {
     "slide_type": "fragment"
    }
   },
   "source": [
    "#### Class-based API\n",
    "\n",
    "Inherit from `pandera.SchemaModel` to Define Type Hierarchies"
   ]
  },
  {
   "cell_type": "code",
   "execution_count": 20,
   "id": "343c20ac",
   "metadata": {},
   "outputs": [
    {
     "name": "stdout",
     "output_type": "stream",
     "text": [
      "<Schema DataFrameSchema(\n",
      "    columns={\n",
      "        'item': <Schema Column(name=item, type=DataType(str))>\n",
      "        'price': <Schema Column(name=price, type=DataType(float64))>\n",
      "        'expiry': <Schema Column(name=expiry, type=DataType(datetime64[ns]))>\n",
      "    },\n",
      "    checks=[],\n",
      "    coerce=True,\n",
      "    dtype=None,\n",
      "    index=None,\n",
      "    strict=False\n",
      "    name=TransformedSchema,\n",
      "    ordered=False,\n",
      "    unique_column_names=False\n",
      ")>\n"
     ]
    }
   ],
   "source": [
    "from pandera.typing import DataFrame, Series\n",
    "\n",
    "class Schema(pa.SchemaModel):\n",
    "    item: Series[str] = pa.Field(isin=[\"apple\", \"orange\"])\n",
    "    price: Series[float] = pa.Field(gt=0)\n",
    "\n",
    "    class Config:\n",
    "        coerce = True\n",
    "\n",
    "class TransformedSchema(Schema):\n",
    "    expiry: Series[pd.Timestamp]\n",
    "\n",
    "\n",
    "print(TransformedSchema.to_schema())"
   ]
  },
  {
   "cell_type": "markdown",
   "id": "47bc4599",
   "metadata": {},
   "source": [
    "> 💪 Exercise: Inherit from `TransformedSchema` to create a new schema and add a new column `category` of type `str`, where values in that column must be in the set `{\"fruit\", \"vegetables\", \"meat\"}`."
   ]
  },
  {
   "cell_type": "markdown",
   "id": "7579cee7",
   "metadata": {
    "slideshow": {
     "slide_type": "slide"
    }
   },
   "source": [
    "### Integrate Seamlessly with your Pipeline\n",
    "\n",
    "Use decorators to add IO checkpoints to the critical functions in your pipeline"
   ]
  },
  {
   "cell_type": "markdown",
   "id": "425c701b",
   "metadata": {},
   "source": [
    "#### Object-based API\n",
    "\n",
    "Use the `pandera.check_io` decorator to validate input and output dataframes at runtime using `DataFrameSchema` objects."
   ]
  },
  {
   "cell_type": "code",
   "execution_count": 21,
   "id": "00825b5b",
   "metadata": {},
   "outputs": [
    {
     "data": {
      "text/html": [
       "<div>\n",
       "<style scoped>\n",
       "    .dataframe tbody tr th:only-of-type {\n",
       "        vertical-align: middle;\n",
       "    }\n",
       "\n",
       "    .dataframe tbody tr th {\n",
       "        vertical-align: top;\n",
       "    }\n",
       "\n",
       "    .dataframe thead th {\n",
       "        text-align: right;\n",
       "    }\n",
       "</style>\n",
       "<table border=\"1\" class=\"dataframe\">\n",
       "  <thead>\n",
       "    <tr style=\"text-align: right;\">\n",
       "      <th></th>\n",
       "      <th>item</th>\n",
       "      <th>price</th>\n",
       "      <th>expiry</th>\n",
       "    </tr>\n",
       "  </thead>\n",
       "  <tbody>\n",
       "    <tr>\n",
       "      <th>0</th>\n",
       "      <td>apple</td>\n",
       "      <td>0.50</td>\n",
       "      <td>2022-10-12 08:32:41.182470</td>\n",
       "    </tr>\n",
       "    <tr>\n",
       "      <th>1</th>\n",
       "      <td>orange</td>\n",
       "      <td>0.75</td>\n",
       "      <td>2022-10-12 08:32:41.182470</td>\n",
       "    </tr>\n",
       "  </tbody>\n",
       "</table>\n",
       "</div>"
      ],
      "text/plain": [
       "     item  price                     expiry\n",
       "0   apple   0.50 2022-10-12 08:32:41.182470\n",
       "1  orange   0.75 2022-10-12 08:32:41.182470"
      ]
     },
     "execution_count": 21,
     "metadata": {},
     "output_type": "execute_result"
    }
   ],
   "source": [
    "from typing import List\n",
    "from datetime import datetime\n",
    "\n",
    "@pa.check_io(data=schema, out=transformed_schema)\n",
    "def transform_data(data, expiry: List[datetime]):\n",
    "    return data.assign(expiry=expiry)\n",
    "\n",
    "transform_data(valid_data, [datetime.now()] * valid_data.shape[0])"
   ]
  },
  {
   "cell_type": "markdown",
   "id": "92dd67d7",
   "metadata": {},
   "source": [
    "#### Class-based API\n",
    "\n",
    "Use the `pandera.check_types` decorator to validate input/output dataframes at runtime using `SchemaModel` classes."
   ]
  },
  {
   "cell_type": "code",
   "execution_count": 22,
   "id": "b19a5832",
   "metadata": {
    "lines_to_next_cell": 2
   },
   "outputs": [
    {
     "data": {
      "text/html": [
       "<div>\n",
       "<style scoped>\n",
       "    .dataframe tbody tr th:only-of-type {\n",
       "        vertical-align: middle;\n",
       "    }\n",
       "\n",
       "    .dataframe tbody tr th {\n",
       "        vertical-align: top;\n",
       "    }\n",
       "\n",
       "    .dataframe thead th {\n",
       "        text-align: right;\n",
       "    }\n",
       "</style>\n",
       "<table border=\"1\" class=\"dataframe\">\n",
       "  <thead>\n",
       "    <tr style=\"text-align: right;\">\n",
       "      <th></th>\n",
       "      <th>item</th>\n",
       "      <th>price</th>\n",
       "      <th>expiry</th>\n",
       "    </tr>\n",
       "  </thead>\n",
       "  <tbody>\n",
       "    <tr>\n",
       "      <th>0</th>\n",
       "      <td>apple</td>\n",
       "      <td>0.50</td>\n",
       "      <td>2022-10-12 08:32:41.946073</td>\n",
       "    </tr>\n",
       "    <tr>\n",
       "      <th>1</th>\n",
       "      <td>orange</td>\n",
       "      <td>0.75</td>\n",
       "      <td>2022-10-12 08:32:41.946073</td>\n",
       "    </tr>\n",
       "  </tbody>\n",
       "</table>\n",
       "</div>"
      ],
      "text/plain": [
       "     item  price                     expiry\n",
       "0   apple   0.50 2022-10-12 08:32:41.946073\n",
       "1  orange   0.75 2022-10-12 08:32:41.946073"
      ]
     },
     "execution_count": 22,
     "metadata": {},
     "output_type": "execute_result"
    }
   ],
   "source": [
    "from typing import List\n",
    "from datetime import datetime\n",
    "\n",
    "\n",
    "@pa.check_types\n",
    "def transform_data(data: DataFrame[Schema], expiry: List[datetime]) -> DataFrame[TransformedSchema]:\n",
    "    return data.assign(expiry=expiry)\n",
    "\n",
    "\n",
    "transform_data(valid_data, [datetime.now()] * valid_data.shape[0])"
   ]
  },
  {
   "cell_type": "markdown",
   "id": "81a9b945",
   "metadata": {},
   "source": [
    "> 💪 Exercise: Try introducing a bug in the `transform_data` function above that causes a `SchemaError`. How many different kinds of errors can you introduce?"
   ]
  },
  {
   "cell_type": "markdown",
   "id": "bf8b5bb9",
   "metadata": {
    "slideshow": {
     "slide_type": "slide"
    }
   },
   "source": [
    "### Generative Schemas\n",
    "\n",
    "Schemas that synthesize valid data under its constraints"
   ]
  },
  {
   "cell_type": "code",
   "execution_count": 23,
   "id": "b3bf2d4a",
   "metadata": {},
   "outputs": [
    {
     "data": {
      "text/html": [
       "<div>\n",
       "<style scoped>\n",
       "    .dataframe tbody tr th:only-of-type {\n",
       "        vertical-align: middle;\n",
       "    }\n",
       "\n",
       "    .dataframe tbody tr th {\n",
       "        vertical-align: top;\n",
       "    }\n",
       "\n",
       "    .dataframe thead th {\n",
       "        text-align: right;\n",
       "    }\n",
       "</style>\n",
       "<table border=\"1\" class=\"dataframe\">\n",
       "  <thead>\n",
       "    <tr style=\"text-align: right;\">\n",
       "      <th></th>\n",
       "      <th>item</th>\n",
       "      <th>price</th>\n",
       "    </tr>\n",
       "  </thead>\n",
       "  <tbody>\n",
       "    <tr>\n",
       "      <th>0</th>\n",
       "      <td>apple</td>\n",
       "      <td>9.999900e-01</td>\n",
       "    </tr>\n",
       "    <tr>\n",
       "      <th>1</th>\n",
       "      <td>apple</td>\n",
       "      <td>2.000010e+00</td>\n",
       "    </tr>\n",
       "    <tr>\n",
       "      <th>2</th>\n",
       "      <td>apple</td>\n",
       "      <td>1.900000e+00</td>\n",
       "    </tr>\n",
       "    <tr>\n",
       "      <th>3</th>\n",
       "      <td>orange</td>\n",
       "      <td>3.402823e+38</td>\n",
       "    </tr>\n",
       "    <tr>\n",
       "      <th>4</th>\n",
       "      <td>orange</td>\n",
       "      <td>1.000000e+00</td>\n",
       "    </tr>\n",
       "  </tbody>\n",
       "</table>\n",
       "</div>"
      ],
      "text/plain": [
       "     item         price\n",
       "0   apple  9.999900e-01\n",
       "1   apple  2.000010e+00\n",
       "2   apple  1.900000e+00\n",
       "3  orange  3.402823e+38\n",
       "4  orange  1.000000e+00"
      ]
     },
     "execution_count": 23,
     "metadata": {},
     "output_type": "execute_result"
    }
   ],
   "source": [
    "Schema.example(size=5)"
   ]
  },
  {
   "cell_type": "markdown",
   "id": "588a3f44",
   "metadata": {
    "slideshow": {
     "slide_type": "fragment"
    }
   },
   "source": [
    "**Data Testing:** Test the functions that produce clean data"
   ]
  },
  {
   "cell_type": "code",
   "execution_count": 24,
   "id": "572ec1a2",
   "metadata": {
    "lines_to_next_cell": 2
   },
   "outputs": [
    {
     "name": "stdout",
     "output_type": "stream",
     "text": [
      "tests passed ✅\n"
     ]
    }
   ],
   "source": [
    "from hypothesis import given\n",
    "\n",
    "\n",
    "@given(Schema.strategy(size=5))\n",
    "def test_fn(data):\n",
    "    transform_data(data, [datetime.now()] * data.shape[0])\n",
    "\n",
    "\n",
    "def run_test_suite():\n",
    "    test_fn()\n",
    "    print(\"tests passed ✅\")\n",
    "\n",
    "\n",
    "run_test_suite()"
   ]
  },
  {
   "cell_type": "markdown",
   "id": "7bb6cdc5",
   "metadata": {},
   "source": [
    "> 💪 Exercise: Introduce a `print` function call to the `test_fn` above to see what data exactly is being generated by `hypothesis`."
   ]
  },
  {
   "cell_type": "markdown",
   "id": "dc27d84d",
   "metadata": {
    "slideshow": {
     "slide_type": "slide"
    }
   },
   "source": [
    "## Scaling Pandera\n",
    "\n",
    "Pandera supports `dask`, `modin`, and `pyspark.pandas` dataframes to scale\n",
    "data validation to big data."
   ]
  },
  {
   "cell_type": "code",
   "execution_count": 25,
   "id": "93bb376c",
   "metadata": {},
   "outputs": [
    {
     "data": {
      "text/html": [
       "<div>\n",
       "<style scoped>\n",
       "    .dataframe tbody tr th:only-of-type {\n",
       "        vertical-align: middle;\n",
       "    }\n",
       "\n",
       "    .dataframe tbody tr th {\n",
       "        vertical-align: top;\n",
       "    }\n",
       "\n",
       "    .dataframe thead th {\n",
       "        text-align: right;\n",
       "    }\n",
       "</style>\n",
       "<table border=\"1\" class=\"dataframe\">\n",
       "  <thead>\n",
       "    <tr style=\"text-align: right;\">\n",
       "      <th></th>\n",
       "      <th>item</th>\n",
       "      <th>price</th>\n",
       "    </tr>\n",
       "  </thead>\n",
       "  <tbody>\n",
       "    <tr>\n",
       "      <th>0</th>\n",
       "      <td>applee</td>\n",
       "      <td>0.5</td>\n",
       "    </tr>\n",
       "    <tr>\n",
       "      <th>1</th>\n",
       "      <td>orange</td>\n",
       "      <td>-1000.0</td>\n",
       "    </tr>\n",
       "  </tbody>\n",
       "</table>\n",
       "</div>"
      ],
      "text/plain": [
       "     item   price\n",
       "0  applee     0.5\n",
       "1  orange -1000.0"
      ]
     },
     "metadata": {},
     "output_type": "display_data"
    }
   ],
   "source": [
    "display(invalid_data)"
   ]
  },
  {
   "cell_type": "markdown",
   "id": "48e11edc",
   "metadata": {
    "slideshow": {
     "slide_type": "slide"
    }
   },
   "source": [
    "### Apply a single schema to a suite of dataframe-like objects\n",
    "\n",
    "#### `dask`"
   ]
  },
  {
   "cell_type": "code",
   "execution_count": 26,
   "id": "d38d84b5",
   "metadata": {},
   "outputs": [
    {
     "data": {
      "text/html": [
       "<div>\n",
       "<style scoped>\n",
       "    .dataframe tbody tr th:only-of-type {\n",
       "        vertical-align: middle;\n",
       "    }\n",
       "\n",
       "    .dataframe tbody tr th {\n",
       "        vertical-align: top;\n",
       "    }\n",
       "\n",
       "    .dataframe thead th {\n",
       "        text-align: right;\n",
       "    }\n",
       "</style>\n",
       "<table border=\"1\" class=\"dataframe\">\n",
       "  <thead>\n",
       "    <tr style=\"text-align: right;\">\n",
       "      <th></th>\n",
       "      <th>schema_context</th>\n",
       "      <th>column</th>\n",
       "      <th>check</th>\n",
       "      <th>check_number</th>\n",
       "      <th>failure_case</th>\n",
       "      <th>index</th>\n",
       "    </tr>\n",
       "  </thead>\n",
       "  <tbody>\n",
       "    <tr>\n",
       "      <th>0</th>\n",
       "      <td>Column</td>\n",
       "      <td>item</td>\n",
       "      <td>isin({'apple', 'orange'})</td>\n",
       "      <td>0</td>\n",
       "      <td>applee</td>\n",
       "      <td>0</td>\n",
       "    </tr>\n",
       "    <tr>\n",
       "      <th>1</th>\n",
       "      <td>Column</td>\n",
       "      <td>price</td>\n",
       "      <td>greater_than(0)</td>\n",
       "      <td>0</td>\n",
       "      <td>-1000.0</td>\n",
       "      <td>1</td>\n",
       "    </tr>\n",
       "  </tbody>\n",
       "</table>\n",
       "</div>"
      ],
      "text/plain": [
       "  schema_context column                      check  check_number failure_case  \\\n",
       "0         Column   item  isin({'apple', 'orange'})             0       applee   \n",
       "1         Column  price            greater_than(0)             0      -1000.0   \n",
       "\n",
       "   index  \n",
       "0      0  \n",
       "1      1  "
      ]
     },
     "metadata": {},
     "output_type": "display_data"
    }
   ],
   "source": [
    "import dask.dataframe as dd\n",
    "\n",
    "dask_dataframe = dd.from_pandas(invalid_data, npartitions=1)\n",
    "\n",
    "try:\n",
    "    Schema(dask_dataframe, lazy=True).compute()\n",
    "except pa.errors.SchemaErrors as exc:\n",
    "    display(exc.failure_cases.sort_index())"
   ]
  },
  {
   "cell_type": "markdown",
   "id": "d09b5bdf",
   "metadata": {
    "slideshow": {
     "slide_type": "slide"
    }
   },
   "source": [
    "### Apply a single schema to a suite of dataframe-like objects\n",
    "\n",
    "#### `modin`"
   ]
  },
  {
   "cell_type": "code",
   "execution_count": 27,
   "id": "abcd8e32",
   "metadata": {
    "lines_to_next_cell": 2
   },
   "outputs": [
    {
     "name": "stderr",
     "output_type": "stream",
     "text": [
      "\u001b[2m\u001b[36m(pid=94535)\u001b[0m FutureWarning: iteritems is deprecated and will be removed in a future version. Use .items instead.\n",
      "\u001b[2m\u001b[36m(pid=94535)\u001b[0m FutureWarning: iteritems is deprecated and will be removed in a future version. Use .items instead.\n",
      "\u001b[2m\u001b[36m(pid=94536)\u001b[0m FutureWarning: iteritems is deprecated and will be removed in a future version. Use .items instead.\n"
     ]
    },
    {
     "data": {
      "text/html": [
       "<div>\n",
       "<style scoped>\n",
       "    .dataframe tbody tr th:only-of-type {\n",
       "        vertical-align: middle;\n",
       "    }\n",
       "\n",
       "    .dataframe tbody tr th {\n",
       "        vertical-align: top;\n",
       "    }\n",
       "\n",
       "    .dataframe thead th {\n",
       "        text-align: right;\n",
       "    }\n",
       "</style>\n",
       "<table border=\"1\" class=\"dataframe\">\n",
       "  <thead>\n",
       "    <tr style=\"text-align: right;\">\n",
       "      <th></th>\n",
       "      <th>schema_context</th>\n",
       "      <th>column</th>\n",
       "      <th>check</th>\n",
       "      <th>check_number</th>\n",
       "      <th>failure_case</th>\n",
       "      <th>index</th>\n",
       "    </tr>\n",
       "  </thead>\n",
       "  <tbody>\n",
       "    <tr>\n",
       "      <th>0</th>\n",
       "      <td>Column</td>\n",
       "      <td>item</td>\n",
       "      <td>isin({'apple', 'orange'})</td>\n",
       "      <td>0</td>\n",
       "      <td>applee</td>\n",
       "      <td>0</td>\n",
       "    </tr>\n",
       "    <tr>\n",
       "      <th>1</th>\n",
       "      <td>Column</td>\n",
       "      <td>price</td>\n",
       "      <td>greater_than(0)</td>\n",
       "      <td>0</td>\n",
       "      <td>-1000.0</td>\n",
       "      <td>1</td>\n",
       "    </tr>\n",
       "  </tbody>\n",
       "</table>\n",
       "</div>"
      ],
      "text/plain": [
       "  schema_context column                      check  check_number failure_case  \\\n",
       "0         Column   item  isin({'apple', 'orange'})             0       applee   \n",
       "1         Column  price            greater_than(0)             0      -1000.0   \n",
       "\n",
       "   index  \n",
       "0      0  \n",
       "1      1  "
      ]
     },
     "metadata": {},
     "output_type": "display_data"
    }
   ],
   "source": [
    "import modin.pandas as mpd\n",
    "\n",
    "modin_dataframe = mpd.DataFrame(invalid_data)\n",
    "\n",
    "try:\n",
    "    Schema(modin_dataframe, lazy=True)\n",
    "except pa.errors.SchemaErrors as exc:\n",
    "    display(exc.failure_cases.sort_index())"
   ]
  },
  {
   "cell_type": "markdown",
   "id": "3537a461",
   "metadata": {
    "slideshow": {
     "slide_type": "slide"
    }
   },
   "source": [
    "### Apply a single schema to a suite of dataframe-like objects\n",
    "\n",
    "#### `pyspark.pandas`"
   ]
  },
  {
   "cell_type": "code",
   "execution_count": 29,
   "id": "c38dece4",
   "metadata": {
    "lines_to_next_cell": 2
   },
   "outputs": [
    {
     "name": "stderr",
     "output_type": "stream",
     "text": [
      "/Users/nielsbantilan/miniconda3/envs/pandera-presentations/lib/python3.9/site-packages/pyspark/python/lib/pyspark.zip/pyspark/pandas/internal.py:1573: FutureWarning: iteritems is deprecated and will be removed in a future version. Use .items instead.\n",
      "/Users/nielsbantilan/miniconda3/envs/pandera-presentations/lib/python3.9/site-packages/pyspark/python/lib/pyspark.zip/pyspark/pandas/internal.py:1573: FutureWarning: iteritems is deprecated and will be removed in a future version. Use .items instead.\n",
      "/Users/nielsbantilan/miniconda3/envs/pandera-presentations/lib/python3.9/site-packages/pyspark/python/lib/pyspark.zip/pyspark/pandas/internal.py:1573: FutureWarning: iteritems is deprecated and will be removed in a future version. Use .items instead.\n",
      "/Users/nielsbantilan/miniconda3/envs/pandera-presentations/lib/python3.9/site-packages/pyspark/python/lib/pyspark.zip/pyspark/pandas/internal.py:1573: FutureWarning: iteritems is deprecated and will be removed in a future version. Use .items instead.\n",
      "/Users/nielsbantilan/miniconda3/envs/pandera-presentations/lib/python3.9/site-packages/pyspark/python/lib/pyspark.zip/pyspark/pandas/internal.py:1573: FutureWarning: iteritems is deprecated and will be removed in a future version. Use .items instead.\n",
      "/Users/nielsbantilan/miniconda3/envs/pandera-presentations/lib/python3.9/site-packages/pyspark/python/lib/pyspark.zip/pyspark/pandas/internal.py:1573: FutureWarning: iteritems is deprecated and will be removed in a future version. Use .items instead.\n"
     ]
    },
    {
     "data": {
      "text/html": [
       "<div>\n",
       "<style scoped>\n",
       "    .dataframe tbody tr th:only-of-type {\n",
       "        vertical-align: middle;\n",
       "    }\n",
       "\n",
       "    .dataframe tbody tr th {\n",
       "        vertical-align: top;\n",
       "    }\n",
       "\n",
       "    .dataframe thead th {\n",
       "        text-align: right;\n",
       "    }\n",
       "</style>\n",
       "<table border=\"1\" class=\"dataframe\">\n",
       "  <thead>\n",
       "    <tr style=\"text-align: right;\">\n",
       "      <th></th>\n",
       "      <th>schema_context</th>\n",
       "      <th>column</th>\n",
       "      <th>check</th>\n",
       "      <th>check_number</th>\n",
       "      <th>failure_case</th>\n",
       "      <th>index</th>\n",
       "    </tr>\n",
       "  </thead>\n",
       "  <tbody>\n",
       "    <tr>\n",
       "      <th>0</th>\n",
       "      <td>Column</td>\n",
       "      <td>item</td>\n",
       "      <td>isin({'apple', 'orange'})</td>\n",
       "      <td>0</td>\n",
       "      <td>applee</td>\n",
       "      <td>0</td>\n",
       "    </tr>\n",
       "    <tr>\n",
       "      <th>1</th>\n",
       "      <td>Column</td>\n",
       "      <td>price</td>\n",
       "      <td>greater_than(0)</td>\n",
       "      <td>0</td>\n",
       "      <td>-1000.0</td>\n",
       "      <td>1</td>\n",
       "    </tr>\n",
       "  </tbody>\n",
       "</table>\n",
       "</div>"
      ],
      "text/plain": [
       "  schema_context column                      check  check_number failure_case  index\n",
       "0         Column   item  isin({'apple', 'orange'})             0       applee      0\n",
       "1         Column  price            greater_than(0)             0      -1000.0      1"
      ]
     },
     "metadata": {},
     "output_type": "display_data"
    }
   ],
   "source": [
    "import pyspark.pandas as ps\n",
    "\n",
    "pyspark_pd_dataframe = ps.DataFrame(invalid_data)\n",
    "\n",
    "try:\n",
    "    Schema(pyspark_pd_dataframe, lazy=True)\n",
    "except pa.errors.SchemaErrors as exc:\n",
    "    display(exc.failure_cases.sort_index())"
   ]
  },
  {
   "cell_type": "markdown",
   "id": "2c8f7b4e",
   "metadata": {},
   "source": [
    "### Schema Inference\n",
    "\n",
    "You can bootstrap a schema if you want to quickly create a schema that you can refine further:"
   ]
  },
  {
   "cell_type": "code",
   "execution_count": 48,
   "id": "85e0b5df",
   "metadata": {},
   "outputs": [],
   "source": [
    "schema = pa.infer_schema(valid_data)"
   ]
  },
  {
   "cell_type": "code",
   "execution_count": 52,
   "id": "a0111a43",
   "metadata": {},
   "outputs": [
    {
     "name": "stdout",
     "output_type": "stream",
     "text": [
      "from pandera import DataFrameSchema, Column, Check, Index, MultiIndex\n",
      "\n",
      "schema = DataFrameSchema(\n",
      "    columns={\n",
      "        \"item\": Column(\n",
      "            dtype=pandera.engines.numpy_engine.Object,\n",
      "            checks=None,\n",
      "            nullable=False,\n",
      "            unique=False,\n",
      "            coerce=False,\n",
      "            required=True,\n",
      "            regex=False,\n",
      "            description=None,\n",
      "            title=None,\n",
      "        ),\n",
      "        \"price\": Column(\n",
      "            dtype=pandera.engines.numpy_engine.Float64,\n",
      "            checks=[\n",
      "                Check.greater_than_or_equal_to(min_value=0.5),\n",
      "                Check.less_than_or_equal_to(max_value=0.75),\n",
      "            ],\n",
      "            nullable=False,\n",
      "            unique=False,\n",
      "            coerce=False,\n",
      "            required=True,\n",
      "            regex=False,\n",
      "            description=None,\n",
      "            title=None,\n",
      "        ),\n",
      "    },\n",
      "    index=Index(\n",
      "        dtype=pandera.engines.numpy_engine.Int64,\n",
      "        checks=[\n",
      "            Check.greater_than_or_equal_to(min_value=0.0),\n",
      "            Check.less_than_or_equal_to(max_value=1.0),\n",
      "        ],\n",
      "        nullable=False,\n",
      "        coerce=False,\n",
      "        name=None,\n",
      "        description=None,\n",
      "        title=None,\n",
      "    ),\n",
      "    coerce=True,\n",
      "    strict=False,\n",
      "    name=None,\n",
      ")\n",
      "\n"
     ]
    }
   ],
   "source": [
    "print(schema.to_script())"
   ]
  },
  {
   "cell_type": "markdown",
   "id": "1142326c",
   "metadata": {
    "slideshow": {
     "slide_type": "slide"
    }
   },
   "source": [
    "## ⌨️ Statistical Typing"
   ]
  },
  {
   "cell_type": "markdown",
   "id": "34df5f7d",
   "metadata": {},
   "source": [
    "#### Type systems help programmers reason about and write more robust code"
   ]
  },
  {
   "cell_type": "code",
   "execution_count": 30,
   "id": "a7f3ebdf",
   "metadata": {
    "slideshow": {
     "slide_type": "fragment"
    }
   },
   "outputs": [],
   "source": [
    "from typing import Union\n",
    "\n",
    "Number = Union[int, float]\n",
    "\n",
    "def add_and_double(x: Number, y: Number) -> Number:\n",
    "    ..."
   ]
  },
  {
   "cell_type": "markdown",
   "id": "2caf0710",
   "metadata": {
    "slideshow": {
     "slide_type": "fragment"
    }
   },
   "source": [
    "#### Can you predict the outcome of these function calls?"
   ]
  },
  {
   "cell_type": "code",
   "execution_count": 31,
   "id": "8eb5bcda",
   "metadata": {},
   "outputs": [],
   "source": [
    "add_and_double(5, 2)\n",
    "add_and_double(5, \"hello\")\n",
    "add_and_double(11.5, -1.5)"
   ]
  },
  {
   "cell_type": "markdown",
   "id": "8f24d8b4",
   "metadata": {
    "slideshow": {
     "slide_type": "slide"
    }
   },
   "source": [
    "#### Similarly..."
   ]
  },
  {
   "cell_type": "code",
   "execution_count": 32,
   "id": "6d4989b5",
   "metadata": {
    "lines_to_next_cell": 1
   },
   "outputs": [],
   "source": [
    "import pandera as pa\n",
    "from pandera.typing import DataFrame, Series\n",
    "\n",
    "class Inputs(pa.SchemaModel):\n",
    "    x: Series[int]\n",
    "    y: Series[int]\n",
    "\n",
    "    class Config:\n",
    "        coerce = True\n",
    "\n",
    "\n",
    "class Outputs(Inputs):\n",
    "    z: Series[int]\n",
    "        \n",
    "    @pa.dataframe_check\n",
    "    def custom_check(cls, df: DataFrame) -> Series:\n",
    "        return df[\"z\"] == (df[\"x\"] + df[\"y\"]) * 2\n",
    "    \n",
    "    \n",
    "@pa.check_types\n",
    "def add_and_double(raw_data: DataFrame[Inputs]) -> DataFrame[Outputs]:\n",
    "    ..."
   ]
  },
  {
   "cell_type": "markdown",
   "id": "18940669",
   "metadata": {
    "slideshow": {
     "slide_type": "slide"
    }
   },
   "source": [
    "### 🤔 What's Statistical Typing?\n",
    "\n",
    "> **Statistical typing** extends primitive data types with additional semantics\n",
    "> about the _properties held by a collection of data points_."
   ]
  },
  {
   "cell_type": "markdown",
   "id": "8473a846",
   "metadata": {
    "slideshow": {
     "slide_type": "slide"
    }
   },
   "source": [
    "#### Consider a single data point"
   ]
  },
  {
   "cell_type": "code",
   "execution_count": null,
   "id": "ff17ffff",
   "metadata": {},
   "outputs": [],
   "source": [
    "data_point = {\"square_footage\": 700, \"nbedrooms\": 1, \"price\": 500_000}"
   ]
  },
  {
   "cell_type": "markdown",
   "id": "69388fb8",
   "metadata": {
    "slideshow": {
     "slide_type": "fragment"
    }
   },
   "source": [
    "- Primitive datatypes\n",
    "- Value range\n",
    "- Allowable values\n",
    "- Regex string match\n",
    "- Nullability"
   ]
  },
  {
   "cell_type": "markdown",
   "id": "e8d73734",
   "metadata": {
    "slideshow": {
     "slide_type": "slide"
    }
   },
   "source": [
    "#### Now consider a collection data point"
   ]
  },
  {
   "cell_type": "code",
   "execution_count": null,
   "id": "e5da4b1f",
   "metadata": {},
   "outputs": [],
   "source": [
    "data_points = [\n",
    "    {\"square_footage\": 700, \"nbedrooms\": 1, \"price\": 500_000},\n",
    "    {\"square_footage\": 1000, \"nbedrooms\": 2, \"price\": 750_000},\n",
    "    {\"square_footage\": 3000, \"nbedrooms\": 4, \"price\": 1_000_000},\n",
    "    ...\n",
    "]"
   ]
  },
  {
   "cell_type": "markdown",
   "id": "9d4ef56f",
   "metadata": {
    "slideshow": {
     "slide_type": "fragment"
    }
   },
   "source": [
    "- Apply atomic checks at scale\n",
    "- Uniqueness\n",
    "- Monotonicity\n",
    "- Mean, median, standard deviation\n",
    "- Fractional checks, e.g. 90% of data points are not null"
   ]
  },
  {
   "cell_type": "markdown",
   "id": "8a529905",
   "metadata": {
    "slideshow": {
     "slide_type": "slide"
    }
   },
   "source": [
    "### Pandera is a Statistical Type System Geared Towards Data Science\n",
    "\n",
    "Statistical types are defined with multiple layers 🧅"
   ]
  },
  {
   "cell_type": "markdown",
   "id": "774d8131",
   "metadata": {
    "slideshow": {
     "slide_type": "fragment"
    }
   },
   "source": [
    "> **primitive data types**: `int`, `float`, `bool`, `str`, etc."
   ]
  },
  {
   "cell_type": "markdown",
   "id": "fe8530f5",
   "metadata": {
    "slideshow": {
     "slide_type": "fragment"
    }
   },
   "source": [
    "> **deterministic properties**: domain of possible values, e.g. `x >= 0`"
   ]
  },
  {
   "cell_type": "markdown",
   "id": "e302ecc4",
   "metadata": {
    "slideshow": {
     "slide_type": "fragment"
    }
   },
   "source": [
    "> **probabilistic properties**: distributions that apply to the variable and their sufficient statistics, e.g. `mean`,\n",
    "  `standard deviation`"
   ]
  },
  {
   "cell_type": "markdown",
   "id": "dd58ed7f",
   "metadata": {
    "slideshow": {
     "slide_type": "slide"
    }
   },
   "source": [
    "# 📊 Example 1: Validate your Data analysis"
   ]
  },
  {
   "cell_type": "markdown",
   "id": "368e26a3",
   "metadata": {
    "slideshow": {
     "slide_type": "slide"
    }
   },
   "source": [
    "## Dataset: California Housing\n",
    "\n",
    "A dataset containing ~20,000 samples where each row is a California district and\n",
    "each column is an aggregate statistic about that district."
   ]
  },
  {
   "cell_type": "code",
   "execution_count": 33,
   "id": "563440f1",
   "metadata": {},
   "outputs": [
    {
     "data": {
      "text/html": [
       "<div>\n",
       "<style scoped>\n",
       "    .dataframe tbody tr th:only-of-type {\n",
       "        vertical-align: middle;\n",
       "    }\n",
       "\n",
       "    .dataframe tbody tr th {\n",
       "        vertical-align: top;\n",
       "    }\n",
       "\n",
       "    .dataframe thead th {\n",
       "        text-align: right;\n",
       "    }\n",
       "</style>\n",
       "<table border=\"1\" class=\"dataframe\">\n",
       "  <thead>\n",
       "    <tr style=\"text-align: right;\">\n",
       "      <th></th>\n",
       "      <th>MedInc</th>\n",
       "      <th>HouseAge</th>\n",
       "      <th>AveRooms</th>\n",
       "      <th>AveBedrms</th>\n",
       "      <th>Population</th>\n",
       "      <th>AveOccup</th>\n",
       "      <th>Latitude</th>\n",
       "      <th>Longitude</th>\n",
       "      <th>MedHouseVal</th>\n",
       "    </tr>\n",
       "  </thead>\n",
       "  <tbody>\n",
       "    <tr>\n",
       "      <th>count</th>\n",
       "      <td>20640.000000</td>\n",
       "      <td>20640.000000</td>\n",
       "      <td>20640.000000</td>\n",
       "      <td>20640.000000</td>\n",
       "      <td>20640.000000</td>\n",
       "      <td>20640.000000</td>\n",
       "      <td>20640.000000</td>\n",
       "      <td>20640.000000</td>\n",
       "      <td>20640.000000</td>\n",
       "    </tr>\n",
       "    <tr>\n",
       "      <th>mean</th>\n",
       "      <td>3.870671</td>\n",
       "      <td>28.639486</td>\n",
       "      <td>5.429000</td>\n",
       "      <td>1.096675</td>\n",
       "      <td>1425.476744</td>\n",
       "      <td>3.070655</td>\n",
       "      <td>35.631861</td>\n",
       "      <td>-119.569704</td>\n",
       "      <td>2.068558</td>\n",
       "    </tr>\n",
       "    <tr>\n",
       "      <th>std</th>\n",
       "      <td>1.899822</td>\n",
       "      <td>12.585558</td>\n",
       "      <td>2.474173</td>\n",
       "      <td>0.473911</td>\n",
       "      <td>1132.462122</td>\n",
       "      <td>10.386050</td>\n",
       "      <td>2.135952</td>\n",
       "      <td>2.003532</td>\n",
       "      <td>1.153956</td>\n",
       "    </tr>\n",
       "    <tr>\n",
       "      <th>min</th>\n",
       "      <td>0.499900</td>\n",
       "      <td>1.000000</td>\n",
       "      <td>0.846154</td>\n",
       "      <td>0.333333</td>\n",
       "      <td>3.000000</td>\n",
       "      <td>0.692308</td>\n",
       "      <td>32.540000</td>\n",
       "      <td>-124.350000</td>\n",
       "      <td>0.149990</td>\n",
       "    </tr>\n",
       "    <tr>\n",
       "      <th>25%</th>\n",
       "      <td>2.563400</td>\n",
       "      <td>18.000000</td>\n",
       "      <td>4.440716</td>\n",
       "      <td>1.006079</td>\n",
       "      <td>787.000000</td>\n",
       "      <td>2.429741</td>\n",
       "      <td>33.930000</td>\n",
       "      <td>-121.800000</td>\n",
       "      <td>1.196000</td>\n",
       "    </tr>\n",
       "    <tr>\n",
       "      <th>50%</th>\n",
       "      <td>3.534800</td>\n",
       "      <td>29.000000</td>\n",
       "      <td>5.229129</td>\n",
       "      <td>1.048780</td>\n",
       "      <td>1166.000000</td>\n",
       "      <td>2.818116</td>\n",
       "      <td>34.260000</td>\n",
       "      <td>-118.490000</td>\n",
       "      <td>1.797000</td>\n",
       "    </tr>\n",
       "    <tr>\n",
       "      <th>75%</th>\n",
       "      <td>4.743250</td>\n",
       "      <td>37.000000</td>\n",
       "      <td>6.052381</td>\n",
       "      <td>1.099526</td>\n",
       "      <td>1725.000000</td>\n",
       "      <td>3.282261</td>\n",
       "      <td>37.710000</td>\n",
       "      <td>-118.010000</td>\n",
       "      <td>2.647250</td>\n",
       "    </tr>\n",
       "    <tr>\n",
       "      <th>max</th>\n",
       "      <td>15.000100</td>\n",
       "      <td>52.000000</td>\n",
       "      <td>141.909091</td>\n",
       "      <td>34.066667</td>\n",
       "      <td>35682.000000</td>\n",
       "      <td>1243.333333</td>\n",
       "      <td>41.950000</td>\n",
       "      <td>-114.310000</td>\n",
       "      <td>5.000010</td>\n",
       "    </tr>\n",
       "  </tbody>\n",
       "</table>\n",
       "</div>"
      ],
      "text/plain": [
       "             MedInc      HouseAge      AveRooms     AveBedrms    Population  \\\n",
       "count  20640.000000  20640.000000  20640.000000  20640.000000  20640.000000   \n",
       "mean       3.870671     28.639486      5.429000      1.096675   1425.476744   \n",
       "std        1.899822     12.585558      2.474173      0.473911   1132.462122   \n",
       "min        0.499900      1.000000      0.846154      0.333333      3.000000   \n",
       "25%        2.563400     18.000000      4.440716      1.006079    787.000000   \n",
       "50%        3.534800     29.000000      5.229129      1.048780   1166.000000   \n",
       "75%        4.743250     37.000000      6.052381      1.099526   1725.000000   \n",
       "max       15.000100     52.000000    141.909091     34.066667  35682.000000   \n",
       "\n",
       "           AveOccup      Latitude     Longitude   MedHouseVal  \n",
       "count  20640.000000  20640.000000  20640.000000  20640.000000  \n",
       "mean       3.070655     35.631861   -119.569704      2.068558  \n",
       "std       10.386050      2.135952      2.003532      1.153956  \n",
       "min        0.692308     32.540000   -124.350000      0.149990  \n",
       "25%        2.429741     33.930000   -121.800000      1.196000  \n",
       "50%        2.818116     34.260000   -118.490000      1.797000  \n",
       "75%        3.282261     37.710000   -118.010000      2.647250  \n",
       "max     1243.333333     41.950000   -114.310000      5.000010  "
      ]
     },
     "execution_count": 33,
     "metadata": {},
     "output_type": "execute_result"
    }
   ],
   "source": [
    "from sklearn.datasets import fetch_california_housing\n",
    "\n",
    "housing_data = fetch_california_housing(as_frame=True).frame\n",
    "housing_data.describe()"
   ]
  },
  {
   "cell_type": "markdown",
   "id": "ef55df0f",
   "metadata": {
    "slideshow": {
     "slide_type": "slide"
    }
   },
   "source": [
    "#### With a cursory glance at the data..."
   ]
  },
  {
   "cell_type": "code",
   "execution_count": 34,
   "id": "8a615abb",
   "metadata": {
    "lines_to_next_cell": 1
   },
   "outputs": [
    {
     "data": {
      "text/html": [
       "<div>\n",
       "<style scoped>\n",
       "    .dataframe tbody tr th:only-of-type {\n",
       "        vertical-align: middle;\n",
       "    }\n",
       "\n",
       "    .dataframe tbody tr th {\n",
       "        vertical-align: top;\n",
       "    }\n",
       "\n",
       "    .dataframe thead th {\n",
       "        text-align: right;\n",
       "    }\n",
       "</style>\n",
       "<table border=\"1\" class=\"dataframe\">\n",
       "  <thead>\n",
       "    <tr style=\"text-align: right;\">\n",
       "      <th></th>\n",
       "      <th>MedInc</th>\n",
       "      <th>HouseAge</th>\n",
       "      <th>AveRooms</th>\n",
       "      <th>AveBedrms</th>\n",
       "      <th>Population</th>\n",
       "      <th>AveOccup</th>\n",
       "      <th>Latitude</th>\n",
       "      <th>Longitude</th>\n",
       "      <th>MedHouseVal</th>\n",
       "    </tr>\n",
       "  </thead>\n",
       "  <tbody>\n",
       "    <tr>\n",
       "      <th>0</th>\n",
       "      <td>8.3252</td>\n",
       "      <td>41.0</td>\n",
       "      <td>6.984127</td>\n",
       "      <td>1.023810</td>\n",
       "      <td>322.0</td>\n",
       "      <td>2.555556</td>\n",
       "      <td>37.88</td>\n",
       "      <td>-122.23</td>\n",
       "      <td>4.526</td>\n",
       "    </tr>\n",
       "    <tr>\n",
       "      <th>1</th>\n",
       "      <td>8.3014</td>\n",
       "      <td>21.0</td>\n",
       "      <td>6.238137</td>\n",
       "      <td>0.971880</td>\n",
       "      <td>2401.0</td>\n",
       "      <td>2.109842</td>\n",
       "      <td>37.86</td>\n",
       "      <td>-122.22</td>\n",
       "      <td>3.585</td>\n",
       "    </tr>\n",
       "    <tr>\n",
       "      <th>2</th>\n",
       "      <td>7.2574</td>\n",
       "      <td>52.0</td>\n",
       "      <td>8.288136</td>\n",
       "      <td>1.073446</td>\n",
       "      <td>496.0</td>\n",
       "      <td>2.802260</td>\n",
       "      <td>37.85</td>\n",
       "      <td>-122.24</td>\n",
       "      <td>3.521</td>\n",
       "    </tr>\n",
       "    <tr>\n",
       "      <th>3</th>\n",
       "      <td>5.6431</td>\n",
       "      <td>52.0</td>\n",
       "      <td>5.817352</td>\n",
       "      <td>1.073059</td>\n",
       "      <td>558.0</td>\n",
       "      <td>2.547945</td>\n",
       "      <td>37.85</td>\n",
       "      <td>-122.25</td>\n",
       "      <td>3.413</td>\n",
       "    </tr>\n",
       "    <tr>\n",
       "      <th>4</th>\n",
       "      <td>3.8462</td>\n",
       "      <td>52.0</td>\n",
       "      <td>6.281853</td>\n",
       "      <td>1.081081</td>\n",
       "      <td>565.0</td>\n",
       "      <td>2.181467</td>\n",
       "      <td>37.85</td>\n",
       "      <td>-122.25</td>\n",
       "      <td>3.422</td>\n",
       "    </tr>\n",
       "  </tbody>\n",
       "</table>\n",
       "</div>"
      ],
      "text/plain": [
       "   MedInc  HouseAge  AveRooms  AveBedrms  Population  AveOccup  Latitude  \\\n",
       "0  8.3252      41.0  6.984127   1.023810       322.0  2.555556     37.88   \n",
       "1  8.3014      21.0  6.238137   0.971880      2401.0  2.109842     37.86   \n",
       "2  7.2574      52.0  8.288136   1.073446       496.0  2.802260     37.85   \n",
       "3  5.6431      52.0  5.817352   1.073059       558.0  2.547945     37.85   \n",
       "4  3.8462      52.0  6.281853   1.081081       565.0  2.181467     37.85   \n",
       "\n",
       "   Longitude  MedHouseVal  \n",
       "0    -122.23        4.526  \n",
       "1    -122.22        3.585  \n",
       "2    -122.24        3.521  \n",
       "3    -122.25        3.413  \n",
       "4    -122.25        3.422  "
      ]
     },
     "execution_count": 34,
     "metadata": {},
     "output_type": "execute_result"
    }
   ],
   "source": [
    "housing_data.head(5)"
   ]
  },
  {
   "cell_type": "markdown",
   "id": "2a9e9e2e",
   "metadata": {
    "slideshow": {
     "slide_type": "slide"
    }
   },
   "source": [
    "#### We can start defining a basic schema"
   ]
  },
  {
   "cell_type": "code",
   "execution_count": 35,
   "id": "f2caf66e",
   "metadata": {},
   "outputs": [
    {
     "name": "stdout",
     "output_type": "stream",
     "text": [
      "validation passed ✅\n"
     ]
    }
   ],
   "source": [
    "class HousingData(pa.SchemaModel):\n",
    "\n",
    "    # features\n",
    "    MedInc: Series[float] = pa.Field(in_range={\"min_value\": 0, \"max_value\": 100})\n",
    "    HouseAge: Series[float] = pa.Field(in_range={\"min_value\": 0, \"max_value\": 100})\n",
    "    AveRooms: Series[float] = pa.Field(in_range={\"min_value\": 0, \"max_value\": 1_000})\n",
    "    AveBedrms: Series[float] = pa.Field(in_range={\"min_value\": 0, \"max_value\": 100})\n",
    "    Population: Series[float] = pa.Field(in_range={\"min_value\": 0, \"max_value\": 100_000})\n",
    "    AveOccup: Series[float] = pa.Field(in_range={\"min_value\": 0, \"max_value\": 10_000})\n",
    "    Latitude: Series[float] = pa.Field(in_range={\"min_value\": -90, \"max_value\": 90})\n",
    "    Longitude: Series[float] = pa.Field(in_range={\"min_value\": -180, \"max_value\": 180})\n",
    "\n",
    "    # target variable! 🎯\n",
    "    MedHouseVal: Series[float] = pa.Field(in_range={\"min_value\": 0, \"max_value\": 100})\n",
    "\n",
    "    class Config:\n",
    "        coerce = True\n",
    "\n",
    "\n",
    "@pa.check_types\n",
    "def read_data() -> DataFrame[HousingData]:\n",
    "    return fetch_california_housing(as_frame=True).frame\n",
    "\n",
    "\n",
    "housing_data = read_data()\n",
    "print(\"validation passed ✅\")"
   ]
  },
  {
   "cell_type": "markdown",
   "id": "5a568046",
   "metadata": {
    "slideshow": {
     "slide_type": "slide"
    }
   },
   "source": [
    "### Analysis Pipeline\n",
    "\n",
    "Hypothesis: Median income is positively correlated with Median House Value"
   ]
  },
  {
   "cell_type": "code",
   "execution_count": 36,
   "id": "a2b6664f",
   "metadata": {
    "lines_to_next_cell": 2
   },
   "outputs": [
    {
     "data": {
      "text/markdown": [
       "Pearson correlation coefficient = 0.688075"
      ],
      "text/plain": [
       "<IPython.core.display.Markdown object>"
      ]
     },
     "metadata": {},
     "output_type": "display_data"
    },
    {
     "data": {
      "image/png": "[encoded data removed]",
      "text/plain": [
       "<Figure size 432x288 with 1 Axes>"
      ]
     },
     "metadata": {
      "needs_background": "light"
     },
     "output_type": "display_data"
    }
   ],
   "source": [
    "def analyze_data(housing_data, var1, var2):\n",
    "    correlation_coef = housing_data[[var1, var2]].corr().at[var1, var2]\n",
    "    display(Markdown(f\"Pearson correlation coefficient = {correlation_coef:0.06f}\"))\n",
    "    housing_data.plot.scatter(var1, var2, s=1, alpha=0.5)\n",
    "\n",
    "analyze_data(housing_data, \"MedInc\", \"MedHouseVal\")"
   ]
  },
  {
   "cell_type": "markdown",
   "id": "6a48cca3",
   "metadata": {
    "slideshow": {
     "slide_type": "slide"
    }
   },
   "source": [
    "#### Bake in statistical hypothesis testing into your pipeline\n",
    "\n",
    "Easily create re-usable custom checks"
   ]
  },
  {
   "cell_type": "code",
   "execution_count": 37,
   "id": "29b736b3",
   "metadata": {},
   "outputs": [],
   "source": [
    "from scipy.stats import pearsonr\n",
    "import pandera.extensions as extensions\n",
    "\n",
    "@extensions.register_check_method(\n",
    "    statistics=[\"var1\", \"var2\", \"alpha\"],\n",
    "    supported_types=[pd.DataFrame]\n",
    ")\n",
    "def is_positively_correlated(\n",
    "    df: pd.DataFrame,\n",
    "    *,\n",
    "    var1: str,\n",
    "    var2: str,\n",
    "    alpha: float = 0.01,\n",
    "):\n",
    "    \"\"\"Perform Pearson correlation hypothesis test.\"\"\"\n",
    "\n",
    "    r, pvalue = pearsonr(df[var1], df[var2])\n",
    "    passed = r > 0 and pvalue <= alpha\n",
    "\n",
    "    pretty_pvalue = np.format_float_scientific(pvalue)\n",
    "    if passed:\n",
    "        print(f\"✅ {var1} is positively correlated with {var2} with r = {r:0.04f}; pvalue = {pretty_pvalue}\")\n",
    "    else:\n",
    "        print(f\"❌ {var1} not correlated with {var2} with with r = {r:0.04f}; pvalue = {pretty_pvalue}\")\n",
    "\n",
    "    return passed"
   ]
  },
  {
   "cell_type": "markdown",
   "id": "b725c2db",
   "metadata": {
    "slideshow": {
     "slide_type": "slide"
    }
   },
   "source": [
    "#### Dynamically create schemas as statistical hypothesis validators"
   ]
  },
  {
   "cell_type": "code",
   "execution_count": 38,
   "id": "8719ac22",
   "metadata": {
    "lines_to_next_cell": 1
   },
   "outputs": [
    {
     "name": "stdout",
     "output_type": "stream",
     "text": [
      "✅ MedInc is positively correlated with MedHouseVal with r = 0.6881; pvalue = 0.e+00\n"
     ]
    },
    {
     "data": {
      "text/markdown": [
       "Pearson correlation coefficient = 0.688075"
      ],
      "text/plain": [
       "<IPython.core.display.Markdown object>"
      ]
     },
     "metadata": {},
     "output_type": "display_data"
    },
    {
     "data": {
      "image/png": "[encoded data removed]",
      "text/plain": [
       "<Figure size 432x288 with 1 Axes>"
      ]
     },
     "metadata": {
      "needs_background": "light"
     },
     "output_type": "display_data"
    }
   ],
   "source": [
    "def analyze_data(housing_data, var1: str, var2: str):\n",
    "\n",
    "    class HousingDataHypothesis(HousingData):\n",
    "        class Config:\n",
    "            coerce = True\n",
    "            is_positively_correlated = {\n",
    "                \"var1\": var1,\n",
    "                \"var2\": var2,\n",
    "                \"alpha\": 0.01,\n",
    "            }\n",
    "\n",
    "    housing_data = HousingDataHypothesis.validate(housing_data)\n",
    "    correlation_coef = housing_data[[var1, var2]].corr().at[var1, var2]\n",
    "    display(Markdown(f\"Pearson correlation coefficient = {correlation_coef:0.06f}\"))\n",
    "    housing_data.plot.scatter(var1, var2, s=1, alpha=0.5)\n",
    "\n",
    "\n",
    "analyze_data(housing_data, \"MedInc\", \"MedHouseVal\")"
   ]
  },
  {
   "cell_type": "markdown",
   "id": "73df6763",
   "metadata": {},
   "source": [
    "> 💪 Exercise: Create some new cells below to explore the housing data set some more and formulate a hypothesis about it. Then, create a custom check extension using `@extensions.register_check_method` to test that hypothesis. Finally, define a schema that uses that newly created check in a `SchemaModel` subclass to test the hypothesis."
   ]
  },
  {
   "cell_type": "markdown",
   "id": "102bf7fd",
   "metadata": {
    "slideshow": {
     "slide_type": "slide"
    }
   },
   "source": [
    "#### The Analysis Pipeline\n",
    "\n",
    "Every time this runs, pandera makes sure all the assumptions encoded in the schemas\n",
    "hold true."
   ]
  },
  {
   "cell_type": "code",
   "execution_count": 39,
   "id": "ecf42aef",
   "metadata": {
    "lines_to_next_cell": 2
   },
   "outputs": [
    {
     "name": "stdout",
     "output_type": "stream",
     "text": [
      "✅ MedInc is positively correlated with MedHouseVal with r = 0.6881; pvalue = 0.e+00\n"
     ]
    },
    {
     "data": {
      "text/markdown": [
       "Pearson correlation coefficient = 0.688075"
      ],
      "text/plain": [
       "<IPython.core.display.Markdown object>"
      ]
     },
     "metadata": {},
     "output_type": "display_data"
    },
    {
     "data": {
      "image/png": "[encoded data removed]",
      "text/plain": [
       "<Figure size 432x288 with 1 Axes>"
      ]
     },
     "metadata": {
      "needs_background": "light"
     },
     "output_type": "display_data"
    }
   ],
   "source": [
    "def run_analysis_pipeline(var1: str, var2: str):\n",
    "    data = read_data()\n",
    "    analyze_data(data, var1, var2)\n",
    "\n",
    "\n",
    "run_analysis_pipeline(\"MedInc\", \"MedHouseVal\")"
   ]
  },
  {
   "cell_type": "markdown",
   "id": "6dadbff1",
   "metadata": {
    "slideshow": {
     "slide_type": "slide"
    }
   },
   "source": [
    "# 🤖 Example 2: Validate your Machine Learning Pipeline"
   ]
  },
  {
   "cell_type": "markdown",
   "id": "b57d8399",
   "metadata": {
    "slideshow": {
     "slide_type": "slide"
    }
   },
   "source": [
    "### Prediction Task:\n",
    "\n",
    "From all the features, predict the median house value target `MedHouseVal`."
   ]
  },
  {
   "cell_type": "code",
   "execution_count": 40,
   "id": "91fdb1c6",
   "metadata": {},
   "outputs": [],
   "source": [
    "from typing import Tuple\n",
    "\n",
    "from sklearn.linear_model import LinearRegression\n",
    "from sklearn.metrics import r2_score\n",
    "from sklearn.model_selection import train_test_split\n",
    "\n",
    "\n",
    "# ⚠️ This is the most critical part to check\n",
    "@pa.check_types\n",
    "def split_data(\n",
    "    data: DataFrame[HousingData],\n",
    "    test_size: float = 0.2,\n",
    ") -> Tuple[DataFrame[HousingData], DataFrame[HousingData]]:\n",
    "    return train_test_split(data, test_size=test_size)\n",
    "\n",
    "\n",
    "# 👉 Notice that I don't use @pa.check_types here\n",
    "def parse_data(data: DataFrame[HousingData], target: str) -> Tuple[DataFrame[HousingData], pd.Series]:\n",
    "    features = [column for column in data if column != target]\n",
    "    return data[features], data[target]\n",
    "\n",
    "\n",
    "# 🔽 At this point onward the type annotations are for type linters like mypy\n",
    "def train(features: pd.DataFrame, target: pd.Series) -> LinearRegression:\n",
    "    model = LinearRegression()\n",
    "    return model.fit(features, target)\n",
    "\n",
    "\n",
    "def evaluate(model: LinearRegression, features: pd.DataFrame, target: pd.Series) -> float:\n",
    "    prediction = model.predict(features)\n",
    "    return r2_score(target, prediction)"
   ]
  },
  {
   "cell_type": "markdown",
   "id": "7cef5df7",
   "metadata": {
    "slideshow": {
     "slide_type": "slide"
    }
   },
   "source": [
    "#### Running a validated training pipeline"
   ]
  },
  {
   "cell_type": "code",
   "execution_count": 41,
   "id": "ff69f5c7",
   "metadata": {
    "lines_to_next_cell": 2
   },
   "outputs": [
    {
     "name": "stdout",
     "output_type": "stream",
     "text": [
      "🏋️‍♂️ Train R^2 score: 0.605120\n",
      "📝 Test R^2 score: 0.610340\n"
     ]
    },
    {
     "data": {
      "text/html": [
       "<style>#sk-container-id-1 {color: black;background-color: white;}#sk-container-id-1 pre{padding: 0;}#sk-container-id-1 div.sk-toggleable {background-color: white;}#sk-container-id-1 label.sk-toggleable__label {cursor: pointer;display: block;width: 100%;margin-bottom: 0;padding: 0.3em;box-sizing: border-box;text-align: center;}#sk-container-id-1 label.sk-toggleable__label-arrow:before {content: \"▸\";float: left;margin-right: 0.25em;color: #696969;}#sk-container-id-1 label.sk-toggleable__label-arrow:hover:before {color: black;}#sk-container-id-1 div.sk-estimator:hover label.sk-toggleable__label-arrow:before {color: black;}#sk-container-id-1 div.sk-toggleable__content {max-height: 0;max-width: 0;overflow: hidden;text-align: left;background-color: #f0f8ff;}#sk-container-id-1 div.sk-toggleable__content pre {margin: 0.2em;color: black;border-radius: 0.25em;background-color: #f0f8ff;}#sk-container-id-1 input.sk-toggleable__control:checked~div.sk-toggleable__content {max-height: 200px;max-width: 100%;overflow: auto;}#sk-container-id-1 input.sk-toggleable__control:checked~label.sk-toggleable__label-arrow:before {content: \"▾\";}#sk-container-id-1 div.sk-estimator input.sk-toggleable__control:checked~label.sk-toggleable__label {background-color: #d4ebff;}#sk-container-id-1 div.sk-label input.sk-toggleable__control:checked~label.sk-toggleable__label {background-color: #d4ebff;}#sk-container-id-1 input.sk-hidden--visually {border: 0;clip: rect(1px 1px 1px 1px);clip: rect(1px, 1px, 1px, 1px);height: 1px;margin: -1px;overflow: hidden;padding: 0;position: absolute;width: 1px;}#sk-container-id-1 div.sk-estimator {font-family: monospace;background-color: #f0f8ff;border: 1px dotted black;border-radius: 0.25em;box-sizing: border-box;margin-bottom: 0.5em;}#sk-container-id-1 div.sk-estimator:hover {background-color: #d4ebff;}#sk-container-id-1 div.sk-parallel-item::after {content: \"\";width: 100%;border-bottom: 1px solid gray;flex-grow: 1;}#sk-container-id-1 div.sk-label:hover label.sk-toggleable__label {background-color: #d4ebff;}#sk-container-id-1 div.sk-serial::before {content: \"\";position: absolute;border-left: 1px solid gray;box-sizing: border-box;top: 0;bottom: 0;left: 50%;z-index: 0;}#sk-container-id-1 div.sk-serial {display: flex;flex-direction: column;align-items: center;background-color: white;padding-right: 0.2em;padding-left: 0.2em;position: relative;}#sk-container-id-1 div.sk-item {position: relative;z-index: 1;}#sk-container-id-1 div.sk-parallel {display: flex;align-items: stretch;justify-content: center;background-color: white;position: relative;}#sk-container-id-1 div.sk-item::before, #sk-container-id-1 div.sk-parallel-item::before {content: \"\";position: absolute;border-left: 1px solid gray;box-sizing: border-box;top: 0;bottom: 0;left: 50%;z-index: -1;}#sk-container-id-1 div.sk-parallel-item {display: flex;flex-direction: column;z-index: 1;position: relative;background-color: white;}#sk-container-id-1 div.sk-parallel-item:first-child::after {align-self: flex-end;width: 50%;}#sk-container-id-1 div.sk-parallel-item:last-child::after {align-self: flex-start;width: 50%;}#sk-container-id-1 div.sk-parallel-item:only-child::after {width: 0;}#sk-container-id-1 div.sk-dashed-wrapped {border: 1px dashed gray;margin: 0 0.4em 0.5em 0.4em;box-sizing: border-box;padding-bottom: 0.4em;background-color: white;}#sk-container-id-1 div.sk-label label {font-family: monospace;font-weight: bold;display: inline-block;line-height: 1.2em;}#sk-container-id-1 div.sk-label-container {text-align: center;}#sk-container-id-1 div.sk-container {/* jupyter's `normalize.less` sets `[hidden] { display: none; }` but bootstrap.min.css set `[hidden] { display: none !important; }` so we also need the `!important` here to be able to override the default hidden behavior on the sphinx rendered scikit-learn.org. See: https://github.com/scikit-learn/scikit-learn/issues/21755 */display: inline-block !important;position: relative;}#sk-container-id-1 div.sk-text-repr-fallback {display: none;}</style><div id=\"sk-container-id-1\" class=\"sk-top-container\"><div class=\"sk-text-repr-fallback\"><pre>LinearRegression()</pre><b>In a Jupyter environment, please rerun this cell to show the HTML representation or trust the notebook. <br />On GitHub, the HTML representation is unable to render, please try loading this page with nbviewer.org.</b></div><div class=\"sk-container\" hidden><div class=\"sk-item\"><div class=\"sk-estimator sk-toggleable\"><input class=\"sk-toggleable__control sk-hidden--visually\" id=\"sk-estimator-id-1\" type=\"checkbox\" checked><label for=\"sk-estimator-id-1\" class=\"sk-toggleable__label sk-toggleable__label-arrow\">LinearRegression</label><div class=\"sk-toggleable__content\"><pre>LinearRegression()</pre></div></div></div></div></div>"
      ],
      "text/plain": [
       "LinearRegression()"
      ]
     },
     "execution_count": 41,
     "metadata": {},
     "output_type": "execute_result"
    }
   ],
   "source": [
    "def run_training_pipeline(data: pd.DataFrame, target: str):\n",
    "    train_data, test_data = split_data(data)\n",
    "    train_features, train_target = parse_data(train_data, target)\n",
    "\n",
    "    # train a model\n",
    "    model = train(train_features, train_target)\n",
    "\n",
    "    # evaluate\n",
    "    train_r2 = evaluate(model, train_features, train_target)\n",
    "    test_r2 = evaluate(model, *parse_data(test_data, target))\n",
    "\n",
    "    return model, train_r2, test_r2\n",
    "\n",
    "\n",
    "model, train_r2, test_r2 = run_training_pipeline(read_data(), \"MedHouseVal\")\n",
    "print(f\"🏋️‍♂️ Train R^2 score: {train_r2:0.6f}\")\n",
    "print(f\"📝 Test R^2 score: {test_r2:0.6f}\")\n",
    "model"
   ]
  },
  {
   "cell_type": "markdown",
   "id": "21fae782",
   "metadata": {
    "slideshow": {
     "slide_type": "slide"
    }
   },
   "source": [
    "#### Unit testing a training pipeline\n",
    "\n",
    "Synthesize mock training data so that you don't have to hand-craft dataframes 🤯"
   ]
  },
  {
   "cell_type": "code",
   "execution_count": null,
   "id": "2f17d858",
   "metadata": {
    "lines_to_next_cell": 2
   },
   "outputs": [],
   "source": [
    "from hypothesis import settings\n",
    "\n",
    "prediction_schema = pa.SeriesSchema(\n",
    "    float,\n",
    "    nullable=False,\n",
    ")\n",
    "\n",
    "\n",
    "@given(HousingData.strategy(size=20))\n",
    "@settings(max_examples=3)\n",
    "def test_run_training_pipeline(data):\n",
    "    target = \"MedHouseVal\"\n",
    "    model, *_ = run_training_pipeline(data, target)\n",
    "    features, _ = parse_data(data, target)\n",
    "    predictions = pd.Series(model.predict(features))\n",
    "\n",
    "    # validate predictions\n",
    "    prediction_schema(predictions)\n",
    "\n",
    "\n",
    "def run_test_suite():\n",
    "    test_run_training_pipeline()\n",
    "    print(\"✅ training pipeline test suite passed!\")\n",
    "\n",
    "\n",
    "run_test_suite()"
   ]
  },
  {
   "cell_type": "markdown",
   "id": "10f253be",
   "metadata": {},
   "source": [
    "> 💪 Exercise: Take a look at the [`SeriesSchema`](https://pandera.readthedocs.io/en/stable/series_schemas.html) documentation and modify the `prediction_schema` above that includes a custom `Check` that makes sure that the 95% of the predictions are positive values."
   ]
  },
  {
   "cell_type": "markdown",
   "id": "2b199980",
   "metadata": {
    "slideshow": {
     "slide_type": "slide"
    }
   },
   "source": [
    "# ⭐️ Conclusion: How can I start using Pandera in my work?"
   ]
  },
  {
   "cell_type": "markdown",
   "id": "ff6d6da1",
   "metadata": {
    "slideshow": {
     "slide_type": "slide"
    }
   },
   "source": [
    "### Incrementally adopt `pandera` into your workflow"
   ]
  },
  {
   "cell_type": "markdown",
   "id": "c8b40f8c",
   "metadata": {
    "slideshow": {
     "slide_type": "fragement"
    }
   },
   "source": [
    "> 🧠 → 📝 Encode the domain knowledge that you build up during the development and exploration process into schemas."
   ]
  },
  {
   "cell_type": "markdown",
   "id": "e845d246",
   "metadata": {
    "slideshow": {
     "slide_type": "fragment"
    }
   },
   "source": [
    "> 🥾✨ If you're in a hurry, use [`pandera.infer_schema`](https://pandera.readthedocs.io/en/stable/schema_inference.html)\n",
    "> to bootstrap a schema and refine it over time."
   ]
  },
  {
   "cell_type": "markdown",
   "id": "80a5c577",
   "metadata": {
    "slideshow": {
     "slide_type": "fragment"
    }
   },
   "source": [
    "> ❗️ Identify the critical functions in your data processing pipeline and add `@pa.check_types` decorators as\n",
    "checkpoints."
   ]
  },
  {
   "cell_type": "markdown",
   "id": "e950689a",
   "metadata": {
    "slideshow": {
     "slide_type": "fragment"
    }
   },
   "source": [
    "> 🔩 Codify data quality checks that are specific to your problem domain by creating reusable custom validation rules\n",
    "> via `@pandera.extensions.register_check_method`."
   ]
  },
  {
   "cell_type": "markdown",
   "id": "212c0f1f",
   "metadata": {
    "slideshow": {
     "slide_type": "fragment"
    }
   },
   "source": [
    "> 🔄 Reuse schemas for runtime validation or test-time validation."
   ]
  },
  {
   "cell_type": "markdown",
   "id": "694173c1",
   "metadata": {
    "slideshow": {
     "slide_type": "fragment"
    }
   },
   "source": [
    "> 🤩 Be more confident in the correctness of your analysis/model with programmatically enforced, self-documenting code."
   ]
  },
  {
   "cell_type": "markdown",
   "id": "b1a4cc05",
   "metadata": {
    "slideshow": {
     "slide_type": "slide"
    }
   },
   "source": [
    "## 🛣 Future Roadmap\n",
    "\n",
    "- 📏 **Extensibility:** getting support for other schema formats and data container objects e.g.\n",
    "  `xarray`, `jsonschema`, `cudf`, `pyarrow`, and an extension API for arbitrary data containers.\n",
    "- 💻 **UX:** better error-reporting, more built-in checks, statistical hypothesis checks, conditional validation, and more!\n",
    "- 🤝 **Interoperability:** tighter integrations with the python ecosystem, e.g. `fastapi`, `pydantic`, `pytest`"
   ]
  },
  {
   "cell_type": "markdown",
   "id": "32eb3481",
   "metadata": {
    "slideshow": {
     "slide_type": "slide"
    }
   },
   "source": [
    "# Join the Community!\n",
    "\n",
    "![badge](https://img.shields.io/github/stars/pandera-dev/pandera?style=social)\n",
    "[![badge](https://img.shields.io/pypi/pyversions/pandera.svg)](https://pypi.python.org/pypi/pandera/)\n",
    "[![badge](https://img.shields.io/pypi/v/pandera.svg)](https://pypi.org/project/pandera/)\n",
    "![badge](https://img.shields.io/github/contributors/pandera-dev/pandera)\n",
    "[![badge](https://pepy.tech/badge/pandera)](https://pepy.tech/project/pandera)\n",
    "[![badge](https://pepy.tech/badge/pandera/month)](https://pepy.tech/project/pandera)\n",
    "[![badge](https://img.shields.io/badge/discord-chat-purple?color=%235765F2&label=discord&logo=discord)](https://discord.gg/vyanhWuaKB)\n",
    "\n",
    "\n",
    "- **Twitter**: [@cosmicbboy](https://twitter.com/cosmicBboy)\n",
    "- **Discord**: https://discord.gg/vyanhWuaKB\n",
    "- **Email**: [niels@union.ai](mailto:niels@union.ai)\n",
    "- **Repo**: https://github.com/unionai-oss/pandera\n",
    "- **Docs**: https://pandera.readthedocs.io\n",
    "- **Contributing Guide**: https://pandera.readthedocs.io/en/stable/CONTRIBUTING.html\n",
    "- **Become a Sponsor**: https://github.com/sponsors/cosmicBboy"
   ]
  }
 ],
 "metadata": {
  "jupytext": {
   "encoding": "# -*- coding: utf-8 -*-",
   "formats": "ipynb,py:percent"
  },
  "kernelspec": {
   "display_name": "pandera-presentations",
   "language": "python",
   "name": "pandera-presentations"
  },
  "language_info": {
   "codemirror_mode": {
    "name": "ipython",
    "version": 3
   },
   "file_extension": ".py",
   "mimetype": "text/x-python",
   "name": "python",
   "nbconvert_exporter": "python",
   "pygments_lexer": "ipython3",
   "version": "3.9.13"
  }
 },
 "nbformat": 4,
 "nbformat_minor": 5
}
